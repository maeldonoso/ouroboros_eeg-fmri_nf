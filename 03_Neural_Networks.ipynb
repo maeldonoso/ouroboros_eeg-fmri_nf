{
 "cells": [
  {
   "cell_type": "markdown",
   "metadata": {},
   "source": [
    "# **Ouroboros EEG-fMRI NF: Predicting EEG activity, fMRI activity and NF scores**\n",
    "\n",
    "#### Version: 28th October 2022\n",
    "\n",
    "==============================================================================================\n",
    "\n",
    "Project developed by Maël Donoso, Ph.D. in Cognitive and Computational Neuroscience. Affiliations: Ouroboros Neurotechnologies (https://ouroboros-neurotechnologies.com/), Institut Lémanique du Cerveau (https://institut-cerveau.ch/), Policlinique Ostéopathique de Lausanne (https://policlinique-osteopathique-lausanne.ch/). "
   ]
  },
  {
   "cell_type": "markdown",
   "metadata": {},
   "source": [
    "==============================================================================================\n",
    "\n",
    "This project is presented through six Notebooks:\n",
    "\n",
    "*01: Data Analysis*\n",
    "\n",
    "*02: Classification* (all classification models except neural networks)\n",
    "\n",
    "***03: Neural Networks***\n",
    "\n",
    "*04: Regression on fMRI Data*\n",
    "\n",
    "*05: Regression on EEG Data*\n",
    "\n",
    "*06: Results*\n",
    "\n",
    "=============================================================================================="
   ]
  },
  {
   "cell_type": "markdown",
   "metadata": {},
   "source": [
    "### Notebook 03\n",
    "\n",
    "# **Neural Networks**"
   ]
  },
  {
   "cell_type": "markdown",
   "metadata": {},
   "source": [
    "## **1. Introduction to Neural Networks**\n",
    "\n",
    "### 1.1 Objective\n",
    "\n",
    "The objective of this project is to **explore several ways to apply machine learning models to a given EEG-fMRI NF dataset, and to evaluate which ones result in interesting predictions**. In this Notebook, we will focus on neural networks, and apply them to the fMRI data with the original voxel size, and the EEG bandpowers obtained from all channels, for a single subject. Like in the previous Notebook, we will evaluate if our machine learning models are able to predict the **brain state** of the subject, i.e. when he/she is at rest versus when he/she is performing the NF task. This time, we will also take a step further, and see if we can predict the specific experimental block of 20 seconds during which the fMRI image was acquired or the EEG bandpowers computed, and if we can discriminate between the beginning and the end of the rest and task blocks. \n",
    "\n",
    "### 1.2 Models\n",
    "\n",
    "We will use **dense neural networks**, with one or two layers, and store the test score. For the neural networks with two layers, we will add both a dropout and a L2 regularization to the hidden layer. \n",
    "\n",
    "### 1.3 Data import\n",
    "\n",
    "Here we import the **fMRI data with the original voxel size** and the **EEG bandpowers obtained from all channels**, for a single subject. "
   ]
  },
  {
   "cell_type": "code",
   "execution_count": 1,
   "metadata": {},
   "outputs": [],
   "source": [
    "import os\n",
    "import pickle\n",
    "import numpy as np\n",
    "import pandas as pd\n",
    "import matplotlib.pyplot as plt\n",
    "%matplotlib inline"
   ]
  },
  {
   "cell_type": "code",
   "execution_count": 2,
   "metadata": {},
   "outputs": [],
   "source": [
    "# Define the raw data path. \n",
    "data_path = '../ouroboros_eeg-fmri_nf_raw_data/'\n",
    "\n",
    "# Define the preprocessed data path. \n",
    "preprocessed_data_path = '../ouroboros_eeg-fmri_nf_preprocessed_data/'\n",
    "\n",
    "# Define the results path. If empty, the results will be saved in the current directory. \n",
    "results_path = ''"
   ]
  },
  {
   "cell_type": "code",
   "execution_count": 3,
   "metadata": {},
   "outputs": [
    {
     "name": "stdout",
     "output_type": "stream",
     "text": [
      "['sub-xp101', 'sub-xp102', 'sub-xp103', 'sub-xp104', 'sub-xp105', 'sub-xp106', 'sub-xp107', 'sub-xp108', 'sub-xp109', 'sub-xp110']\n"
     ]
    }
   ],
   "source": [
    "# Define the list of subjects. \n",
    "subjects = []\n",
    "\n",
    "for subject_index in range(10):\n",
    "    if subject_index < 9:\n",
    "        subjects.append('sub-xp10' + str(subject_index + 1))\n",
    "    else:\n",
    "        subjects.append('sub-xp1' + str(subject_index + 1))\n",
    "\n",
    "print(subjects)"
   ]
  },
  {
   "cell_type": "code",
   "execution_count": 4,
   "metadata": {},
   "outputs": [
    {
     "data": {
      "text/plain": [
       "'sub-xp101'"
      ]
     },
     "execution_count": 4,
     "metadata": {},
     "output_type": "execute_result"
    }
   ],
   "source": [
    "# Define an example subject. \n",
    "subject_index = subjects[0]\n",
    "subject_index"
   ]
  },
  {
   "cell_type": "code",
   "execution_count": 5,
   "metadata": {},
   "outputs": [
    {
     "data": {
      "text/plain": [
       "(106, 106, 32, 200)"
      ]
     },
     "execution_count": 5,
     "metadata": {},
     "output_type": "execute_result"
    }
   ],
   "source": [
    "# Load the fMRI data with the original voxel size for this subject. \n",
    "with np.load(preprocessed_data_path + 'predictors_fMRI.npz', allow_pickle = False) as npz_file:\n",
    "    predictors_fMRI_single_subject = npz_file['sub_' + str(subjects.index(subject_index) + 1)]\n",
    "    \n",
    "# Display the shape of the array. \n",
    "predictors_fMRI_single_subject.shape"
   ]
  },
  {
   "cell_type": "code",
   "execution_count": 6,
   "metadata": {},
   "outputs": [
    {
     "data": {
      "text/plain": [
       "(200, 100674)"
      ]
     },
     "execution_count": 6,
     "metadata": {},
     "output_type": "execute_result"
    }
   ],
   "source": [
    "# Load the data, and retrieve the number and position of non-NaN voxels per scan. \n",
    "image_data = predictors_fMRI_single_subject\n",
    "non_nan_indexes = ~np.isnan(image_data[:, :, :, 0])\n",
    "nb_non_nan = np.sum(non_nan_indexes)\n",
    "\n",
    "# Retrieve the number of scans, then create a NumPy array with one row per scan and one column per non-NaN voxel. \n",
    "nb_scans = image_data.shape[3]\n",
    "predictors_fMRI_single_subject_flatten = np.empty((nb_scans, nb_non_nan))\n",
    "\n",
    "# Fill in the array. \n",
    "for scan in range(nb_scans):\n",
    "    flatten_image = image_data[:, :, :, scan].flatten()\n",
    "    flatten_image = flatten_image[~np.isnan(flatten_image)]\n",
    "    predictors_fMRI_single_subject_flatten[scan, :] = flatten_image\n",
    "    \n",
    "# Display the shape of the array. \n",
    "predictors_fMRI_single_subject_flatten.shape"
   ]
  },
  {
   "cell_type": "code",
   "execution_count": 7,
   "metadata": {},
   "outputs": [
    {
     "data": {
      "text/plain": [
       "(200, 320)"
      ]
     },
     "execution_count": 7,
     "metadata": {},
     "output_type": "execute_result"
    }
   ],
   "source": [
    "# Load the EEG predictors with all channels for this subject. \n",
    "with open(preprocessed_data_path + 'predictors_EEG_single_subject_all_channels_200_samples.p', 'rb') as file:\n",
    "    predictors_EEG_single_subject_all_channels_200_samples = pickle.load(file)\n",
    "\n",
    "# Display the shape of the array. \n",
    "predictors_EEG_single_subject_all_channels_200_samples.shape"
   ]
  },
  {
   "cell_type": "code",
   "execution_count": 8,
   "metadata": {},
   "outputs": [],
   "source": [
    "# Determine the proportion of the test set for the neural networks models. \n",
    "test_set_proportion = 0.2\n",
    "\n",
    "# Define batch size and validation split. \n",
    "batch_size = 96\n",
    "validation_split = 0.2"
   ]
  },
  {
   "cell_type": "code",
   "execution_count": 9,
   "metadata": {},
   "outputs": [
    {
     "data": {
      "text/html": [
       "<div>\n",
       "<style scoped>\n",
       "    .dataframe tbody tr th:only-of-type {\n",
       "        vertical-align: middle;\n",
       "    }\n",
       "\n",
       "    .dataframe tbody tr th {\n",
       "        vertical-align: top;\n",
       "    }\n",
       "\n",
       "    .dataframe thead th {\n",
       "        text-align: right;\n",
       "    }\n",
       "</style>\n",
       "<table border=\"1\" class=\"dataframe\">\n",
       "  <thead>\n",
       "    <tr style=\"text-align: right;\">\n",
       "      <th></th>\n",
       "      <th>onset</th>\n",
       "      <th>duration</th>\n",
       "      <th>trial_type</th>\n",
       "      <th>stim_file</th>\n",
       "    </tr>\n",
       "  </thead>\n",
       "  <tbody>\n",
       "    <tr>\n",
       "      <th>0</th>\n",
       "      <td>2</td>\n",
       "      <td>20</td>\n",
       "      <td>Rest</td>\n",
       "      <td>Rest_Xp1.png</td>\n",
       "    </tr>\n",
       "    <tr>\n",
       "      <th>1</th>\n",
       "      <td>22</td>\n",
       "      <td>20</td>\n",
       "      <td>Task-NF</td>\n",
       "      <td>Task-NF_Xp1.png</td>\n",
       "    </tr>\n",
       "    <tr>\n",
       "      <th>2</th>\n",
       "      <td>42</td>\n",
       "      <td>20</td>\n",
       "      <td>Rest</td>\n",
       "      <td>Rest_Xp1.png</td>\n",
       "    </tr>\n",
       "    <tr>\n",
       "      <th>3</th>\n",
       "      <td>62</td>\n",
       "      <td>20</td>\n",
       "      <td>Task-NF</td>\n",
       "      <td>Task-NF_Xp1.png</td>\n",
       "    </tr>\n",
       "    <tr>\n",
       "      <th>4</th>\n",
       "      <td>82</td>\n",
       "      <td>20</td>\n",
       "      <td>Rest</td>\n",
       "      <td>Rest_Xp1.png</td>\n",
       "    </tr>\n",
       "    <tr>\n",
       "      <th>5</th>\n",
       "      <td>102</td>\n",
       "      <td>20</td>\n",
       "      <td>Task-NF</td>\n",
       "      <td>Task-NF_Xp1.png</td>\n",
       "    </tr>\n",
       "    <tr>\n",
       "      <th>6</th>\n",
       "      <td>122</td>\n",
       "      <td>20</td>\n",
       "      <td>Rest</td>\n",
       "      <td>Rest_Xp1.png</td>\n",
       "    </tr>\n",
       "    <tr>\n",
       "      <th>7</th>\n",
       "      <td>142</td>\n",
       "      <td>20</td>\n",
       "      <td>Task-NF</td>\n",
       "      <td>Task-NF_Xp1.png</td>\n",
       "    </tr>\n",
       "    <tr>\n",
       "      <th>8</th>\n",
       "      <td>162</td>\n",
       "      <td>20</td>\n",
       "      <td>Rest</td>\n",
       "      <td>Rest_Xp1.png</td>\n",
       "    </tr>\n",
       "    <tr>\n",
       "      <th>9</th>\n",
       "      <td>182</td>\n",
       "      <td>20</td>\n",
       "      <td>Task-NF</td>\n",
       "      <td>Task-NF_Xp1.png</td>\n",
       "    </tr>\n",
       "    <tr>\n",
       "      <th>10</th>\n",
       "      <td>202</td>\n",
       "      <td>20</td>\n",
       "      <td>Rest</td>\n",
       "      <td>Rest_Xp1.png</td>\n",
       "    </tr>\n",
       "    <tr>\n",
       "      <th>11</th>\n",
       "      <td>222</td>\n",
       "      <td>20</td>\n",
       "      <td>Task-NF</td>\n",
       "      <td>Task-NF_Xp1.png</td>\n",
       "    </tr>\n",
       "    <tr>\n",
       "      <th>12</th>\n",
       "      <td>242</td>\n",
       "      <td>20</td>\n",
       "      <td>Rest</td>\n",
       "      <td>Rest_Xp1.png</td>\n",
       "    </tr>\n",
       "    <tr>\n",
       "      <th>13</th>\n",
       "      <td>262</td>\n",
       "      <td>20</td>\n",
       "      <td>Task-NF</td>\n",
       "      <td>Task-NF_Xp1.png</td>\n",
       "    </tr>\n",
       "    <tr>\n",
       "      <th>14</th>\n",
       "      <td>282</td>\n",
       "      <td>20</td>\n",
       "      <td>Rest</td>\n",
       "      <td>Rest_Xp1.png</td>\n",
       "    </tr>\n",
       "    <tr>\n",
       "      <th>15</th>\n",
       "      <td>302</td>\n",
       "      <td>20</td>\n",
       "      <td>Task-NF</td>\n",
       "      <td>Task-NF_Xp1.png</td>\n",
       "    </tr>\n",
       "    <tr>\n",
       "      <th>16</th>\n",
       "      <td>322</td>\n",
       "      <td>20</td>\n",
       "      <td>Rest</td>\n",
       "      <td>Rest_Xp1.png</td>\n",
       "    </tr>\n",
       "    <tr>\n",
       "      <th>17</th>\n",
       "      <td>342</td>\n",
       "      <td>20</td>\n",
       "      <td>Task-NF</td>\n",
       "      <td>Task-NF_Xp1.png</td>\n",
       "    </tr>\n",
       "    <tr>\n",
       "      <th>18</th>\n",
       "      <td>362</td>\n",
       "      <td>20</td>\n",
       "      <td>Rest</td>\n",
       "      <td>Rest_Xp1.png</td>\n",
       "    </tr>\n",
       "    <tr>\n",
       "      <th>19</th>\n",
       "      <td>382</td>\n",
       "      <td>20</td>\n",
       "      <td>Task-NF</td>\n",
       "      <td>Task-NF_Xp1.png</td>\n",
       "    </tr>\n",
       "  </tbody>\n",
       "</table>\n",
       "</div>"
      ],
      "text/plain": [
       "    onset  duration trial_type        stim_file\n",
       "0       2        20       Rest     Rest_Xp1.png\n",
       "1      22        20    Task-NF  Task-NF_Xp1.png\n",
       "2      42        20       Rest     Rest_Xp1.png\n",
       "3      62        20    Task-NF  Task-NF_Xp1.png\n",
       "4      82        20       Rest     Rest_Xp1.png\n",
       "5     102        20    Task-NF  Task-NF_Xp1.png\n",
       "6     122        20       Rest     Rest_Xp1.png\n",
       "7     142        20    Task-NF  Task-NF_Xp1.png\n",
       "8     162        20       Rest     Rest_Xp1.png\n",
       "9     182        20    Task-NF  Task-NF_Xp1.png\n",
       "10    202        20       Rest     Rest_Xp1.png\n",
       "11    222        20    Task-NF  Task-NF_Xp1.png\n",
       "12    242        20       Rest     Rest_Xp1.png\n",
       "13    262        20    Task-NF  Task-NF_Xp1.png\n",
       "14    282        20       Rest     Rest_Xp1.png\n",
       "15    302        20    Task-NF  Task-NF_Xp1.png\n",
       "16    322        20       Rest     Rest_Xp1.png\n",
       "17    342        20    Task-NF  Task-NF_Xp1.png\n",
       "18    362        20       Rest     Rest_Xp1.png\n",
       "19    382        20    Task-NF  Task-NF_Xp1.png"
      ]
     },
     "execution_count": 9,
     "metadata": {},
     "output_type": "execute_result"
    }
   ],
   "source": [
    "# Retrieve and display the events file for the eegfmriNF run. \n",
    "events = pd.read_csv(data_path + 'task-eegfmriNF_events.tsv', sep = '\\t')\n",
    "events"
   ]
  },
  {
   "cell_type": "markdown",
   "metadata": {},
   "source": [
    "We are interested in the **brain state** variable, i.e. whether the subject is currently in a **rest block** or in a **task block**. Like in the previous Notebook, this target variable is easy to reconstruct. This time, we will also take a step further, and refine our concept of brain state. Specifically, we will try to predict the specific experimental block, and to discriminate between the beginning and the end of the rest and task blocks. The appropriate target variables will be defined in each section. "
   ]
  },
  {
   "cell_type": "markdown",
   "metadata": {},
   "source": [
    "## **2. Neural networks based on fMRI data**\n",
    "\n",
    "### **2.1 Dense neural network: 1-layer**\n",
    "\n",
    "In the following cells, we **run and compute the predictions from a 1-layer neural network model**. Our target will be the **brain state** variable according to our primary definition, i.e. whether the subject is currently in a rest block or in a task block. "
   ]
  },
  {
   "cell_type": "code",
   "execution_count": 10,
   "metadata": {},
   "outputs": [],
   "source": [
    "# Disable warnings. \n",
    "import warnings\n",
    "warnings.filterwarnings('ignore')"
   ]
  },
  {
   "cell_type": "code",
   "execution_count": 11,
   "metadata": {},
   "outputs": [],
   "source": [
    "from sklearn.model_selection import train_test_split\n",
    "from sklearn.preprocessing import StandardScaler\n",
    "import tensorflow as tf\n",
    "import tensorflow.keras as keras\n",
    "from tensorflow.keras import Sequential\n",
    "from tensorflow.keras.layers import Dense\n",
    "from tensorflow.keras import activations\n",
    "from tensorflow.keras import initializers\n",
    "from tensorflow.keras import optimizers"
   ]
  },
  {
   "cell_type": "code",
   "execution_count": 12,
   "metadata": {},
   "outputs": [
    {
     "name": "stdout",
     "output_type": "stream",
     "text": [
      "[0 0 0 0 0 0 0 0 0 0 1 1 1 1 1 1 1 1 1 1 0 0 0 0 0 0 0 0 0 0 1 1 1 1 1 1 1\n",
      " 1 1 1 0 0 0 0 0 0 0 0 0 0 1 1 1 1 1 1 1 1 1 1 0 0 0 0 0 0 0 0 0 0 1 1 1 1\n",
      " 1 1 1 1 1 1 0 0 0 0 0 0 0 0 0 0 1 1 1 1 1 1 1 1 1 1 0 0 0 0 0 0 0 0 0 0 1\n",
      " 1 1 1 1 1 1 1 1 1 0 0 0 0 0 0 0 0 0 0 1 1 1 1 1 1 1 1 1 1 0 0 0 0 0 0 0 0\n",
      " 0 0 1 1 1 1 1 1 1 1 1 1 0 0 0 0 0 0 0 0 0 0 1 1 1 1 1 1 1 1 1 1 0 0 0 0 0\n",
      " 0 0 0 0 0 1 1 1 1 1 1 1 1 1 1]\n"
     ]
    }
   ],
   "source": [
    "# Define and display the target variable. \n",
    "y = np.repeat(np.tile([0, 1], 10), 10)\n",
    "print(y)"
   ]
  },
  {
   "cell_type": "code",
   "execution_count": 13,
   "metadata": {},
   "outputs": [
    {
     "data": {
      "text/plain": [
       "(200,)"
      ]
     },
     "execution_count": 13,
     "metadata": {},
     "output_type": "execute_result"
    }
   ],
   "source": [
    "# Display the shape of the target variable. \n",
    "y.shape"
   ]
  },
  {
   "cell_type": "code",
   "execution_count": 14,
   "metadata": {},
   "outputs": [],
   "source": [
    "# Define the features variables. \n",
    "X = predictors_fMRI_single_subject_flatten\n",
    "\n",
    "# Divide the data into a train set and a test set. \n",
    "X_tr, X_te, y_tr, y_te = train_test_split(X, y, test_size = test_set_proportion)"
   ]
  },
  {
   "cell_type": "code",
   "execution_count": 15,
   "metadata": {},
   "outputs": [
    {
     "data": {
      "text/plain": [
       "0.425"
      ]
     },
     "execution_count": 15,
     "metadata": {},
     "output_type": "execute_result"
    }
   ],
   "source": [
    "# Create a baseline containing only the most frequent value in the train set. \n",
    "most_frequent_value = np.bincount(y_tr.astype(int)).argmax()\n",
    "neural_networks_baseline = np.sum(y_te.astype(int) == most_frequent_value) / y_te.shape[0]\n",
    "neural_networks_baseline"
   ]
  },
  {
   "cell_type": "code",
   "execution_count": 16,
   "metadata": {},
   "outputs": [
    {
     "name": "stdout",
     "output_type": "stream",
     "text": [
      "Train: (160, 100674)\n",
      "Test: (40, 100674)\n"
     ]
    }
   ],
   "source": [
    "# Rescale features variables. \n",
    "scaler = StandardScaler()\n",
    "X_tr_standardized = scaler.fit_transform(X_tr)\n",
    "X_te_standardized = scaler.transform(X_te)\n",
    "\n",
    "print('Train:', X_tr_standardized.shape)\n",
    "print('Test:', X_te_standardized.shape)"
   ]
  },
  {
   "cell_type": "code",
   "execution_count": 17,
   "metadata": {},
   "outputs": [],
   "source": [
    "# Encode target variable. \n",
    "y_tr_encoded = pd.get_dummies(y_tr)\n",
    "y_te_encoded = pd.get_dummies(y_te)"
   ]
  },
  {
   "cell_type": "code",
   "execution_count": 18,
   "metadata": {},
   "outputs": [
    {
     "data": {
      "text/plain": [
       "array([0, 1])"
      ]
     },
     "execution_count": 18,
     "metadata": {},
     "output_type": "execute_result"
    }
   ],
   "source": [
    "# Get and display the encoding order. \n",
    "encoding_order = np.unique(y_te)\n",
    "encoding_order"
   ]
  },
  {
   "cell_type": "code",
   "execution_count": 19,
   "metadata": {},
   "outputs": [
    {
     "name": "stdout",
     "output_type": "stream",
     "text": [
      "_________________________________________________________________\n",
      "Layer (type)                 Output Shape              Param #   \n",
      "=================================================================\n",
      "dense (Dense)                (None, 2)                 201350    \n",
      "=================================================================\n",
      "Total params: 201,350\n",
      "Trainable params: 201,350\n",
      "Non-trainable params: 0\n",
      "_________________________________________________________________\n"
     ]
    }
   ],
   "source": [
    "# Create model. \n",
    "model_dense1 = Sequential()\n",
    "\n",
    "# Output layer. \n",
    "model_dense1.add(Dense(\n",
    "    units = 2, activation = activations.softmax, input_dim = X_tr_standardized.shape[1],\n",
    "    kernel_initializer = initializers.VarianceScaling(scale = 1.0, seed = 0)))\n",
    "\n",
    "# Define loss function, optimizer and metrics to track during training. \n",
    "model_dense1.compile(optimizer = 'sgd', loss = 'categorical_crossentropy', metrics = ['acc'])\n",
    "\n",
    "# Print network summary. \n",
    "model_dense1.summary()"
   ]
  },
  {
   "cell_type": "code",
   "execution_count": 20,
   "metadata": {},
   "outputs": [
    {
     "data": {
      "text/plain": [
       "True"
      ]
     },
     "execution_count": 20,
     "metadata": {},
     "output_type": "execute_result"
    }
   ],
   "source": [
    "# Security check: verify that the number of parameters corresponds to what is expected, \n",
    "# i.e. the number of features multiplied by the number of target classes, plus the biases for each output neuron. \n",
    "model_dense1.count_params() == ((X_tr_standardized.shape[1] * 2) + 2)"
   ]
  },
  {
   "cell_type": "code",
   "execution_count": 21,
   "metadata": {},
   "outputs": [
    {
     "name": "stdout",
     "output_type": "stream",
     "text": [
      "Train on 128 samples, validate on 32 samples\n",
      "Epoch 1/100\n",
      "128/128 [==============================] - 0s 3ms/step - loss: 2.2668 - acc: 0.5078 - val_loss: 1.5004 - val_acc: 0.8125\n",
      "Epoch 2/100\n",
      "128/128 [==============================] - 0s 405us/step - loss: 1.9985 - acc: 0.7891 - val_loss: 6.0290 - val_acc: 0.5312\n",
      "Epoch 3/100\n",
      "128/128 [==============================] - 0s 492us/step - loss: 4.2095 - acc: 0.6875 - val_loss: 0.3816 - val_acc: 0.8750\n",
      "Epoch 4/100\n",
      "128/128 [==============================] - 0s 459us/step - loss: 0.8396 - acc: 0.9141 - val_loss: 0.3765 - val_acc: 0.8750\n",
      "Epoch 5/100\n",
      "128/128 [==============================] - 0s 468us/step - loss: 0.2632 - acc: 0.9766 - val_loss: 0.3036 - val_acc: 0.9375\n",
      "Epoch 6/100\n",
      "128/128 [==============================] - 0s 551us/step - loss: 0.2535 - acc: 0.9844 - val_loss: 0.2947 - val_acc: 0.9375\n",
      "Epoch 7/100\n",
      "128/128 [==============================] - 0s 470us/step - loss: 0.2520 - acc: 0.9844 - val_loss: 0.2953 - val_acc: 0.9375\n",
      "Epoch 8/100\n",
      "128/128 [==============================] - 0s 479us/step - loss: 0.2520 - acc: 0.9844 - val_loss: 0.2951 - val_acc: 0.9375\n",
      "Epoch 9/100\n",
      "128/128 [==============================] - 0s 465us/step - loss: 0.2520 - acc: 0.9844 - val_loss: 0.2953 - val_acc: 0.9375\n",
      "Epoch 10/100\n",
      "128/128 [==============================] - 0s 467us/step - loss: 0.2520 - acc: 0.9844 - val_loss: 0.2951 - val_acc: 0.9375\n",
      "Epoch 11/100\n",
      "128/128 [==============================] - 0s 476us/step - loss: 0.2519 - acc: 0.9844 - val_loss: 0.2953 - val_acc: 0.9375\n",
      "Epoch 12/100\n",
      "128/128 [==============================] - 0s 466us/step - loss: 0.2519 - acc: 0.9844 - val_loss: 0.2951 - val_acc: 0.9375\n"
     ]
    }
   ],
   "source": [
    "# End training when accuracy stops improving. \n",
    "early_stopping = keras.callbacks.EarlyStopping(monitor = 'val_loss', patience = 6)\n",
    "\n",
    "# Fit model. \n",
    "history_dense1 = model_dense1.fit(\n",
    "    x = X_tr_standardized, y = y_tr_encoded,\n",
    "    validation_split = validation_split, batch_size = batch_size, epochs = 100,\n",
    "    shuffle = True, callbacks = [early_stopping]\n",
    ")"
   ]
  },
  {
   "cell_type": "code",
   "execution_count": 22,
   "metadata": {},
   "outputs": [],
   "source": [
    "# Define a function to plot the results of the neural network training. \n",
    "def neural_network_graph(history):\n",
    "    \n",
    "    # Display the graph. \n",
    "    fig, axes = plt.subplots(nrows = 1, ncols = 2, figsize = (12, 4))\n",
    "\n",
    "    # Plot loss values. \n",
    "    axes[0].plot(history.history['loss'], label = 'train loss', color = 'blue')\n",
    "    axes[0].plot(history.history['val_loss'], label = 'val loss', color = 'green')\n",
    "    axes[0].set_title('Validation loss {:.3f} (mean last 3)'.format(\n",
    "        np.mean(history.history['val_loss'][-3:]) # Take the mean of the last three values. \n",
    "    ))\n",
    "    axes[0].set_xlabel('Epoch')\n",
    "    axes[0].set_ylabel('Loss value')\n",
    "    axes[0].legend()\n",
    "\n",
    "    # Plot accuracy values. \n",
    "    axes[1].plot(history.history['acc'], label = 'train acc', color = 'blue')\n",
    "    axes[1].plot(history.history['val_acc'], label = 'val acc', color = 'green')\n",
    "    axes[1].set_title('Validation accuracy {:.3f} (mean last 3)'.format(\n",
    "        np.mean(history.history['val_acc'][-3:]) # Take the mean of the last three values. \n",
    "    ))\n",
    "    axes[1].set_xlabel('Epoch')\n",
    "    axes[1].set_ylabel('Accuracy')\n",
    "    axes[1].legend();"
   ]
  },
  {
   "cell_type": "code",
   "execution_count": 23,
   "metadata": {},
   "outputs": [
    {
     "data": {
      "image/png": "[encoded data removed]",
      "text/plain": [
       "<Figure size 864x288 with 2 Axes>"
      ]
     },
     "metadata": {
      "needs_background": "light"
     },
     "output_type": "display_data"
    }
   ],
   "source": [
    "# Display the results. \n",
    "neural_network_graph(history_dense1)"
   ]
  },
  {
   "cell_type": "code",
   "execution_count": 24,
   "metadata": {},
   "outputs": [
    {
     "name": "stdout",
     "output_type": "stream",
     "text": [
      "40/40 [==============================] - 0s 251us/step\n",
      "Test loss: 1.27\n",
      "Test accuracy: 85.00%\n"
     ]
    }
   ],
   "source": [
    "# Evaluate test score. \n",
    "(test_loss, test_score_dense1) = model_dense1.evaluate(X_te_standardized, y_te_encoded, batch_size = batch_size)\n",
    "\n",
    "print('Test loss: {:.2f}'.format(test_loss))\n",
    "print('Test accuracy: {:.2f}%'.format(100 * test_score_dense1))"
   ]
  },
  {
   "cell_type": "code",
   "execution_count": 25,
   "metadata": {},
   "outputs": [
    {
     "data": {
      "text/plain": [
       "array([1, 1, 1, 0, 1, 1, 1, 1, 0, 0, 0, 1, 1, 1, 0, 0, 0, 1, 1, 1, 1, 1,\n",
       "       1, 1, 0, 1, 1, 0, 0, 0, 0, 1, 1, 1, 1, 1, 1, 0, 0, 0])"
      ]
     },
     "execution_count": 25,
     "metadata": {},
     "output_type": "execute_result"
    }
   ],
   "source": [
    "# Compute and display the predictions of the neural network. \n",
    "y_pred_dense1 = encoding_order[model_dense1.predict_classes(X_te_standardized)]\n",
    "y_pred_dense1"
   ]
  },
  {
   "cell_type": "code",
   "execution_count": 26,
   "metadata": {},
   "outputs": [
    {
     "data": {
      "text/plain": [
       "0.85"
      ]
     },
     "execution_count": 26,
     "metadata": {},
     "output_type": "execute_result"
    }
   ],
   "source": [
    "# Security check: compute the accuracy from these predictions. \n",
    "test_score_dense1_from_pred = np.sum(y_pred_dense1 == y_te) / len(y_te)\n",
    "test_score_dense1_from_pred"
   ]
  },
  {
   "cell_type": "code",
   "execution_count": 27,
   "metadata": {},
   "outputs": [
    {
     "data": {
      "text/plain": [
       "True"
      ]
     },
     "execution_count": 27,
     "metadata": {},
     "output_type": "execute_result"
    }
   ],
   "source": [
    "# Verify if the two accuracies are equal. \n",
    "np.round(test_score_dense1_from_pred, 4) == np.round(test_score_dense1, 4)"
   ]
  },
  {
   "cell_type": "code",
   "execution_count": 28,
   "metadata": {},
   "outputs": [
    {
     "data": {
      "text/plain": [
       "0.425"
      ]
     },
     "execution_count": 28,
     "metadata": {},
     "output_type": "execute_result"
    }
   ],
   "source": [
    "# Display again the baseline. \n",
    "neural_networks_baseline"
   ]
  },
  {
   "cell_type": "markdown",
   "metadata": {},
   "source": [
    "**Result:** The 1-layer neural network model performs better than the baseline. We can also have a look at the confusion matrix. "
   ]
  },
  {
   "cell_type": "code",
   "execution_count": 29,
   "metadata": {},
   "outputs": [],
   "source": [
    "from sklearn.metrics import confusion_matrix"
   ]
  },
  {
   "cell_type": "code",
   "execution_count": 30,
   "metadata": {},
   "outputs": [],
   "source": [
    "# Define a function to generate a Scikit-learn confusion matrix. \n",
    "def scikit_learn_confusion_matrix(y_te, y_pred):\n",
    "    \n",
    "    # Compute the confusion matrix. \n",
    "    labels = ['rest', 'task']\n",
    "    matrix = confusion_matrix(\n",
    "        y_true = y_te,\n",
    "        y_pred = y_pred, \n",
    "        labels = labels\n",
    "    )\n",
    "\n",
    "    # Return confusion matrix as a DataFrame. \n",
    "    matrix_df = pd.DataFrame(data = matrix, columns = labels, index = labels)\n",
    "    matrix_df.columns.name = 'Predictions'\n",
    "    matrix_df.index.name = 'True class'\n",
    "    return matrix_df"
   ]
  },
  {
   "cell_type": "code",
   "execution_count": 31,
   "metadata": {},
   "outputs": [
    {
     "data": {
      "text/html": [
       "<div>\n",
       "<style scoped>\n",
       "    .dataframe tbody tr th:only-of-type {\n",
       "        vertical-align: middle;\n",
       "    }\n",
       "\n",
       "    .dataframe tbody tr th {\n",
       "        vertical-align: top;\n",
       "    }\n",
       "\n",
       "    .dataframe thead th {\n",
       "        text-align: right;\n",
       "    }\n",
       "</style>\n",
       "<table border=\"1\" class=\"dataframe\">\n",
       "  <thead>\n",
       "    <tr style=\"text-align: right;\">\n",
       "      <th>Predictions</th>\n",
       "      <th>rest</th>\n",
       "      <th>task</th>\n",
       "    </tr>\n",
       "    <tr>\n",
       "      <th>True class</th>\n",
       "      <th></th>\n",
       "      <th></th>\n",
       "    </tr>\n",
       "  </thead>\n",
       "  <tbody>\n",
       "    <tr>\n",
       "      <th>rest</th>\n",
       "      <td>13</td>\n",
       "      <td>4</td>\n",
       "    </tr>\n",
       "    <tr>\n",
       "      <th>task</th>\n",
       "      <td>2</td>\n",
       "      <td>21</td>\n",
       "    </tr>\n",
       "  </tbody>\n",
       "</table>\n",
       "</div>"
      ],
      "text/plain": [
       "Predictions  rest  task\n",
       "True class             \n",
       "rest           13     4\n",
       "task            2    21"
      ]
     },
     "execution_count": 31,
     "metadata": {},
     "output_type": "execute_result"
    }
   ],
   "source": [
    "# Rename the labels. \n",
    "y_te_renamed = np.array(['rest', 'task'])[y_te]\n",
    "y_pred_dense1_renamed = np.array(['rest', 'task'])[y_pred_dense1]\n",
    "\n",
    "# Display a Scikit-learn confusion matrix. \n",
    "confusion_matrix_dense1 = scikit_learn_confusion_matrix(y_te_renamed, y_pred_dense1_renamed)\n",
    "confusion_matrix_dense1"
   ]
  },
  {
   "cell_type": "markdown",
   "metadata": {},
   "source": [
    "### **2.2 Dense neural network: 2-layer**\n",
    "\n",
    "In the following cells, we **run and compute the predictions from a 2-layer neural network model**. We add both a dropout and a L2 regularization to the hidden layer. The number of units in the hidden layer was defined by trial and error. For the dropout and the regularization parameters, we simply use values that seem widely used by the machine learning community. Our target will be the **brain state** variable according to our primary definition, i.e. whether the subject is currently in a rest block or in a task block. "
   ]
  },
  {
   "cell_type": "code",
   "execution_count": 32,
   "metadata": {},
   "outputs": [],
   "source": [
    "from tensorflow.keras.layers import Dropout\n",
    "from tensorflow.keras.regularizers import l2"
   ]
  },
  {
   "cell_type": "code",
   "execution_count": 33,
   "metadata": {},
   "outputs": [
    {
     "name": "stdout",
     "output_type": "stream",
     "text": [
      "_________________________________________________________________\n",
      "Layer (type)                 Output Shape              Param #   \n",
      "=================================================================\n",
      "dense_1 (Dense)              (None, 128)               12886400  \n",
      "_________________________________________________________________\n",
      "dropout (Dropout)            (None, 128)               0         \n",
      "_________________________________________________________________\n",
      "dense_2 (Dense)              (None, 2)                 258       \n",
      "=================================================================\n",
      "Total params: 12,886,658\n",
      "Trainable params: 12,886,658\n",
      "Non-trainable params: 0\n",
      "_________________________________________________________________\n"
     ]
    }
   ],
   "source": [
    "# Create model. \n",
    "model_dense2 = Sequential()\n",
    "\n",
    "# Hidden layer. \n",
    "model_dense2.add(Dense(\n",
    "    units = 128, activation = activations.relu, input_dim = X_tr_standardized.shape[1],\n",
    "    kernel_initializer = initializers.VarianceScaling(scale = 2.0, seed = 0),\n",
    "    kernel_regularizer = l2(0.01), bias_regularizer = l2(0.01)))\n",
    "model_dense2.add(Dropout(0.5, seed = 0))\n",
    "\n",
    "# Output layer. \n",
    "model_dense2.add(Dense(\n",
    "    units = 2, activation = activations.softmax,\n",
    "    kernel_initializer = initializers.VarianceScaling(scale = 1.0, seed = 0)))\n",
    "\n",
    "# Define loss function, optimizer and metrics to track during training. \n",
    "model_dense2.compile(optimizer = 'sgd', loss = 'categorical_crossentropy', metrics = ['acc'])\n",
    "\n",
    "# Print network summary. \n",
    "model_dense2.summary()"
   ]
  },
  {
   "cell_type": "code",
   "execution_count": 34,
   "metadata": {},
   "outputs": [
    {
     "name": "stdout",
     "output_type": "stream",
     "text": [
      "Train on 128 samples, validate on 32 samples\n",
      "Epoch 1/100\n",
      "128/128 [==============================] - 2s 13ms/step - loss: 3.7366 - acc: 0.5391 - val_loss: 6.4193 - val_acc: 0.6875\n",
      "Epoch 2/100\n",
      "128/128 [==============================] - 0s 2ms/step - loss: 6.4421 - acc: 0.6172 - val_loss: 4.7447 - val_acc: 0.7500\n",
      "Epoch 3/100\n",
      "128/128 [==============================] - 0s 2ms/step - loss: 3.9598 - acc: 0.8203 - val_loss: 3.4793 - val_acc: 0.8125\n",
      "Epoch 4/100\n",
      "128/128 [==============================] - 0s 2ms/step - loss: 3.1637 - acc: 0.8828 - val_loss: 3.0286 - val_acc: 0.8438\n",
      "Epoch 5/100\n",
      "128/128 [==============================] - 0s 2ms/step - loss: 3.6164 - acc: 0.8594 - val_loss: 2.9704 - val_acc: 0.8438\n",
      "Epoch 6/100\n",
      "128/128 [==============================] - 0s 2ms/step - loss: 2.8975 - acc: 0.9141 - val_loss: 3.0635 - val_acc: 0.8438\n",
      "Epoch 7/100\n",
      "128/128 [==============================] - 0s 2ms/step - loss: 2.8009 - acc: 0.9453 - val_loss: 2.8806 - val_acc: 0.8750\n",
      "Epoch 8/100\n",
      "128/128 [==============================] - 0s 2ms/step - loss: 2.6000 - acc: 0.9766 - val_loss: 2.8525 - val_acc: 0.8750\n",
      "Epoch 9/100\n",
      "128/128 [==============================] - 0s 2ms/step - loss: 2.5934 - acc: 0.9766 - val_loss: 2.7721 - val_acc: 0.8438\n",
      "Epoch 10/100\n",
      "128/128 [==============================] - 0s 2ms/step - loss: 2.5791 - acc: 0.9922 - val_loss: 2.8369 - val_acc: 0.8438\n",
      "Epoch 11/100\n",
      "128/128 [==============================] - 0s 2ms/step - loss: 2.5578 - acc: 0.9922 - val_loss: 2.8369 - val_acc: 0.8438\n",
      "Epoch 12/100\n",
      "128/128 [==============================] - 0s 2ms/step - loss: 2.5820 - acc: 0.9922 - val_loss: 3.0408 - val_acc: 0.8438\n",
      "Epoch 13/100\n",
      "128/128 [==============================] - 0s 2ms/step - loss: 2.5770 - acc: 0.9922 - val_loss: 2.9308 - val_acc: 0.8438\n",
      "Epoch 14/100\n",
      "128/128 [==============================] - 0s 2ms/step - loss: 2.5490 - acc: 1.0000 - val_loss: 2.8851 - val_acc: 0.8438\n",
      "Epoch 15/100\n",
      "128/128 [==============================] - 0s 2ms/step - loss: 2.5727 - acc: 0.9844 - val_loss: 2.8914 - val_acc: 0.8438\n"
     ]
    }
   ],
   "source": [
    "# End training when accuracy stops improving. \n",
    "early_stopping = keras.callbacks.EarlyStopping(monitor = 'val_loss', patience = 6)\n",
    "\n",
    "# Fit model. \n",
    "history_dense2 = model_dense2.fit(\n",
    "    x = X_tr_standardized, y = y_tr_encoded,\n",
    "    validation_split = validation_split, batch_size = batch_size, epochs = 100,\n",
    "    shuffle = True, callbacks = [early_stopping]\n",
    ")"
   ]
  },
  {
   "cell_type": "code",
   "execution_count": 35,
   "metadata": {},
   "outputs": [
    {
     "data": {
      "image/png": "[encoded data removed]",
      "text/plain": [
       "<Figure size 864x288 with 2 Axes>"
      ]
     },
     "metadata": {
      "needs_background": "light"
     },
     "output_type": "display_data"
    }
   ],
   "source": [
    "# Display the results. \n",
    "neural_network_graph(history_dense2)"
   ]
  },
  {
   "cell_type": "code",
   "execution_count": 36,
   "metadata": {},
   "outputs": [
    {
     "name": "stdout",
     "output_type": "stream",
     "text": [
      "40/40 [==============================] - 0s 562us/step\n",
      "Test loss: 2.85\n",
      "Test accuracy: 87.50%\n"
     ]
    }
   ],
   "source": [
    "# Evaluate test score. \n",
    "(test_loss, test_score_dense2) = model_dense2.evaluate(X_te_standardized, y_te_encoded, batch_size = batch_size)\n",
    "\n",
    "print('Test loss: {:.2f}'.format(test_loss))\n",
    "print('Test accuracy: {:.2f}%'.format(100 * test_score_dense2))"
   ]
  },
  {
   "cell_type": "code",
   "execution_count": 37,
   "metadata": {},
   "outputs": [
    {
     "data": {
      "text/plain": [
       "array([1, 0, 1, 0, 1, 1, 1, 1, 0, 0, 0, 1, 1, 1, 1, 0, 0, 1, 1, 1, 0, 1,\n",
       "       1, 1, 0, 1, 1, 0, 0, 0, 0, 1, 1, 1, 1, 1, 1, 0, 0, 0])"
      ]
     },
     "execution_count": 37,
     "metadata": {},
     "output_type": "execute_result"
    }
   ],
   "source": [
    "# Compute and display the predictions of the neural network. \n",
    "y_pred_dense2 = encoding_order[model_dense2.predict_classes(X_te_standardized)]\n",
    "y_pred_dense2"
   ]
  },
  {
   "cell_type": "code",
   "execution_count": 38,
   "metadata": {},
   "outputs": [
    {
     "data": {
      "text/plain": [
       "0.875"
      ]
     },
     "execution_count": 38,
     "metadata": {},
     "output_type": "execute_result"
    }
   ],
   "source": [
    "# Security check: compute the accuracy from these predictions. \n",
    "test_score_dense2_from_pred = np.sum(y_pred_dense2 == y_te) / len(y_te)\n",
    "test_score_dense2_from_pred"
   ]
  },
  {
   "cell_type": "code",
   "execution_count": 39,
   "metadata": {},
   "outputs": [
    {
     "data": {
      "text/plain": [
       "True"
      ]
     },
     "execution_count": 39,
     "metadata": {},
     "output_type": "execute_result"
    }
   ],
   "source": [
    "# Verify if the two accuracies are equal. \n",
    "np.round(test_score_dense2_from_pred, 4) == np.round(test_score_dense2, 4)"
   ]
  },
  {
   "cell_type": "code",
   "execution_count": 40,
   "metadata": {},
   "outputs": [
    {
     "data": {
      "text/plain": [
       "0.425"
      ]
     },
     "execution_count": 40,
     "metadata": {},
     "output_type": "execute_result"
    }
   ],
   "source": [
    "# Display again the baseline. \n",
    "neural_networks_baseline"
   ]
  },
  {
   "cell_type": "markdown",
   "metadata": {},
   "source": [
    "**Result:** The 2-layer neural network model performs better than the baseline. "
   ]
  },
  {
   "cell_type": "code",
   "execution_count": 41,
   "metadata": {},
   "outputs": [
    {
     "data": {
      "text/html": [
       "<div>\n",
       "<style scoped>\n",
       "    .dataframe tbody tr th:only-of-type {\n",
       "        vertical-align: middle;\n",
       "    }\n",
       "\n",
       "    .dataframe tbody tr th {\n",
       "        vertical-align: top;\n",
       "    }\n",
       "\n",
       "    .dataframe thead th {\n",
       "        text-align: right;\n",
       "    }\n",
       "</style>\n",
       "<table border=\"1\" class=\"dataframe\">\n",
       "  <thead>\n",
       "    <tr style=\"text-align: right;\">\n",
       "      <th>Predictions</th>\n",
       "      <th>rest</th>\n",
       "      <th>task</th>\n",
       "    </tr>\n",
       "    <tr>\n",
       "      <th>True class</th>\n",
       "      <th></th>\n",
       "      <th></th>\n",
       "    </tr>\n",
       "  </thead>\n",
       "  <tbody>\n",
       "    <tr>\n",
       "      <th>rest</th>\n",
       "      <td>14</td>\n",
       "      <td>3</td>\n",
       "    </tr>\n",
       "    <tr>\n",
       "      <th>task</th>\n",
       "      <td>2</td>\n",
       "      <td>21</td>\n",
       "    </tr>\n",
       "  </tbody>\n",
       "</table>\n",
       "</div>"
      ],
      "text/plain": [
       "Predictions  rest  task\n",
       "True class             \n",
       "rest           14     3\n",
       "task            2    21"
      ]
     },
     "execution_count": 41,
     "metadata": {},
     "output_type": "execute_result"
    }
   ],
   "source": [
    "# Rename the labels. \n",
    "y_te_renamed = np.array(['rest', 'task'])[y_te]\n",
    "y_pred_dense2_renamed = np.array(['rest', 'task'])[y_pred_dense2]\n",
    "\n",
    "# Display a Scikit-learn confusion matrix. \n",
    "confusion_matrix_dense2 = scikit_learn_confusion_matrix(y_te_renamed, y_pred_dense2_renamed)\n",
    "confusion_matrix_dense2"
   ]
  },
  {
   "cell_type": "markdown",
   "metadata": {},
   "source": [
    "### **2.3 Dense neural network: 2-layer, target: blocks**\n",
    "\n",
    "In the following cells, we **run and compute the predictions from a 2-layer neural network model**. Our target will be the **blocks** of the eegfmriNF run. Here, our objective is to find out if our neural networks can discriminate between the individual blocks of 20 seconds, and not just between the rest condition and the task condition. Since we have a larger number of target values, we will perform a train-test split with stratification. "
   ]
  },
  {
   "cell_type": "code",
   "execution_count": 42,
   "metadata": {},
   "outputs": [
    {
     "name": "stdout",
     "output_type": "stream",
     "text": [
      "[ 0  0  0  0  0  0  0  0  0  0  1  1  1  1  1  1  1  1  1  1  2  2  2  2\n",
      "  2  2  2  2  2  2  3  3  3  3  3  3  3  3  3  3  4  4  4  4  4  4  4  4\n",
      "  4  4  5  5  5  5  5  5  5  5  5  5  6  6  6  6  6  6  6  6  6  6  7  7\n",
      "  7  7  7  7  7  7  7  7  8  8  8  8  8  8  8  8  8  8  9  9  9  9  9  9\n",
      "  9  9  9  9 10 10 10 10 10 10 10 10 10 10 11 11 11 11 11 11 11 11 11 11\n",
      " 12 12 12 12 12 12 12 12 12 12 13 13 13 13 13 13 13 13 13 13 14 14 14 14\n",
      " 14 14 14 14 14 14 15 15 15 15 15 15 15 15 15 15 16 16 16 16 16 16 16 16\n",
      " 16 16 17 17 17 17 17 17 17 17 17 17 18 18 18 18 18 18 18 18 18 18 19 19\n",
      " 19 19 19 19 19 19 19 19]\n"
     ]
    }
   ],
   "source": [
    "# Define and display the new target variable. \n",
    "y = np.repeat(range(20), 10)\n",
    "print(y)"
   ]
  },
  {
   "cell_type": "code",
   "execution_count": 43,
   "metadata": {},
   "outputs": [
    {
     "data": {
      "text/plain": [
       "(200,)"
      ]
     },
     "execution_count": 43,
     "metadata": {},
     "output_type": "execute_result"
    }
   ],
   "source": [
    "# Display the shape of the target variable. \n",
    "y.shape"
   ]
  },
  {
   "cell_type": "code",
   "execution_count": 44,
   "metadata": {},
   "outputs": [
    {
     "data": {
      "text/plain": [
       "20"
      ]
     },
     "execution_count": 44,
     "metadata": {},
     "output_type": "execute_result"
    }
   ],
   "source": [
    "# Store the number of different target values. \n",
    "nb_target_values = np.unique(y).shape[0]\n",
    "nb_target_values"
   ]
  },
  {
   "cell_type": "code",
   "execution_count": 45,
   "metadata": {},
   "outputs": [],
   "source": [
    "# Divide the data into a train set and a test set. \n",
    "X_tr, X_te, y_tr, y_te = train_test_split(X, y, test_size = test_set_proportion, stratify = y)"
   ]
  },
  {
   "cell_type": "code",
   "execution_count": 46,
   "metadata": {},
   "outputs": [
    {
     "data": {
      "text/plain": [
       "0.05"
      ]
     },
     "execution_count": 46,
     "metadata": {},
     "output_type": "execute_result"
    }
   ],
   "source": [
    "# Create a baseline containing only the most frequent value in the train set. \n",
    "most_frequent_value = np.bincount(y_tr.astype(int)).argmax()\n",
    "neural_networks_baseline3 = np.sum(y_te.astype(int) == most_frequent_value) / y_te.shape[0]\n",
    "neural_networks_baseline3"
   ]
  },
  {
   "cell_type": "code",
   "execution_count": 47,
   "metadata": {},
   "outputs": [
    {
     "name": "stdout",
     "output_type": "stream",
     "text": [
      "Train: (160, 100674)\n",
      "Test: (40, 100674)\n"
     ]
    }
   ],
   "source": [
    "# Rescale features variables. \n",
    "scaler = StandardScaler()\n",
    "X_tr_standardized = scaler.fit_transform(X_tr)\n",
    "X_te_standardized = scaler.transform(X_te)\n",
    "\n",
    "print('Train:', X_tr_standardized.shape)\n",
    "print('Test:', X_te_standardized.shape)"
   ]
  },
  {
   "cell_type": "code",
   "execution_count": 48,
   "metadata": {},
   "outputs": [],
   "source": [
    "# Encode target variable. \n",
    "y_tr_encoded = pd.get_dummies(y_tr)\n",
    "y_te_encoded = pd.get_dummies(y_te)"
   ]
  },
  {
   "cell_type": "code",
   "execution_count": 49,
   "metadata": {},
   "outputs": [
    {
     "data": {
      "text/plain": [
       "array([ 0,  1,  2,  3,  4,  5,  6,  7,  8,  9, 10, 11, 12, 13, 14, 15, 16,\n",
       "       17, 18, 19])"
      ]
     },
     "execution_count": 49,
     "metadata": {},
     "output_type": "execute_result"
    }
   ],
   "source": [
    "# Get and display the encoding order. \n",
    "encoding_order = np.unique(y_te)\n",
    "encoding_order"
   ]
  },
  {
   "cell_type": "code",
   "execution_count": 50,
   "metadata": {},
   "outputs": [
    {
     "name": "stdout",
     "output_type": "stream",
     "text": [
      "_________________________________________________________________\n",
      "Layer (type)                 Output Shape              Param #   \n",
      "=================================================================\n",
      "dense_3 (Dense)              (None, 128)               12886400  \n",
      "_________________________________________________________________\n",
      "dropout_1 (Dropout)          (None, 128)               0         \n",
      "_________________________________________________________________\n",
      "dense_4 (Dense)              (None, 20)                2580      \n",
      "=================================================================\n",
      "Total params: 12,888,980\n",
      "Trainable params: 12,888,980\n",
      "Non-trainable params: 0\n",
      "_________________________________________________________________\n"
     ]
    }
   ],
   "source": [
    "# Create model. \n",
    "model_dense3 = Sequential()\n",
    "\n",
    "# Hidden layer. \n",
    "model_dense3.add(Dense(\n",
    "    units = 128, activation = activations.relu, input_dim = X_tr_standardized.shape[1],\n",
    "    kernel_initializer = initializers.VarianceScaling(scale = 2.0, seed = 0),\n",
    "    kernel_regularizer = l2(0.01), bias_regularizer = l2(0.01)))\n",
    "model_dense3.add(Dropout(0.5, seed = 0))\n",
    "\n",
    "# Output layer. \n",
    "model_dense3.add(Dense(\n",
    "    units = nb_target_values, activation = activations.softmax,\n",
    "    kernel_initializer = initializers.VarianceScaling(scale = 1.0, seed = 0)))\n",
    "\n",
    "# Define loss function, optimizer and metrics to track during training. \n",
    "model_dense3.compile(optimizer = 'sgd', loss = 'categorical_crossentropy', metrics = ['acc'])\n",
    "\n",
    "# Print network summary. \n",
    "model_dense3.summary()"
   ]
  },
  {
   "cell_type": "code",
   "execution_count": 51,
   "metadata": {},
   "outputs": [
    {
     "name": "stdout",
     "output_type": "stream",
     "text": [
      "Train on 128 samples, validate on 32 samples\n",
      "Epoch 1/100\n",
      "128/128 [==============================] - 2s 12ms/step - loss: 6.3603 - acc: 0.0859 - val_loss: 6.9727 - val_acc: 0.1562\n",
      "Epoch 2/100\n",
      "128/128 [==============================] - 0s 2ms/step - loss: 5.4589 - acc: 0.3828 - val_loss: 4.6807 - val_acc: 0.5625\n",
      "Epoch 3/100\n",
      "128/128 [==============================] - 0s 2ms/step - loss: 3.7932 - acc: 0.7266 - val_loss: 3.9113 - val_acc: 0.6250\n",
      "Epoch 4/100\n",
      "128/128 [==============================] - 0s 2ms/step - loss: 3.5571 - acc: 0.8125 - val_loss: 4.3562 - val_acc: 0.5625\n",
      "Epoch 5/100\n",
      "128/128 [==============================] - 0s 2ms/step - loss: 2.9862 - acc: 0.8672 - val_loss: 4.4685 - val_acc: 0.4375\n",
      "Epoch 6/100\n",
      "128/128 [==============================] - 0s 2ms/step - loss: 2.9036 - acc: 0.8906 - val_loss: 4.1310 - val_acc: 0.4688\n",
      "Epoch 7/100\n",
      "128/128 [==============================] - 0s 2ms/step - loss: 2.7067 - acc: 0.9453 - val_loss: 4.4807 - val_acc: 0.5625\n",
      "Epoch 8/100\n",
      "128/128 [==============================] - 0s 2ms/step - loss: 2.7810 - acc: 0.9219 - val_loss: 4.0525 - val_acc: 0.5938\n",
      "Epoch 9/100\n",
      "128/128 [==============================] - 0s 2ms/step - loss: 2.7052 - acc: 0.9609 - val_loss: 4.0940 - val_acc: 0.5312\n"
     ]
    }
   ],
   "source": [
    "# End training when accuracy stops improving. \n",
    "early_stopping = keras.callbacks.EarlyStopping(monitor = 'val_loss', patience = 6)\n",
    "\n",
    "# Fit model. \n",
    "history_dense3 = model_dense3.fit(\n",
    "    x = X_tr_standardized, y = y_tr_encoded,\n",
    "    validation_split = validation_split, batch_size = batch_size, epochs = 100,\n",
    "    shuffle = True, callbacks = [early_stopping]\n",
    ")"
   ]
  },
  {
   "cell_type": "code",
   "execution_count": 52,
   "metadata": {},
   "outputs": [
    {
     "data": {
      "image/png": "[encoded data removed]",
      "text/plain": [
       "<Figure size 864x288 with 2 Axes>"
      ]
     },
     "metadata": {
      "needs_background": "light"
     },
     "output_type": "display_data"
    }
   ],
   "source": [
    "# Display the results. \n",
    "neural_network_graph(history_dense3)"
   ]
  },
  {
   "cell_type": "code",
   "execution_count": 53,
   "metadata": {},
   "outputs": [
    {
     "name": "stdout",
     "output_type": "stream",
     "text": [
      "40/40 [==============================] - 0s 591us/step\n",
      "Test loss: 4.03\n",
      "Test accuracy: 67.50%\n"
     ]
    }
   ],
   "source": [
    "# Evaluate test score. \n",
    "(test_loss, test_score_dense3) = model_dense3.evaluate(X_te_standardized, y_te_encoded, batch_size = batch_size)\n",
    "\n",
    "print('Test loss: {:.2f}'.format(test_loss))\n",
    "print('Test accuracy: {:.2f}%'.format(100 * test_score_dense3))"
   ]
  },
  {
   "cell_type": "code",
   "execution_count": 54,
   "metadata": {},
   "outputs": [
    {
     "data": {
      "text/plain": [
       "array([ 4,  5,  1,  9,  7, 11,  3,  3, 18, 15, 15,  2, 16, 15, 17,  1, 15,\n",
       "        2,  9,  4,  8, 18,  2, 16, 16,  7, 13, 13, 11, 13, 18, 11, 16,  6,\n",
       "        5, 18,  0, 19, 19,  9])"
      ]
     },
     "execution_count": 54,
     "metadata": {},
     "output_type": "execute_result"
    }
   ],
   "source": [
    "# Compute and display the predictions of the neural network. \n",
    "y_pred_dense3 = encoding_order[model_dense3.predict_classes(X_te_standardized)]\n",
    "y_pred_dense3"
   ]
  },
  {
   "cell_type": "code",
   "execution_count": 55,
   "metadata": {},
   "outputs": [
    {
     "data": {
      "text/plain": [
       "0.675"
      ]
     },
     "execution_count": 55,
     "metadata": {},
     "output_type": "execute_result"
    }
   ],
   "source": [
    "# Security check: compute the accuracy from these predictions. \n",
    "test_score_dense3_from_pred = np.sum(y_pred_dense3 == y_te) / len(y_te)\n",
    "test_score_dense3_from_pred"
   ]
  },
  {
   "cell_type": "code",
   "execution_count": 56,
   "metadata": {},
   "outputs": [
    {
     "data": {
      "text/plain": [
       "True"
      ]
     },
     "execution_count": 56,
     "metadata": {},
     "output_type": "execute_result"
    }
   ],
   "source": [
    "# Verify if the two accuracies are equal. \n",
    "np.round(test_score_dense3_from_pred, 4) == np.round(test_score_dense3, 4)"
   ]
  },
  {
   "cell_type": "code",
   "execution_count": 57,
   "metadata": {},
   "outputs": [
    {
     "data": {
      "text/plain": [
       "0.05"
      ]
     },
     "execution_count": 57,
     "metadata": {},
     "output_type": "execute_result"
    }
   ],
   "source": [
    "# Display again the baseline. \n",
    "neural_networks_baseline3"
   ]
  },
  {
   "cell_type": "markdown",
   "metadata": {},
   "source": [
    "**Result:** The 2-layer neural network model performs better than the baseline. "
   ]
  },
  {
   "cell_type": "markdown",
   "metadata": {},
   "source": [
    "### **2.4 Dense neural network: 2-layer, target: block positions**\n",
    "\n",
    "In the following cells, we **run and compute the predictions from a 2-layer neural network model**. Our target will be the **block positions** of the eegfmriNF run. Here, our objective is to find out if our neural networks can discriminate not only between the rest and task blocks, but also between the beginning and the end of these blocks. Again, we will perform a train-test split with stratification. "
   ]
  },
  {
   "cell_type": "code",
   "execution_count": 58,
   "metadata": {},
   "outputs": [
    {
     "name": "stdout",
     "output_type": "stream",
     "text": [
      "[0 0 0 0 0 1 1 1 1 1 2 2 2 2 2 3 3 3 3 3 0 0 0 0 0 1 1 1 1 1 2 2 2 2 2 3 3\n",
      " 3 3 3 0 0 0 0 0 1 1 1 1 1 2 2 2 2 2 3 3 3 3 3 0 0 0 0 0 1 1 1 1 1 2 2 2 2\n",
      " 2 3 3 3 3 3 0 0 0 0 0 1 1 1 1 1 2 2 2 2 2 3 3 3 3 3 0 0 0 0 0 1 1 1 1 1 2\n",
      " 2 2 2 2 3 3 3 3 3 0 0 0 0 0 1 1 1 1 1 2 2 2 2 2 3 3 3 3 3 0 0 0 0 0 1 1 1\n",
      " 1 1 2 2 2 2 2 3 3 3 3 3 0 0 0 0 0 1 1 1 1 1 2 2 2 2 2 3 3 3 3 3 0 0 0 0 0\n",
      " 1 1 1 1 1 2 2 2 2 2 3 3 3 3 3]\n"
     ]
    }
   ],
   "source": [
    "# Define and display the new target variable. \n",
    "y = np.tile(np.repeat([0, 1, 2, 3], 5), 10)\n",
    "print(y)"
   ]
  },
  {
   "cell_type": "code",
   "execution_count": 59,
   "metadata": {},
   "outputs": [
    {
     "data": {
      "text/plain": [
       "(200,)"
      ]
     },
     "execution_count": 59,
     "metadata": {},
     "output_type": "execute_result"
    }
   ],
   "source": [
    "# Display the shape of the target variable. \n",
    "y.shape"
   ]
  },
  {
   "cell_type": "code",
   "execution_count": 60,
   "metadata": {},
   "outputs": [
    {
     "data": {
      "text/plain": [
       "4"
      ]
     },
     "execution_count": 60,
     "metadata": {},
     "output_type": "execute_result"
    }
   ],
   "source": [
    "# Store the number of different target values. \n",
    "nb_target_values = np.unique(y).shape[0]\n",
    "nb_target_values"
   ]
  },
  {
   "cell_type": "code",
   "execution_count": 61,
   "metadata": {},
   "outputs": [],
   "source": [
    "# Divide the data into a train set and a test set. \n",
    "X_tr, X_te, y_tr, y_te = train_test_split(X, y, test_size = test_set_proportion, stratify = y)"
   ]
  },
  {
   "cell_type": "code",
   "execution_count": 62,
   "metadata": {},
   "outputs": [
    {
     "data": {
      "text/plain": [
       "0.25"
      ]
     },
     "execution_count": 62,
     "metadata": {},
     "output_type": "execute_result"
    }
   ],
   "source": [
    "# Create a baseline containing only the most frequent value in the train set. \n",
    "most_frequent_value = np.bincount(y_tr.astype(int)).argmax()\n",
    "neural_networks_baseline4 = np.sum(y_te.astype(int) == most_frequent_value) / y_te.shape[0]\n",
    "neural_networks_baseline4"
   ]
  },
  {
   "cell_type": "code",
   "execution_count": 63,
   "metadata": {},
   "outputs": [
    {
     "name": "stdout",
     "output_type": "stream",
     "text": [
      "Train: (160, 100674)\n",
      "Test: (40, 100674)\n"
     ]
    }
   ],
   "source": [
    "# Rescale features variables. \n",
    "scaler = StandardScaler()\n",
    "X_tr_standardized = scaler.fit_transform(X_tr)\n",
    "X_te_standardized = scaler.transform(X_te)\n",
    "\n",
    "print('Train:', X_tr_standardized.shape)\n",
    "print('Test:', X_te_standardized.shape)"
   ]
  },
  {
   "cell_type": "code",
   "execution_count": 64,
   "metadata": {},
   "outputs": [],
   "source": [
    "# Encode target variable. \n",
    "y_tr_encoded = pd.get_dummies(y_tr)\n",
    "y_te_encoded = pd.get_dummies(y_te)"
   ]
  },
  {
   "cell_type": "code",
   "execution_count": 65,
   "metadata": {},
   "outputs": [
    {
     "data": {
      "text/plain": [
       "array([0, 1, 2, 3])"
      ]
     },
     "execution_count": 65,
     "metadata": {},
     "output_type": "execute_result"
    }
   ],
   "source": [
    "# Get and display the encoding order. \n",
    "encoding_order = np.unique(y_te)\n",
    "encoding_order"
   ]
  },
  {
   "cell_type": "code",
   "execution_count": 66,
   "metadata": {},
   "outputs": [
    {
     "name": "stdout",
     "output_type": "stream",
     "text": [
      "_________________________________________________________________\n",
      "Layer (type)                 Output Shape              Param #   \n",
      "=================================================================\n",
      "dense_5 (Dense)              (None, 128)               12886400  \n",
      "_________________________________________________________________\n",
      "dropout_2 (Dropout)          (None, 128)               0         \n",
      "_________________________________________________________________\n",
      "dense_6 (Dense)              (None, 4)                 516       \n",
      "=================================================================\n",
      "Total params: 12,886,916\n",
      "Trainable params: 12,886,916\n",
      "Non-trainable params: 0\n",
      "_________________________________________________________________\n"
     ]
    }
   ],
   "source": [
    "# Create model. \n",
    "model_dense4 = Sequential()\n",
    "\n",
    "# Hidden layer. \n",
    "model_dense4.add(Dense(\n",
    "    units = 128, activation = activations.relu, input_dim = X_tr_standardized.shape[1],\n",
    "    kernel_initializer = initializers.VarianceScaling(scale = 2.0, seed = 0),\n",
    "    kernel_regularizer = l2(0.01), bias_regularizer = l2(0.01)))\n",
    "model_dense4.add(Dropout(0.5, seed = 0))\n",
    "\n",
    "# Output layer. \n",
    "model_dense4.add(Dense(\n",
    "    units = nb_target_values, activation = activations.softmax,\n",
    "    kernel_initializer = initializers.VarianceScaling(scale = 1.0, seed = 0)))\n",
    "\n",
    "# Define loss function, optimizer and metrics to track during training. \n",
    "model_dense4.compile(optimizer = 'sgd', loss = 'categorical_crossentropy', metrics = ['acc'])\n",
    "\n",
    "# Print network summary. \n",
    "model_dense4.summary()"
   ]
  },
  {
   "cell_type": "code",
   "execution_count": 67,
   "metadata": {},
   "outputs": [
    {
     "name": "stdout",
     "output_type": "stream",
     "text": [
      "Train on 128 samples, validate on 32 samples\n",
      "Epoch 1/100\n",
      "128/128 [==============================] - 2s 13ms/step - loss: 5.2176 - acc: 0.3047 - val_loss: 8.6960 - val_acc: 0.2812\n",
      "Epoch 2/100\n",
      "128/128 [==============================] - 0s 2ms/step - loss: 7.4301 - acc: 0.4375 - val_loss: 5.5887 - val_acc: 0.5000\n",
      "Epoch 3/100\n",
      "128/128 [==============================] - 0s 2ms/step - loss: 4.3064 - acc: 0.7109 - val_loss: 5.2661 - val_acc: 0.5312\n",
      "Epoch 4/100\n",
      "128/128 [==============================] - 0s 2ms/step - loss: 4.1076 - acc: 0.7891 - val_loss: 4.6164 - val_acc: 0.6562\n",
      "Epoch 5/100\n",
      "128/128 [==============================] - 0s 2ms/step - loss: 4.2164 - acc: 0.8125 - val_loss: 5.1596 - val_acc: 0.5312\n",
      "Epoch 6/100\n",
      "128/128 [==============================] - 0s 2ms/step - loss: 3.0882 - acc: 0.8672 - val_loss: 4.0866 - val_acc: 0.4688\n",
      "Epoch 7/100\n",
      "128/128 [==============================] - 0s 2ms/step - loss: 2.7386 - acc: 0.9453 - val_loss: 3.7466 - val_acc: 0.6250\n",
      "Epoch 8/100\n",
      "128/128 [==============================] - 0s 2ms/step - loss: 2.7313 - acc: 0.9375 - val_loss: 3.8319 - val_acc: 0.5625\n",
      "Epoch 9/100\n",
      "128/128 [==============================] - 0s 2ms/step - loss: 2.6894 - acc: 0.9609 - val_loss: 4.3007 - val_acc: 0.6250\n",
      "Epoch 10/100\n",
      "128/128 [==============================] - 0s 2ms/step - loss: 2.7125 - acc: 0.9375 - val_loss: 3.8736 - val_acc: 0.5625\n",
      "Epoch 11/100\n",
      "128/128 [==============================] - 0s 2ms/step - loss: 2.6070 - acc: 0.9766 - val_loss: 3.6921 - val_acc: 0.5938\n",
      "Epoch 12/100\n",
      "128/128 [==============================] - 0s 2ms/step - loss: 2.6001 - acc: 0.9844 - val_loss: 3.7321 - val_acc: 0.5625\n",
      "Epoch 13/100\n",
      "128/128 [==============================] - 0s 2ms/step - loss: 2.5822 - acc: 0.9844 - val_loss: 3.7962 - val_acc: 0.5312\n",
      "Epoch 14/100\n",
      "128/128 [==============================] - 0s 2ms/step - loss: 2.5641 - acc: 1.0000 - val_loss: 3.7743 - val_acc: 0.5625\n",
      "Epoch 15/100\n",
      "128/128 [==============================] - 0s 2ms/step - loss: 2.5847 - acc: 0.9922 - val_loss: 3.8016 - val_acc: 0.5938\n",
      "Epoch 16/100\n",
      "128/128 [==============================] - 0s 2ms/step - loss: 2.5624 - acc: 0.9844 - val_loss: 3.7591 - val_acc: 0.5938\n",
      "Epoch 17/100\n",
      "128/128 [==============================] - 0s 2ms/step - loss: 2.5548 - acc: 1.0000 - val_loss: 3.7543 - val_acc: 0.5938\n"
     ]
    }
   ],
   "source": [
    "# End training when accuracy stops improving. \n",
    "early_stopping = keras.callbacks.EarlyStopping(monitor = 'val_loss', patience = 6)\n",
    "\n",
    "# Fit model. \n",
    "history_dense4 = model_dense4.fit(\n",
    "    x = X_tr_standardized, y = y_tr_encoded,\n",
    "    validation_split = validation_split, batch_size = batch_size, epochs = 100,\n",
    "    shuffle = True, callbacks = [early_stopping]\n",
    ")"
   ]
  },
  {
   "cell_type": "code",
   "execution_count": 68,
   "metadata": {},
   "outputs": [
    {
     "data": {
      "image/png": "[encoded data removed]",
      "text/plain": [
       "<Figure size 864x288 with 2 Axes>"
      ]
     },
     "metadata": {
      "needs_background": "light"
     },
     "output_type": "display_data"
    }
   ],
   "source": [
    "# Display the results. \n",
    "neural_network_graph(history_dense4)"
   ]
  },
  {
   "cell_type": "code",
   "execution_count": 69,
   "metadata": {},
   "outputs": [
    {
     "name": "stdout",
     "output_type": "stream",
     "text": [
      "40/40 [==============================] - 0s 595us/step\n",
      "Test loss: 3.56\n",
      "Test accuracy: 72.50%\n"
     ]
    }
   ],
   "source": [
    "# Evaluate test score. \n",
    "(test_loss, test_score_dense4) = model_dense4.evaluate(X_te_standardized, y_te_encoded, batch_size = batch_size)\n",
    "\n",
    "print('Test loss: {:.2f}'.format(test_loss))\n",
    "print('Test accuracy: {:.2f}%'.format(100 * test_score_dense4))"
   ]
  },
  {
   "cell_type": "code",
   "execution_count": 70,
   "metadata": {},
   "outputs": [
    {
     "data": {
      "text/plain": [
       "array([3, 2, 3, 2, 0, 3, 3, 0, 0, 1, 2, 0, 0, 2, 3, 1, 2, 3, 2, 3, 2, 1,\n",
       "       3, 1, 1, 0, 0, 2, 0, 0, 3, 2, 0, 1, 0, 3, 2, 3, 0, 3])"
      ]
     },
     "execution_count": 70,
     "metadata": {},
     "output_type": "execute_result"
    }
   ],
   "source": [
    "# Compute and display the predictions of the neural network. \n",
    "y_pred_dense4 = encoding_order[model_dense4.predict_classes(X_te_standardized)]\n",
    "y_pred_dense4"
   ]
  },
  {
   "cell_type": "code",
   "execution_count": 71,
   "metadata": {},
   "outputs": [
    {
     "data": {
      "text/plain": [
       "0.725"
      ]
     },
     "execution_count": 71,
     "metadata": {},
     "output_type": "execute_result"
    }
   ],
   "source": [
    "# Security check: compute the accuracy from these predictions. \n",
    "test_score_dense4_from_pred = np.sum(y_pred_dense4 == y_te) / len(y_te)\n",
    "test_score_dense4_from_pred"
   ]
  },
  {
   "cell_type": "code",
   "execution_count": 72,
   "metadata": {},
   "outputs": [
    {
     "data": {
      "text/plain": [
       "True"
      ]
     },
     "execution_count": 72,
     "metadata": {},
     "output_type": "execute_result"
    }
   ],
   "source": [
    "# Verify if the two accuracies are equal. \n",
    "np.round(test_score_dense4_from_pred, 4) == np.round(test_score_dense4, 4)"
   ]
  },
  {
   "cell_type": "code",
   "execution_count": 73,
   "metadata": {},
   "outputs": [
    {
     "data": {
      "text/plain": [
       "0.25"
      ]
     },
     "execution_count": 73,
     "metadata": {},
     "output_type": "execute_result"
    }
   ],
   "source": [
    "# Display again the baseline. \n",
    "neural_networks_baseline4"
   ]
  },
  {
   "cell_type": "markdown",
   "metadata": {},
   "source": [
    "**Result:** The 2-layer neural network model performs better than the baseline. "
   ]
  },
  {
   "cell_type": "code",
   "execution_count": 74,
   "metadata": {},
   "outputs": [],
   "source": [
    "# Save the results into a .npz file. \n",
    "np.savez(results_path + 'neural_networks_with_fMRI_predictors_single_subject.npz', \n",
    "         test_score_dense1 = test_score_dense1, \n",
    "         test_score_dense2 = test_score_dense2, \n",
    "         test_score_dense3 = test_score_dense3, \n",
    "         test_score_dense4 = test_score_dense4, \n",
    "         y_pred_dense1 = y_pred_dense1, \n",
    "         y_pred_dense2 = y_pred_dense2, \n",
    "         y_pred_dense3 = y_pred_dense3,\n",
    "         y_pred_dense4 = y_pred_dense4,\n",
    "         neural_networks_baseline1 = neural_networks_baseline,\n",
    "         neural_networks_baseline2 = neural_networks_baseline,\n",
    "         neural_networks_baseline3 = neural_networks_baseline3,\n",
    "         neural_networks_baseline4 = neural_networks_baseline4)"
   ]
  },
  {
   "cell_type": "markdown",
   "metadata": {},
   "source": [
    "## **3. Neural networks based on EEG data**\n",
    "\n",
    "### **3.1 Dense neural network: 1-layer**\n",
    "\n",
    "In the following cells, we **run and compute the predictions from a 1-layer neural network model**. Our target will be the **brain state** variable according to our primary definition, i.e. whether the subject is currently in a rest block or in a task block. "
   ]
  },
  {
   "cell_type": "code",
   "execution_count": 75,
   "metadata": {},
   "outputs": [
    {
     "name": "stdout",
     "output_type": "stream",
     "text": [
      "[0 0 0 0 0 0 0 0 0 0 1 1 1 1 1 1 1 1 1 1 0 0 0 0 0 0 0 0 0 0 1 1 1 1 1 1 1\n",
      " 1 1 1 0 0 0 0 0 0 0 0 0 0 1 1 1 1 1 1 1 1 1 1 0 0 0 0 0 0 0 0 0 0 1 1 1 1\n",
      " 1 1 1 1 1 1 0 0 0 0 0 0 0 0 0 0 1 1 1 1 1 1 1 1 1 1 0 0 0 0 0 0 0 0 0 0 1\n",
      " 1 1 1 1 1 1 1 1 1 0 0 0 0 0 0 0 0 0 0 1 1 1 1 1 1 1 1 1 1 0 0 0 0 0 0 0 0\n",
      " 0 0 1 1 1 1 1 1 1 1 1 1 0 0 0 0 0 0 0 0 0 0 1 1 1 1 1 1 1 1 1 1 0 0 0 0 0\n",
      " 0 0 0 0 0 1 1 1 1 1 1 1 1 1 1]\n"
     ]
    }
   ],
   "source": [
    "# Define and display the target variable. \n",
    "y = np.repeat(np.tile([0, 1], 10), 10)\n",
    "print(y)"
   ]
  },
  {
   "cell_type": "code",
   "execution_count": 76,
   "metadata": {},
   "outputs": [
    {
     "data": {
      "text/plain": [
       "(200,)"
      ]
     },
     "execution_count": 76,
     "metadata": {},
     "output_type": "execute_result"
    }
   ],
   "source": [
    "# Display the shape of the target variable. \n",
    "y.shape"
   ]
  },
  {
   "cell_type": "code",
   "execution_count": 77,
   "metadata": {},
   "outputs": [],
   "source": [
    "# Define the features variables. \n",
    "X = predictors_EEG_single_subject_all_channels_200_samples\n",
    "\n",
    "# Divide the data into a train set and a test set. \n",
    "X_tr, X_te, y_tr, y_te = train_test_split(X, y, test_size = test_set_proportion)"
   ]
  },
  {
   "cell_type": "code",
   "execution_count": 78,
   "metadata": {},
   "outputs": [
    {
     "data": {
      "text/plain": [
       "0.4"
      ]
     },
     "execution_count": 78,
     "metadata": {},
     "output_type": "execute_result"
    }
   ],
   "source": [
    "# Create a baseline containing only the most frequent value in the train set. \n",
    "most_frequent_value = np.bincount(y_tr.astype(int)).argmax()\n",
    "neural_networks_baseline = np.sum(y_te.astype(int) == most_frequent_value) / y_te.shape[0]\n",
    "neural_networks_baseline"
   ]
  },
  {
   "cell_type": "code",
   "execution_count": 79,
   "metadata": {},
   "outputs": [
    {
     "name": "stdout",
     "output_type": "stream",
     "text": [
      "Train: (160, 320)\n",
      "Test: (40, 320)\n"
     ]
    }
   ],
   "source": [
    "# Rescale features variables. \n",
    "scaler = StandardScaler()\n",
    "X_tr_standardized = scaler.fit_transform(X_tr)\n",
    "X_te_standardized = scaler.transform(X_te)\n",
    "\n",
    "print('Train:', X_tr_standardized.shape)\n",
    "print('Test:', X_te_standardized.shape)"
   ]
  },
  {
   "cell_type": "code",
   "execution_count": 80,
   "metadata": {},
   "outputs": [],
   "source": [
    "# Encode target variable. \n",
    "y_tr_encoded = pd.get_dummies(y_tr)\n",
    "y_te_encoded = pd.get_dummies(y_te)"
   ]
  },
  {
   "cell_type": "code",
   "execution_count": 81,
   "metadata": {},
   "outputs": [
    {
     "data": {
      "text/plain": [
       "array([0, 1])"
      ]
     },
     "execution_count": 81,
     "metadata": {},
     "output_type": "execute_result"
    }
   ],
   "source": [
    "# Get and display the encoding order. \n",
    "encoding_order = np.unique(y_te)\n",
    "encoding_order"
   ]
  },
  {
   "cell_type": "code",
   "execution_count": 82,
   "metadata": {},
   "outputs": [
    {
     "name": "stdout",
     "output_type": "stream",
     "text": [
      "_________________________________________________________________\n",
      "Layer (type)                 Output Shape              Param #   \n",
      "=================================================================\n",
      "dense_7 (Dense)              (None, 2)                 642       \n",
      "=================================================================\n",
      "Total params: 642\n",
      "Trainable params: 642\n",
      "Non-trainable params: 0\n",
      "_________________________________________________________________\n"
     ]
    }
   ],
   "source": [
    "# Create model. \n",
    "model_dense1 = Sequential()\n",
    "\n",
    "# Output layer. \n",
    "model_dense1.add(Dense(\n",
    "    units = 2, activation = activations.softmax, input_dim = X_tr_standardized.shape[1],\n",
    "    kernel_initializer = initializers.VarianceScaling(scale = 1.0, seed = 0)))\n",
    "\n",
    "# Define loss function, optimizer and metrics to track during training. \n",
    "model_dense1.compile(optimizer = 'sgd', loss = 'categorical_crossentropy', metrics = ['acc'])\n",
    "\n",
    "# Print network summary. \n",
    "model_dense1.summary()"
   ]
  },
  {
   "cell_type": "code",
   "execution_count": 83,
   "metadata": {},
   "outputs": [
    {
     "data": {
      "text/plain": [
       "True"
      ]
     },
     "execution_count": 83,
     "metadata": {},
     "output_type": "execute_result"
    }
   ],
   "source": [
    "# Security check: verify that the number of parameters corresponds to what is expected, \n",
    "# i.e. the number of features multiplied by the number of target classes, plus the biases for each output neuron. \n",
    "model_dense1.count_params() == ((X_tr_standardized.shape[1] * 2) + 2)"
   ]
  },
  {
   "cell_type": "code",
   "execution_count": 84,
   "metadata": {},
   "outputs": [
    {
     "name": "stdout",
     "output_type": "stream",
     "text": [
      "Train on 128 samples, validate on 32 samples\n",
      "Epoch 1/100\n",
      "128/128 [==============================] - 0s 4ms/step - loss: 0.8461 - acc: 0.4297 - val_loss: 0.7496 - val_acc: 0.5625\n",
      "Epoch 2/100\n",
      "128/128 [==============================] - 0s 45us/step - loss: 0.6815 - acc: 0.6016 - val_loss: 0.6962 - val_acc: 0.5625\n",
      "Epoch 3/100\n",
      "128/128 [==============================] - 0s 45us/step - loss: 0.6541 - acc: 0.6094 - val_loss: 0.6781 - val_acc: 0.5625\n",
      "Epoch 4/100\n",
      "128/128 [==============================] - 0s 39us/step - loss: 0.6389 - acc: 0.6172 - val_loss: 0.6390 - val_acc: 0.5938\n",
      "Epoch 5/100\n",
      "128/128 [==============================] - 0s 30us/step - loss: 0.6251 - acc: 0.6250 - val_loss: 0.6069 - val_acc: 0.5625\n",
      "Epoch 6/100\n",
      "128/128 [==============================] - 0s 30us/step - loss: 0.6207 - acc: 0.6406 - val_loss: 0.6154 - val_acc: 0.5938\n",
      "Epoch 7/100\n",
      "128/128 [==============================] - 0s 37us/step - loss: 0.6181 - acc: 0.6172 - val_loss: 0.6116 - val_acc: 0.5938\n",
      "Epoch 8/100\n",
      "128/128 [==============================] - 0s 36us/step - loss: 0.6163 - acc: 0.6172 - val_loss: 0.6035 - val_acc: 0.5938\n",
      "Epoch 9/100\n",
      "128/128 [==============================] - 0s 33us/step - loss: 0.6208 - acc: 0.6172 - val_loss: 0.5976 - val_acc: 0.5938\n",
      "Epoch 10/100\n",
      "128/128 [==============================] - 0s 38us/step - loss: 0.6241 - acc: 0.6250 - val_loss: 0.5992 - val_acc: 0.5938\n",
      "Epoch 11/100\n",
      "128/128 [==============================] - 0s 34us/step - loss: 0.6214 - acc: 0.6250 - val_loss: 0.5960 - val_acc: 0.6250\n",
      "Epoch 12/100\n",
      "128/128 [==============================] - 0s 29us/step - loss: 0.6202 - acc: 0.6094 - val_loss: 0.5992 - val_acc: 0.5938\n",
      "Epoch 13/100\n",
      "128/128 [==============================] - 0s 30us/step - loss: 0.6166 - acc: 0.6250 - val_loss: 0.6002 - val_acc: 0.6250\n",
      "Epoch 14/100\n",
      "128/128 [==============================] - 0s 30us/step - loss: 0.6150 - acc: 0.6250 - val_loss: 0.5984 - val_acc: 0.6250\n",
      "Epoch 15/100\n",
      "128/128 [==============================] - 0s 28us/step - loss: 0.6143 - acc: 0.6094 - val_loss: 0.5981 - val_acc: 0.6250\n",
      "Epoch 16/100\n",
      "128/128 [==============================] - 0s 28us/step - loss: 0.6154 - acc: 0.6328 - val_loss: 0.5979 - val_acc: 0.6250\n",
      "Epoch 17/100\n",
      "128/128 [==============================] - 0s 33us/step - loss: 0.6163 - acc: 0.6172 - val_loss: 0.6005 - val_acc: 0.6250\n"
     ]
    }
   ],
   "source": [
    "# End training when accuracy stops improving. \n",
    "early_stopping = keras.callbacks.EarlyStopping(monitor = 'val_loss', patience = 6)\n",
    "\n",
    "# Fit model. \n",
    "history_dense1 = model_dense1.fit(\n",
    "    x = X_tr_standardized, y = y_tr_encoded,\n",
    "    validation_split = validation_split, batch_size = batch_size, epochs = 100,\n",
    "    shuffle = True, callbacks = [early_stopping]\n",
    ")"
   ]
  },
  {
   "cell_type": "code",
   "execution_count": 85,
   "metadata": {},
   "outputs": [
    {
     "data": {
      "image/png": "[encoded data removed]",
      "text/plain": [
       "<Figure size 864x288 with 2 Axes>"
      ]
     },
     "metadata": {
      "needs_background": "light"
     },
     "output_type": "display_data"
    }
   ],
   "source": [
    "# Display the results. \n",
    "neural_network_graph(history_dense1)"
   ]
  },
  {
   "cell_type": "code",
   "execution_count": 86,
   "metadata": {},
   "outputs": [
    {
     "name": "stdout",
     "output_type": "stream",
     "text": [
      "40/40 [==============================] - 0s 24us/step\n",
      "Test loss: 0.64\n",
      "Test accuracy: 60.00%\n"
     ]
    }
   ],
   "source": [
    "# Evaluate test score. \n",
    "(test_loss, test_score_dense1) = model_dense1.evaluate(X_te_standardized, y_te_encoded, batch_size = batch_size)\n",
    "\n",
    "print('Test loss: {:.2f}'.format(test_loss))\n",
    "print('Test accuracy: {:.2f}%'.format(100 * test_score_dense1))"
   ]
  },
  {
   "cell_type": "code",
   "execution_count": 87,
   "metadata": {},
   "outputs": [
    {
     "data": {
      "text/plain": [
       "array([0, 0, 0, 0, 0, 0, 0, 0, 1, 0, 0, 0, 0, 0, 1, 1, 0, 0, 0, 1, 0, 0,\n",
       "       1, 0, 0, 0, 0, 1, 1, 0, 0, 1, 0, 0, 1, 0, 0, 0, 0, 1])"
      ]
     },
     "execution_count": 87,
     "metadata": {},
     "output_type": "execute_result"
    }
   ],
   "source": [
    "# Compute and display the predictions of the neural network. \n",
    "y_pred_dense1 = encoding_order[model_dense1.predict_classes(X_te_standardized)]\n",
    "y_pred_dense1"
   ]
  },
  {
   "cell_type": "code",
   "execution_count": 88,
   "metadata": {},
   "outputs": [
    {
     "data": {
      "text/plain": [
       "0.6"
      ]
     },
     "execution_count": 88,
     "metadata": {},
     "output_type": "execute_result"
    }
   ],
   "source": [
    "# Security check: compute the accuracy from these predictions. \n",
    "test_score_dense1_from_pred = np.sum(y_pred_dense1 == y_te) / len(y_te)\n",
    "test_score_dense1_from_pred"
   ]
  },
  {
   "cell_type": "code",
   "execution_count": 89,
   "metadata": {},
   "outputs": [
    {
     "data": {
      "text/plain": [
       "True"
      ]
     },
     "execution_count": 89,
     "metadata": {},
     "output_type": "execute_result"
    }
   ],
   "source": [
    "# Verify if the two accuracies are equal. \n",
    "np.round(test_score_dense1_from_pred, 4) == np.round(test_score_dense1, 4)"
   ]
  },
  {
   "cell_type": "code",
   "execution_count": 90,
   "metadata": {},
   "outputs": [
    {
     "data": {
      "text/plain": [
       "0.4"
      ]
     },
     "execution_count": 90,
     "metadata": {},
     "output_type": "execute_result"
    }
   ],
   "source": [
    "# Display again the baseline. \n",
    "neural_networks_baseline"
   ]
  },
  {
   "cell_type": "markdown",
   "metadata": {},
   "source": [
    "**Result:** The 1-layer neural network model performs better than the baseline. "
   ]
  },
  {
   "cell_type": "code",
   "execution_count": 91,
   "metadata": {},
   "outputs": [
    {
     "data": {
      "text/html": [
       "<div>\n",
       "<style scoped>\n",
       "    .dataframe tbody tr th:only-of-type {\n",
       "        vertical-align: middle;\n",
       "    }\n",
       "\n",
       "    .dataframe tbody tr th {\n",
       "        vertical-align: top;\n",
       "    }\n",
       "\n",
       "    .dataframe thead th {\n",
       "        text-align: right;\n",
       "    }\n",
       "</style>\n",
       "<table border=\"1\" class=\"dataframe\">\n",
       "  <thead>\n",
       "    <tr style=\"text-align: right;\">\n",
       "      <th>Predictions</th>\n",
       "      <th>rest</th>\n",
       "      <th>task</th>\n",
       "    </tr>\n",
       "    <tr>\n",
       "      <th>True class</th>\n",
       "      <th></th>\n",
       "      <th></th>\n",
       "    </tr>\n",
       "  </thead>\n",
       "  <tbody>\n",
       "    <tr>\n",
       "      <th>rest</th>\n",
       "      <td>19</td>\n",
       "      <td>5</td>\n",
       "    </tr>\n",
       "    <tr>\n",
       "      <th>task</th>\n",
       "      <td>11</td>\n",
       "      <td>5</td>\n",
       "    </tr>\n",
       "  </tbody>\n",
       "</table>\n",
       "</div>"
      ],
      "text/plain": [
       "Predictions  rest  task\n",
       "True class             \n",
       "rest           19     5\n",
       "task           11     5"
      ]
     },
     "execution_count": 91,
     "metadata": {},
     "output_type": "execute_result"
    }
   ],
   "source": [
    "# Rename the labels. \n",
    "y_te_renamed = np.array(['rest', 'task'])[y_te]\n",
    "y_pred_dense1_renamed = np.array(['rest', 'task'])[y_pred_dense1]\n",
    "\n",
    "# Display a Scikit-learn confusion matrix. \n",
    "confusion_matrix_dense1 = scikit_learn_confusion_matrix(y_te_renamed, y_pred_dense1_renamed)\n",
    "confusion_matrix_dense1"
   ]
  },
  {
   "cell_type": "markdown",
   "metadata": {},
   "source": [
    "### **3.2 Dense neural network: 2-layer**\n",
    "\n",
    "In the following cells, we **run and compute the predictions from a 2-layer neural network model**. We add both a dropout and a L2 regularization to the hidden layer. The number of units in the hidden layer was defined by trial and error. For the dropout and the regularization parameters, we simply use values that seem widely used by the machine learning community. Our target will be the **brain state** variable according to our primary definition, i.e. whether the subject is currently in a rest block or in a task block. "
   ]
  },
  {
   "cell_type": "code",
   "execution_count": 92,
   "metadata": {},
   "outputs": [
    {
     "name": "stdout",
     "output_type": "stream",
     "text": [
      "_________________________________________________________________\n",
      "Layer (type)                 Output Shape              Param #   \n",
      "=================================================================\n",
      "dense_8 (Dense)              (None, 128)               41088     \n",
      "_________________________________________________________________\n",
      "dropout_3 (Dropout)          (None, 128)               0         \n",
      "_________________________________________________________________\n",
      "dense_9 (Dense)              (None, 2)                 258       \n",
      "=================================================================\n",
      "Total params: 41,346\n",
      "Trainable params: 41,346\n",
      "Non-trainable params: 0\n",
      "_________________________________________________________________\n"
     ]
    }
   ],
   "source": [
    "# Create model. \n",
    "model_dense2 = Sequential()\n",
    "\n",
    "# Hidden layer. \n",
    "model_dense2.add(Dense(\n",
    "    units = 128, activation = activations.relu, input_dim = X_tr_standardized.shape[1],\n",
    "    kernel_initializer = initializers.VarianceScaling(scale = 2.0, seed = 0),\n",
    "    kernel_regularizer = l2(0.01), bias_regularizer = l2(0.01)))\n",
    "model_dense2.add(Dropout(0.5, seed = 0))\n",
    "\n",
    "# Output layer. \n",
    "model_dense2.add(Dense(\n",
    "    units = 2, activation = activations.softmax,\n",
    "    kernel_initializer = initializers.VarianceScaling(scale = 1.0, seed = 0)))\n",
    "\n",
    "# Define loss function, optimizer and metrics to track during training. \n",
    "model_dense2.compile(optimizer = 'sgd', loss = 'categorical_crossentropy', metrics = ['acc'])\n",
    "\n",
    "# Print network summary. \n",
    "model_dense2.summary()"
   ]
  },
  {
   "cell_type": "code",
   "execution_count": 93,
   "metadata": {},
   "outputs": [
    {
     "name": "stdout",
     "output_type": "stream",
     "text": [
      "Train on 128 samples, validate on 32 samples\n",
      "Epoch 1/100\n",
      "128/128 [==============================] - 1s 5ms/step - loss: 3.4062 - acc: 0.4922 - val_loss: 3.2473 - val_acc: 0.6875\n",
      "Epoch 2/100\n",
      "128/128 [==============================] - 0s 81us/step - loss: 3.2838 - acc: 0.5938 - val_loss: 3.2419 - val_acc: 0.6875\n",
      "Epoch 3/100\n",
      "128/128 [==============================] - 0s 88us/step - loss: 3.2383 - acc: 0.5937 - val_loss: 3.2455 - val_acc: 0.5938\n",
      "Epoch 4/100\n",
      "128/128 [==============================] - 0s 75us/step - loss: 3.2353 - acc: 0.5547 - val_loss: 3.2539 - val_acc: 0.5938\n",
      "Epoch 5/100\n",
      "128/128 [==============================] - 0s 101us/step - loss: 3.2758 - acc: 0.5859 - val_loss: 3.2524 - val_acc: 0.6250\n",
      "Epoch 6/100\n",
      "128/128 [==============================] - 0s 103us/step - loss: 3.2296 - acc: 0.5781 - val_loss: 3.2584 - val_acc: 0.6250\n",
      "Epoch 7/100\n",
      "128/128 [==============================] - 0s 75us/step - loss: 3.2628 - acc: 0.5937 - val_loss: 3.2590 - val_acc: 0.6250\n",
      "Epoch 8/100\n",
      "128/128 [==============================] - 0s 66us/step - loss: 3.2800 - acc: 0.5859 - val_loss: 3.2488 - val_acc: 0.6250\n"
     ]
    }
   ],
   "source": [
    "# End training when accuracy stops improving. \n",
    "early_stopping = keras.callbacks.EarlyStopping(monitor = 'val_loss', patience = 6)\n",
    "\n",
    "# Fit model. \n",
    "history_dense2 = model_dense2.fit(\n",
    "    x = X_tr_standardized, y = y_tr_encoded,\n",
    "    validation_split = validation_split, batch_size = batch_size, epochs = 100,\n",
    "    shuffle = True, callbacks = [early_stopping]\n",
    ")"
   ]
  },
  {
   "cell_type": "code",
   "execution_count": 94,
   "metadata": {},
   "outputs": [
    {
     "data": {
      "image/png": "[encoded data removed]",
      "text/plain": [
       "<Figure size 864x288 with 2 Axes>"
      ]
     },
     "metadata": {
      "needs_background": "light"
     },
     "output_type": "display_data"
    }
   ],
   "source": [
    "# Display the results. \n",
    "neural_network_graph(history_dense2)"
   ]
  },
  {
   "cell_type": "code",
   "execution_count": 95,
   "metadata": {},
   "outputs": [
    {
     "name": "stdout",
     "output_type": "stream",
     "text": [
      "40/40 [==============================] - 0s 38us/step\n",
      "Test loss: 3.25\n",
      "Test accuracy: 65.00%\n"
     ]
    }
   ],
   "source": [
    "# Evaluate test score. \n",
    "(test_loss, test_score_dense2) = model_dense2.evaluate(X_te_standardized, y_te_encoded, batch_size = batch_size)\n",
    "\n",
    "print('Test loss: {:.2f}'.format(test_loss))\n",
    "print('Test accuracy: {:.2f}%'.format(100 * test_score_dense2))"
   ]
  },
  {
   "cell_type": "code",
   "execution_count": 96,
   "metadata": {},
   "outputs": [
    {
     "data": {
      "text/plain": [
       "array([1, 0, 0, 0, 0, 0, 0, 0, 1, 0, 0, 0, 0, 0, 1, 1, 0, 0, 1, 1, 0, 0,\n",
       "       1, 0, 0, 0, 1, 1, 1, 1, 0, 1, 1, 0, 1, 0, 0, 1, 0, 1])"
      ]
     },
     "execution_count": 96,
     "metadata": {},
     "output_type": "execute_result"
    }
   ],
   "source": [
    "# Compute and display the predictions of the neural network. \n",
    "y_pred_dense2 = encoding_order[model_dense2.predict_classes(X_te_standardized)]\n",
    "y_pred_dense2"
   ]
  },
  {
   "cell_type": "code",
   "execution_count": 97,
   "metadata": {},
   "outputs": [
    {
     "data": {
      "text/plain": [
       "0.65"
      ]
     },
     "execution_count": 97,
     "metadata": {},
     "output_type": "execute_result"
    }
   ],
   "source": [
    "# Security check: compute the accuracy from these predictions. \n",
    "test_score_dense2_from_pred = np.sum(y_pred_dense2 == y_te) / len(y_te)\n",
    "test_score_dense2_from_pred"
   ]
  },
  {
   "cell_type": "code",
   "execution_count": 98,
   "metadata": {},
   "outputs": [
    {
     "data": {
      "text/plain": [
       "True"
      ]
     },
     "execution_count": 98,
     "metadata": {},
     "output_type": "execute_result"
    }
   ],
   "source": [
    "# Verify if the two accuracies are equal. \n",
    "np.round(test_score_dense2_from_pred, 4) == np.round(test_score_dense2, 4)"
   ]
  },
  {
   "cell_type": "code",
   "execution_count": 99,
   "metadata": {},
   "outputs": [
    {
     "data": {
      "text/plain": [
       "0.4"
      ]
     },
     "execution_count": 99,
     "metadata": {},
     "output_type": "execute_result"
    }
   ],
   "source": [
    "# Display again the baseline. \n",
    "neural_networks_baseline"
   ]
  },
  {
   "cell_type": "markdown",
   "metadata": {},
   "source": [
    "**Result:** The 2-layer neural network model performs better than the baseline. "
   ]
  },
  {
   "cell_type": "code",
   "execution_count": 100,
   "metadata": {},
   "outputs": [
    {
     "data": {
      "text/html": [
       "<div>\n",
       "<style scoped>\n",
       "    .dataframe tbody tr th:only-of-type {\n",
       "        vertical-align: middle;\n",
       "    }\n",
       "\n",
       "    .dataframe tbody tr th {\n",
       "        vertical-align: top;\n",
       "    }\n",
       "\n",
       "    .dataframe thead th {\n",
       "        text-align: right;\n",
       "    }\n",
       "</style>\n",
       "<table border=\"1\" class=\"dataframe\">\n",
       "  <thead>\n",
       "    <tr style=\"text-align: right;\">\n",
       "      <th>Predictions</th>\n",
       "      <th>rest</th>\n",
       "      <th>task</th>\n",
       "    </tr>\n",
       "    <tr>\n",
       "      <th>True class</th>\n",
       "      <th></th>\n",
       "      <th></th>\n",
       "    </tr>\n",
       "  </thead>\n",
       "  <tbody>\n",
       "    <tr>\n",
       "      <th>rest</th>\n",
       "      <td>17</td>\n",
       "      <td>7</td>\n",
       "    </tr>\n",
       "    <tr>\n",
       "      <th>task</th>\n",
       "      <td>7</td>\n",
       "      <td>9</td>\n",
       "    </tr>\n",
       "  </tbody>\n",
       "</table>\n",
       "</div>"
      ],
      "text/plain": [
       "Predictions  rest  task\n",
       "True class             \n",
       "rest           17     7\n",
       "task            7     9"
      ]
     },
     "execution_count": 100,
     "metadata": {},
     "output_type": "execute_result"
    }
   ],
   "source": [
    "# Rename the labels. \n",
    "y_te_renamed = np.array(['rest', 'task'])[y_te]\n",
    "y_pred_dense2_renamed = np.array(['rest', 'task'])[y_pred_dense2]\n",
    "\n",
    "# Display a Scikit-learn confusion matrix. \n",
    "confusion_matrix_dense2 = scikit_learn_confusion_matrix(y_te_renamed, y_pred_dense2_renamed)\n",
    "confusion_matrix_dense2"
   ]
  },
  {
   "cell_type": "markdown",
   "metadata": {},
   "source": [
    "### **3.3 Dense neural network: 2-layer, target: blocks**\n",
    "\n",
    "In the following cells, we **run and compute the predictions from a 2-layer neural network model**. Our target will be the **blocks** of the eegfmriNF run. Here, our objective is to find out if our neural networks can discriminate between the individual blocks of 20 seconds, and not just between the rest condition and the task condition. Since we have a larger number of target values, we will perform a train-test split with stratification. "
   ]
  },
  {
   "cell_type": "code",
   "execution_count": 101,
   "metadata": {},
   "outputs": [
    {
     "name": "stdout",
     "output_type": "stream",
     "text": [
      "[ 0  0  0  0  0  0  0  0  0  0  1  1  1  1  1  1  1  1  1  1  2  2  2  2\n",
      "  2  2  2  2  2  2  3  3  3  3  3  3  3  3  3  3  4  4  4  4  4  4  4  4\n",
      "  4  4  5  5  5  5  5  5  5  5  5  5  6  6  6  6  6  6  6  6  6  6  7  7\n",
      "  7  7  7  7  7  7  7  7  8  8  8  8  8  8  8  8  8  8  9  9  9  9  9  9\n",
      "  9  9  9  9 10 10 10 10 10 10 10 10 10 10 11 11 11 11 11 11 11 11 11 11\n",
      " 12 12 12 12 12 12 12 12 12 12 13 13 13 13 13 13 13 13 13 13 14 14 14 14\n",
      " 14 14 14 14 14 14 15 15 15 15 15 15 15 15 15 15 16 16 16 16 16 16 16 16\n",
      " 16 16 17 17 17 17 17 17 17 17 17 17 18 18 18 18 18 18 18 18 18 18 19 19\n",
      " 19 19 19 19 19 19 19 19]\n"
     ]
    }
   ],
   "source": [
    "# Define and display the new target variable. \n",
    "y = np.repeat(range(20), 10)\n",
    "print(y)"
   ]
  },
  {
   "cell_type": "code",
   "execution_count": 102,
   "metadata": {},
   "outputs": [
    {
     "data": {
      "text/plain": [
       "(200,)"
      ]
     },
     "execution_count": 102,
     "metadata": {},
     "output_type": "execute_result"
    }
   ],
   "source": [
    "# Display the shape of the target variable. \n",
    "y.shape"
   ]
  },
  {
   "cell_type": "code",
   "execution_count": 103,
   "metadata": {},
   "outputs": [
    {
     "data": {
      "text/plain": [
       "20"
      ]
     },
     "execution_count": 103,
     "metadata": {},
     "output_type": "execute_result"
    }
   ],
   "source": [
    "# Store the number of different target values. \n",
    "nb_target_values = np.unique(y).shape[0]\n",
    "nb_target_values"
   ]
  },
  {
   "cell_type": "code",
   "execution_count": 104,
   "metadata": {},
   "outputs": [],
   "source": [
    "# Divide the data into a train set and a test set. \n",
    "X_tr, X_te, y_tr, y_te = train_test_split(X, y, test_size = test_set_proportion, stratify = y)"
   ]
  },
  {
   "cell_type": "code",
   "execution_count": 105,
   "metadata": {},
   "outputs": [
    {
     "data": {
      "text/plain": [
       "0.05"
      ]
     },
     "execution_count": 105,
     "metadata": {},
     "output_type": "execute_result"
    }
   ],
   "source": [
    "# Create a baseline containing only the most frequent value in the train set. \n",
    "most_frequent_value = np.bincount(y_tr.astype(int)).argmax()\n",
    "neural_networks_baseline3 = np.sum(y_te.astype(int) == most_frequent_value) / y_te.shape[0]\n",
    "neural_networks_baseline3"
   ]
  },
  {
   "cell_type": "code",
   "execution_count": 106,
   "metadata": {},
   "outputs": [
    {
     "name": "stdout",
     "output_type": "stream",
     "text": [
      "Train: (160, 320)\n",
      "Test: (40, 320)\n"
     ]
    }
   ],
   "source": [
    "# Rescale features variables. \n",
    "scaler = StandardScaler()\n",
    "X_tr_standardized = scaler.fit_transform(X_tr)\n",
    "X_te_standardized = scaler.transform(X_te)\n",
    "\n",
    "print('Train:', X_tr_standardized.shape)\n",
    "print('Test:', X_te_standardized.shape)"
   ]
  },
  {
   "cell_type": "code",
   "execution_count": 107,
   "metadata": {},
   "outputs": [],
   "source": [
    "# Encode target variable. \n",
    "y_tr_encoded = pd.get_dummies(y_tr)\n",
    "y_te_encoded = pd.get_dummies(y_te)"
   ]
  },
  {
   "cell_type": "code",
   "execution_count": 108,
   "metadata": {},
   "outputs": [
    {
     "data": {
      "text/plain": [
       "array([ 0,  1,  2,  3,  4,  5,  6,  7,  8,  9, 10, 11, 12, 13, 14, 15, 16,\n",
       "       17, 18, 19])"
      ]
     },
     "execution_count": 108,
     "metadata": {},
     "output_type": "execute_result"
    }
   ],
   "source": [
    "# Get and display the encoding order. \n",
    "encoding_order = np.unique(y_te)\n",
    "encoding_order"
   ]
  },
  {
   "cell_type": "code",
   "execution_count": 109,
   "metadata": {},
   "outputs": [
    {
     "name": "stdout",
     "output_type": "stream",
     "text": [
      "_________________________________________________________________\n",
      "Layer (type)                 Output Shape              Param #   \n",
      "=================================================================\n",
      "dense_10 (Dense)             (None, 128)               41088     \n",
      "_________________________________________________________________\n",
      "dropout_4 (Dropout)          (None, 128)               0         \n",
      "_________________________________________________________________\n",
      "dense_11 (Dense)             (None, 20)                2580      \n",
      "=================================================================\n",
      "Total params: 43,668\n",
      "Trainable params: 43,668\n",
      "Non-trainable params: 0\n",
      "_________________________________________________________________\n"
     ]
    }
   ],
   "source": [
    "# Create model. \n",
    "model_dense3 = Sequential()\n",
    "\n",
    "# Hidden layer. \n",
    "model_dense3.add(Dense(\n",
    "    units = 128, activation = activations.relu, input_dim = X_tr_standardized.shape[1],\n",
    "    kernel_initializer = initializers.VarianceScaling(scale = 2.0, seed = 0),\n",
    "    kernel_regularizer = l2(0.01), bias_regularizer = l2(0.01)))\n",
    "model_dense3.add(Dropout(0.5, seed = 0))\n",
    "\n",
    "# Output layer. \n",
    "model_dense3.add(Dense(\n",
    "    units = nb_target_values, activation = activations.softmax,\n",
    "    kernel_initializer = initializers.VarianceScaling(scale = 1.0, seed = 0)))\n",
    "\n",
    "# Define loss function, optimizer and metrics to track during training. \n",
    "model_dense3.compile(optimizer = 'sgd', loss = 'categorical_crossentropy', metrics = ['acc'])\n",
    "\n",
    "# Print network summary. \n",
    "model_dense3.summary()"
   ]
  },
  {
   "cell_type": "code",
   "execution_count": 110,
   "metadata": {},
   "outputs": [
    {
     "name": "stdout",
     "output_type": "stream",
     "text": [
      "Train on 128 samples, validate on 32 samples\n",
      "Epoch 1/100\n",
      "128/128 [==============================] - 1s 6ms/step - loss: 6.3970 - acc: 0.0313 - val_loss: 6.1498 - val_acc: 0.1250\n",
      "Epoch 2/100\n",
      "128/128 [==============================] - 0s 87us/step - loss: 6.3689 - acc: 0.0469 - val_loss: 6.0152 - val_acc: 0.0938\n",
      "Epoch 3/100\n",
      "128/128 [==============================] - 0s 82us/step - loss: 6.1951 - acc: 0.0625 - val_loss: 5.9431 - val_acc: 0.0938\n",
      "Epoch 4/100\n",
      "128/128 [==============================] - 0s 77us/step - loss: 6.0041 - acc: 0.0703 - val_loss: 5.8617 - val_acc: 0.1250\n",
      "Epoch 5/100\n",
      "128/128 [==============================] - 0s 98us/step - loss: 5.8588 - acc: 0.1016 - val_loss: 5.8325 - val_acc: 0.0938\n",
      "Epoch 6/100\n",
      "128/128 [==============================] - 0s 99us/step - loss: 5.7090 - acc: 0.0859 - val_loss: 5.7691 - val_acc: 0.0938\n",
      "Epoch 7/100\n",
      "128/128 [==============================] - 0s 85us/step - loss: 5.8440 - acc: 0.1016 - val_loss: 5.7258 - val_acc: 0.1250\n",
      "Epoch 8/100\n",
      "128/128 [==============================] - 0s 83us/step - loss: 5.7646 - acc: 0.0781 - val_loss: 5.6903 - val_acc: 0.0938\n",
      "Epoch 9/100\n",
      "128/128 [==============================] - 0s 84us/step - loss: 5.6776 - acc: 0.0859 - val_loss: 5.6560 - val_acc: 0.0938\n",
      "Epoch 10/100\n",
      "128/128 [==============================] - 0s 86us/step - loss: 5.4803 - acc: 0.1094 - val_loss: 5.6005 - val_acc: 0.1250\n",
      "Epoch 11/100\n",
      "128/128 [==============================] - 0s 81us/step - loss: 5.7190 - acc: 0.1016 - val_loss: 5.5682 - val_acc: 0.1562\n",
      "Epoch 12/100\n",
      "128/128 [==============================] - 0s 89us/step - loss: 5.5157 - acc: 0.1328 - val_loss: 5.5378 - val_acc: 0.1562\n",
      "Epoch 13/100\n",
      "128/128 [==============================] - 0s 85us/step - loss: 5.3681 - acc: 0.1719 - val_loss: 5.5232 - val_acc: 0.1562\n",
      "Epoch 14/100\n",
      "128/128 [==============================] - 0s 86us/step - loss: 5.4466 - acc: 0.1562 - val_loss: 5.4907 - val_acc: 0.1562\n",
      "Epoch 15/100\n",
      "128/128 [==============================] - 0s 86us/step - loss: 5.3202 - acc: 0.1641 - val_loss: 5.4827 - val_acc: 0.1562\n",
      "Epoch 16/100\n",
      "128/128 [==============================] - 0s 79us/step - loss: 5.5720 - acc: 0.1016 - val_loss: 5.4743 - val_acc: 0.1562\n",
      "Epoch 17/100\n",
      "128/128 [==============================] - 0s 72us/step - loss: 5.3571 - acc: 0.1406 - val_loss: 5.4814 - val_acc: 0.1562\n",
      "Epoch 18/100\n",
      "128/128 [==============================] - 0s 83us/step - loss: 5.4251 - acc: 0.1563 - val_loss: 5.4812 - val_acc: 0.1250\n",
      "Epoch 19/100\n",
      "128/128 [==============================] - 0s 86us/step - loss: 5.3141 - acc: 0.1094 - val_loss: 5.4837 - val_acc: 0.1250\n",
      "Epoch 20/100\n",
      "128/128 [==============================] - 0s 84us/step - loss: 5.3535 - acc: 0.1406 - val_loss: 5.4792 - val_acc: 0.1250\n",
      "Epoch 21/100\n",
      "128/128 [==============================] - 0s 86us/step - loss: 5.2722 - acc: 0.1562 - val_loss: 5.4701 - val_acc: 0.1250\n",
      "Epoch 22/100\n",
      "128/128 [==============================] - 0s 88us/step - loss: 5.2557 - acc: 0.1562 - val_loss: 5.4739 - val_acc: 0.0938\n",
      "Epoch 23/100\n",
      "128/128 [==============================] - 0s 75us/step - loss: 5.1722 - acc: 0.2266 - val_loss: 5.4751 - val_acc: 0.1250\n",
      "Epoch 24/100\n",
      "128/128 [==============================] - 0s 80us/step - loss: 5.3524 - acc: 0.1562 - val_loss: 5.4831 - val_acc: 0.0938\n",
      "Epoch 25/100\n",
      "128/128 [==============================] - 0s 90us/step - loss: 5.1895 - acc: 0.1562 - val_loss: 5.4813 - val_acc: 0.0938\n",
      "Epoch 26/100\n",
      "128/128 [==============================] - 0s 74us/step - loss: 5.2059 - acc: 0.1562 - val_loss: 5.4682 - val_acc: 0.1250\n",
      "Epoch 27/100\n",
      "128/128 [==============================] - 0s 73us/step - loss: 5.2278 - acc: 0.1719 - val_loss: 5.4718 - val_acc: 0.1250\n",
      "Epoch 28/100\n",
      "128/128 [==============================] - 0s 85us/step - loss: 5.1234 - acc: 0.1953 - val_loss: 5.4577 - val_acc: 0.1250\n",
      "Epoch 29/100\n",
      "128/128 [==============================] - 0s 78us/step - loss: 5.1387 - acc: 0.1953 - val_loss: 5.4670 - val_acc: 0.0938\n",
      "Epoch 30/100\n",
      "128/128 [==============================] - 0s 74us/step - loss: 5.1768 - acc: 0.1719 - val_loss: 5.4688 - val_acc: 0.1250\n",
      "Epoch 31/100\n",
      "128/128 [==============================] - 0s 73us/step - loss: 5.1314 - acc: 0.1875 - val_loss: 5.4641 - val_acc: 0.0938\n",
      "Epoch 32/100\n",
      "128/128 [==============================] - 0s 72us/step - loss: 5.1131 - acc: 0.1641 - val_loss: 5.4507 - val_acc: 0.1562\n",
      "Epoch 33/100\n",
      "128/128 [==============================] - 0s 88us/step - loss: 5.0539 - acc: 0.2266 - val_loss: 5.4522 - val_acc: 0.0938\n",
      "Epoch 34/100\n",
      "128/128 [==============================] - 0s 82us/step - loss: 5.0954 - acc: 0.2109 - val_loss: 5.4467 - val_acc: 0.1562\n",
      "Epoch 35/100\n",
      "128/128 [==============================] - 0s 82us/step - loss: 5.0262 - acc: 0.1875 - val_loss: 5.4523 - val_acc: 0.0938\n",
      "Epoch 36/100\n",
      "128/128 [==============================] - 0s 84us/step - loss: 5.1876 - acc: 0.1562 - val_loss: 5.4393 - val_acc: 0.1250\n",
      "Epoch 37/100\n",
      "128/128 [==============================] - 0s 76us/step - loss: 5.0030 - acc: 0.2031 - val_loss: 5.4280 - val_acc: 0.0938\n",
      "Epoch 38/100\n",
      "128/128 [==============================] - 0s 75us/step - loss: 5.0156 - acc: 0.1953 - val_loss: 5.4292 - val_acc: 0.0625\n",
      "Epoch 39/100\n",
      "128/128 [==============================] - 0s 93us/step - loss: 5.2569 - acc: 0.1797 - val_loss: 5.4269 - val_acc: 0.0625\n",
      "Epoch 40/100\n",
      "128/128 [==============================] - 0s 89us/step - loss: 5.0797 - acc: 0.2031 - val_loss: 5.4196 - val_acc: 0.0938\n",
      "Epoch 41/100\n",
      "128/128 [==============================] - 0s 78us/step - loss: 5.0588 - acc: 0.1875 - val_loss: 5.4219 - val_acc: 0.0625\n",
      "Epoch 42/100\n",
      "128/128 [==============================] - 0s 76us/step - loss: 4.9644 - acc: 0.2031 - val_loss: 5.4235 - val_acc: 0.0938\n",
      "Epoch 43/100\n",
      "128/128 [==============================] - 0s 81us/step - loss: 5.1607 - acc: 0.1562 - val_loss: 5.4301 - val_acc: 0.0938\n",
      "Epoch 44/100\n",
      "128/128 [==============================] - 0s 76us/step - loss: 5.1112 - acc: 0.1562 - val_loss: 5.4152 - val_acc: 0.1250\n",
      "Epoch 45/100\n",
      "128/128 [==============================] - 0s 79us/step - loss: 5.0330 - acc: 0.1641 - val_loss: 5.4178 - val_acc: 0.0938\n",
      "Epoch 46/100\n",
      "128/128 [==============================] - 0s 84us/step - loss: 5.0445 - acc: 0.2031 - val_loss: 5.4237 - val_acc: 0.0625\n",
      "Epoch 47/100\n",
      "128/128 [==============================] - 0s 76us/step - loss: 5.0893 - acc: 0.2109 - val_loss: 5.3948 - val_acc: 0.1250\n",
      "Epoch 48/100\n",
      "128/128 [==============================] - 0s 81us/step - loss: 4.9791 - acc: 0.2734 - val_loss: 5.4113 - val_acc: 0.0625\n",
      "Epoch 49/100\n",
      "128/128 [==============================] - 0s 87us/step - loss: 5.0870 - acc: 0.1641 - val_loss: 5.4027 - val_acc: 0.0625\n",
      "Epoch 50/100\n",
      "128/128 [==============================] - 0s 84us/step - loss: 4.9802 - acc: 0.1797 - val_loss: 5.4227 - val_acc: 0.0625\n",
      "Epoch 51/100\n",
      "128/128 [==============================] - 0s 75us/step - loss: 4.9183 - acc: 0.2266 - val_loss: 5.4185 - val_acc: 0.0625\n",
      "Epoch 52/100\n",
      "128/128 [==============================] - 0s 86us/step - loss: 5.0404 - acc: 0.1797 - val_loss: 5.4184 - val_acc: 0.0625\n",
      "Epoch 53/100\n",
      "128/128 [==============================] - 0s 81us/step - loss: 5.0118 - acc: 0.2188 - val_loss: 5.4037 - val_acc: 0.0938\n"
     ]
    }
   ],
   "source": [
    "# End training when accuracy stops improving. \n",
    "early_stopping = keras.callbacks.EarlyStopping(monitor = 'val_loss', patience = 6)\n",
    "\n",
    "# Fit model. \n",
    "history_dense3 = model_dense3.fit(\n",
    "    x = X_tr_standardized, y = y_tr_encoded,\n",
    "    validation_split = validation_split, batch_size = batch_size, epochs = 100,\n",
    "    shuffle = True, callbacks = [early_stopping]\n",
    ")"
   ]
  },
  {
   "cell_type": "code",
   "execution_count": 111,
   "metadata": {},
   "outputs": [
    {
     "data": {
      "image/png": "[encoded data removed]",
      "text/plain": [
       "<Figure size 864x288 with 2 Axes>"
      ]
     },
     "metadata": {
      "needs_background": "light"
     },
     "output_type": "display_data"
    }
   ],
   "source": [
    "# Display the results. \n",
    "neural_network_graph(history_dense3)"
   ]
  },
  {
   "cell_type": "code",
   "execution_count": 112,
   "metadata": {},
   "outputs": [
    {
     "name": "stdout",
     "output_type": "stream",
     "text": [
      "40/40 [==============================] - 0s 41us/step\n",
      "Test loss: 5.39\n",
      "Test accuracy: 12.50%\n"
     ]
    }
   ],
   "source": [
    "# Evaluate test score. \n",
    "(test_loss, test_score_dense3) = model_dense3.evaluate(X_te_standardized, y_te_encoded, batch_size = batch_size)\n",
    "\n",
    "print('Test loss: {:.2f}'.format(test_loss))\n",
    "print('Test accuracy: {:.2f}%'.format(100 * test_score_dense3))"
   ]
  },
  {
   "cell_type": "code",
   "execution_count": 113,
   "metadata": {},
   "outputs": [
    {
     "data": {
      "text/plain": [
       "array([ 0, 11,  0,  5, 12,  2, 16,  2, 18,  0, 12, 11, 14, 18, 12, 16, 18,\n",
       "       12,  0,  7,  3,  0, 10, 18,  2, 15,  0, 18, 11,  7,  2,  0, 16,  3,\n",
       "       12,  2,  5, 12,  5,  7])"
      ]
     },
     "execution_count": 113,
     "metadata": {},
     "output_type": "execute_result"
    }
   ],
   "source": [
    "# Compute and display the predictions of the neural network. \n",
    "y_pred_dense3 = encoding_order[model_dense3.predict_classes(X_te_standardized)]\n",
    "y_pred_dense3"
   ]
  },
  {
   "cell_type": "code",
   "execution_count": 114,
   "metadata": {},
   "outputs": [
    {
     "data": {
      "text/plain": [
       "0.125"
      ]
     },
     "execution_count": 114,
     "metadata": {},
     "output_type": "execute_result"
    }
   ],
   "source": [
    "# Security check: compute the accuracy from these predictions. \n",
    "test_score_dense3_from_pred = np.sum(y_pred_dense3 == y_te) / len(y_te)\n",
    "test_score_dense3_from_pred"
   ]
  },
  {
   "cell_type": "code",
   "execution_count": 115,
   "metadata": {},
   "outputs": [
    {
     "data": {
      "text/plain": [
       "True"
      ]
     },
     "execution_count": 115,
     "metadata": {},
     "output_type": "execute_result"
    }
   ],
   "source": [
    "# Verify if the two accuracies are equal. \n",
    "np.round(test_score_dense3_from_pred, 4) == np.round(test_score_dense3, 4)"
   ]
  },
  {
   "cell_type": "code",
   "execution_count": 116,
   "metadata": {},
   "outputs": [
    {
     "data": {
      "text/plain": [
       "0.05"
      ]
     },
     "execution_count": 116,
     "metadata": {},
     "output_type": "execute_result"
    }
   ],
   "source": [
    "# Display again the baseline. \n",
    "neural_networks_baseline3"
   ]
  },
  {
   "cell_type": "markdown",
   "metadata": {},
   "source": [
    "**Result:** The 2-layer neural network model performs better than the baseline. "
   ]
  },
  {
   "cell_type": "markdown",
   "metadata": {},
   "source": [
    "### **3.4 Dense neural network: 2-layer, target: block positions**\n",
    "\n",
    "In the following cells, we **run and compute the predictions from a 2-layer neural network model**. Our target will be the **block positions** of the eegfmriNF run. Here, our objective is to find out if our neural networks can discriminate not only between the rest and task blocks, but also between the beginning and the end of these blocks. Again, we will perform a train-test split with stratification. "
   ]
  },
  {
   "cell_type": "code",
   "execution_count": 117,
   "metadata": {},
   "outputs": [
    {
     "name": "stdout",
     "output_type": "stream",
     "text": [
      "[0 0 0 0 0 1 1 1 1 1 2 2 2 2 2 3 3 3 3 3 0 0 0 0 0 1 1 1 1 1 2 2 2 2 2 3 3\n",
      " 3 3 3 0 0 0 0 0 1 1 1 1 1 2 2 2 2 2 3 3 3 3 3 0 0 0 0 0 1 1 1 1 1 2 2 2 2\n",
      " 2 3 3 3 3 3 0 0 0 0 0 1 1 1 1 1 2 2 2 2 2 3 3 3 3 3 0 0 0 0 0 1 1 1 1 1 2\n",
      " 2 2 2 2 3 3 3 3 3 0 0 0 0 0 1 1 1 1 1 2 2 2 2 2 3 3 3 3 3 0 0 0 0 0 1 1 1\n",
      " 1 1 2 2 2 2 2 3 3 3 3 3 0 0 0 0 0 1 1 1 1 1 2 2 2 2 2 3 3 3 3 3 0 0 0 0 0\n",
      " 1 1 1 1 1 2 2 2 2 2 3 3 3 3 3]\n"
     ]
    }
   ],
   "source": [
    "# Define and display the new target variable. \n",
    "y = np.tile(np.repeat([0, 1, 2, 3], 5), 10)\n",
    "print(y)"
   ]
  },
  {
   "cell_type": "code",
   "execution_count": 118,
   "metadata": {},
   "outputs": [
    {
     "data": {
      "text/plain": [
       "(200,)"
      ]
     },
     "execution_count": 118,
     "metadata": {},
     "output_type": "execute_result"
    }
   ],
   "source": [
    "# Display the shape of the target variable. \n",
    "y.shape"
   ]
  },
  {
   "cell_type": "code",
   "execution_count": 119,
   "metadata": {},
   "outputs": [
    {
     "data": {
      "text/plain": [
       "4"
      ]
     },
     "execution_count": 119,
     "metadata": {},
     "output_type": "execute_result"
    }
   ],
   "source": [
    "# Store the number of different target values. \n",
    "nb_target_values = np.unique(y).shape[0]\n",
    "nb_target_values"
   ]
  },
  {
   "cell_type": "code",
   "execution_count": 120,
   "metadata": {},
   "outputs": [],
   "source": [
    "# Divide the data into a train set and a test set. \n",
    "X_tr, X_te, y_tr, y_te = train_test_split(X, y, test_size = test_set_proportion, stratify = y)"
   ]
  },
  {
   "cell_type": "code",
   "execution_count": 121,
   "metadata": {},
   "outputs": [
    {
     "data": {
      "text/plain": [
       "0.25"
      ]
     },
     "execution_count": 121,
     "metadata": {},
     "output_type": "execute_result"
    }
   ],
   "source": [
    "# Create a baseline containing only the most frequent value in the train set. \n",
    "most_frequent_value = np.bincount(y_tr.astype(int)).argmax()\n",
    "neural_networks_baseline4 = np.sum(y_te.astype(int) == most_frequent_value) / y_te.shape[0]\n",
    "neural_networks_baseline4"
   ]
  },
  {
   "cell_type": "code",
   "execution_count": 122,
   "metadata": {},
   "outputs": [
    {
     "name": "stdout",
     "output_type": "stream",
     "text": [
      "Train: (160, 320)\n",
      "Test: (40, 320)\n"
     ]
    }
   ],
   "source": [
    "# Rescale features variables. \n",
    "scaler = StandardScaler()\n",
    "X_tr_standardized = scaler.fit_transform(X_tr)\n",
    "X_te_standardized = scaler.transform(X_te)\n",
    "\n",
    "print('Train:', X_tr_standardized.shape)\n",
    "print('Test:', X_te_standardized.shape)"
   ]
  },
  {
   "cell_type": "code",
   "execution_count": 123,
   "metadata": {},
   "outputs": [],
   "source": [
    "# Encode target variable. \n",
    "y_tr_encoded = pd.get_dummies(y_tr)\n",
    "y_te_encoded = pd.get_dummies(y_te)"
   ]
  },
  {
   "cell_type": "code",
   "execution_count": 124,
   "metadata": {},
   "outputs": [
    {
     "data": {
      "text/plain": [
       "array([0, 1, 2, 3])"
      ]
     },
     "execution_count": 124,
     "metadata": {},
     "output_type": "execute_result"
    }
   ],
   "source": [
    "# Get and display the encoding order. \n",
    "encoding_order = np.unique(y_te)\n",
    "encoding_order"
   ]
  },
  {
   "cell_type": "code",
   "execution_count": 125,
   "metadata": {},
   "outputs": [
    {
     "name": "stdout",
     "output_type": "stream",
     "text": [
      "_________________________________________________________________\n",
      "Layer (type)                 Output Shape              Param #   \n",
      "=================================================================\n",
      "dense_12 (Dense)             (None, 128)               41088     \n",
      "_________________________________________________________________\n",
      "dropout_5 (Dropout)          (None, 128)               0         \n",
      "_________________________________________________________________\n",
      "dense_13 (Dense)             (None, 4)                 516       \n",
      "=================================================================\n",
      "Total params: 41,604\n",
      "Trainable params: 41,604\n",
      "Non-trainable params: 0\n",
      "_________________________________________________________________\n"
     ]
    }
   ],
   "source": [
    "# Create model. \n",
    "model_dense4 = Sequential()\n",
    "\n",
    "# Hidden layer. \n",
    "model_dense4.add(Dense(\n",
    "    units = 128, activation = activations.relu, input_dim = X_tr_standardized.shape[1],\n",
    "    kernel_initializer = initializers.VarianceScaling(scale = 2.0, seed = 0),\n",
    "    kernel_regularizer = l2(0.01), bias_regularizer = l2(0.01)))\n",
    "model_dense4.add(Dropout(0.5, seed = 0))\n",
    "\n",
    "# Output layer. \n",
    "model_dense4.add(Dense(\n",
    "    units = nb_target_values, activation = activations.softmax,\n",
    "    kernel_initializer = initializers.VarianceScaling(scale = 1.0, seed = 0)))\n",
    "\n",
    "# Define loss function, optimizer and metrics to track during training. \n",
    "model_dense4.compile(optimizer = 'sgd', loss = 'categorical_crossentropy', metrics = ['acc'])\n",
    "\n",
    "# Print network summary. \n",
    "model_dense4.summary()"
   ]
  },
  {
   "cell_type": "code",
   "execution_count": 126,
   "metadata": {},
   "outputs": [
    {
     "name": "stdout",
     "output_type": "stream",
     "text": [
      "Train on 128 samples, validate on 32 samples\n",
      "Epoch 1/100\n",
      "128/128 [==============================] - 1s 6ms/step - loss: 4.7653 - acc: 0.2188 - val_loss: 4.9594 - val_acc: 0.2500\n",
      "Epoch 2/100\n",
      "128/128 [==============================] - 0s 90us/step - loss: 4.4623 - acc: 0.2187 - val_loss: 4.8082 - val_acc: 0.2812\n",
      "Epoch 3/100\n",
      "128/128 [==============================] - 0s 88us/step - loss: 4.2230 - acc: 0.2578 - val_loss: 4.6794 - val_acc: 0.3438\n",
      "Epoch 4/100\n",
      "128/128 [==============================] - 0s 93us/step - loss: 4.3995 - acc: 0.2187 - val_loss: 4.6035 - val_acc: 0.2812\n",
      "Epoch 5/100\n",
      "128/128 [==============================] - 0s 95us/step - loss: 4.1596 - acc: 0.3047 - val_loss: 4.4972 - val_acc: 0.2812\n",
      "Epoch 6/100\n",
      "128/128 [==============================] - 0s 70us/step - loss: 4.1736 - acc: 0.2422 - val_loss: 4.3983 - val_acc: 0.2812\n",
      "Epoch 7/100\n",
      "128/128 [==============================] - 0s 67us/step - loss: 4.0744 - acc: 0.3281 - val_loss: 4.3165 - val_acc: 0.2500\n",
      "Epoch 8/100\n",
      "128/128 [==============================] - 0s 74us/step - loss: 4.0145 - acc: 0.3516 - val_loss: 4.2137 - val_acc: 0.2188\n",
      "Epoch 9/100\n",
      "128/128 [==============================] - 0s 74us/step - loss: 4.0370 - acc: 0.3125 - val_loss: 4.1243 - val_acc: 0.2500\n",
      "Epoch 10/100\n",
      "128/128 [==============================] - 0s 73us/step - loss: 4.1257 - acc: 0.3125 - val_loss: 4.1210 - val_acc: 0.2500\n",
      "Epoch 11/100\n",
      "128/128 [==============================] - 0s 65us/step - loss: 4.0169 - acc: 0.3828 - val_loss: 4.0793 - val_acc: 0.2500\n",
      "Epoch 12/100\n",
      "128/128 [==============================] - 0s 74us/step - loss: 3.9042 - acc: 0.3516 - val_loss: 4.0608 - val_acc: 0.2500\n",
      "Epoch 13/100\n",
      "128/128 [==============================] - 0s 66us/step - loss: 3.9743 - acc: 0.3125 - val_loss: 4.0123 - val_acc: 0.2812\n",
      "Epoch 14/100\n",
      "128/128 [==============================] - 0s 76us/step - loss: 4.0212 - acc: 0.3516 - val_loss: 3.9969 - val_acc: 0.2500\n",
      "Epoch 15/100\n",
      "128/128 [==============================] - 0s 71us/step - loss: 3.8825 - acc: 0.3750 - val_loss: 3.9771 - val_acc: 0.2812\n",
      "Epoch 16/100\n",
      "128/128 [==============================] - 0s 75us/step - loss: 3.9844 - acc: 0.4062 - val_loss: 3.9590 - val_acc: 0.2812\n",
      "Epoch 17/100\n",
      "128/128 [==============================] - 0s 68us/step - loss: 3.8990 - acc: 0.3516 - val_loss: 3.9377 - val_acc: 0.2500\n",
      "Epoch 18/100\n",
      "128/128 [==============================] - 0s 66us/step - loss: 3.9040 - acc: 0.3359 - val_loss: 3.9239 - val_acc: 0.2812\n",
      "Epoch 19/100\n",
      "128/128 [==============================] - 0s 72us/step - loss: 3.8541 - acc: 0.3516 - val_loss: 3.9234 - val_acc: 0.2812\n",
      "Epoch 20/100\n",
      "128/128 [==============================] - 0s 65us/step - loss: 3.9757 - acc: 0.3516 - val_loss: 3.9113 - val_acc: 0.3438\n",
      "Epoch 21/100\n",
      "128/128 [==============================] - 0s 68us/step - loss: 3.8485 - acc: 0.3828 - val_loss: 3.9003 - val_acc: 0.3438\n",
      "Epoch 22/100\n",
      "128/128 [==============================] - 0s 67us/step - loss: 3.9582 - acc: 0.3437 - val_loss: 3.8911 - val_acc: 0.3438\n",
      "Epoch 23/100\n",
      "128/128 [==============================] - 0s 70us/step - loss: 3.8660 - acc: 0.3672 - val_loss: 3.8848 - val_acc: 0.3438\n",
      "Epoch 24/100\n",
      "128/128 [==============================] - 0s 68us/step - loss: 3.8721 - acc: 0.3984 - val_loss: 3.8801 - val_acc: 0.3438\n",
      "Epoch 25/100\n",
      "128/128 [==============================] - 0s 66us/step - loss: 3.8327 - acc: 0.3594 - val_loss: 3.8802 - val_acc: 0.3750\n",
      "Epoch 26/100\n",
      "128/128 [==============================] - 0s 69us/step - loss: 3.8641 - acc: 0.3828 - val_loss: 3.8766 - val_acc: 0.3750\n",
      "Epoch 27/100\n",
      "128/128 [==============================] - 0s 66us/step - loss: 3.7958 - acc: 0.4453 - val_loss: 3.8657 - val_acc: 0.3438\n",
      "Epoch 28/100\n",
      "128/128 [==============================] - 0s 67us/step - loss: 3.8071 - acc: 0.4062 - val_loss: 3.8773 - val_acc: 0.3750\n",
      "Epoch 29/100\n",
      "128/128 [==============================] - 0s 69us/step - loss: 3.7963 - acc: 0.4141 - val_loss: 3.8774 - val_acc: 0.3750\n",
      "Epoch 30/100\n",
      "128/128 [==============================] - 0s 72us/step - loss: 3.7870 - acc: 0.4062 - val_loss: 3.8680 - val_acc: 0.3750\n",
      "Epoch 31/100\n",
      "128/128 [==============================] - 0s 74us/step - loss: 3.7831 - acc: 0.3750 - val_loss: 3.8815 - val_acc: 0.3438\n",
      "Epoch 32/100\n",
      "128/128 [==============================] - 0s 72us/step - loss: 3.8114 - acc: 0.4141 - val_loss: 3.8748 - val_acc: 0.3438\n",
      "Epoch 33/100\n",
      "128/128 [==============================] - 0s 79us/step - loss: 3.8350 - acc: 0.4297 - val_loss: 3.8688 - val_acc: 0.3750\n"
     ]
    }
   ],
   "source": [
    "# End training when accuracy stops improving. \n",
    "early_stopping = keras.callbacks.EarlyStopping(monitor = 'val_loss', patience = 6)\n",
    "\n",
    "# Fit model. \n",
    "history_dense4 = model_dense4.fit(\n",
    "    x = X_tr_standardized, y = y_tr_encoded,\n",
    "    validation_split = validation_split, batch_size = batch_size, epochs = 100,\n",
    "    shuffle = True, callbacks = [early_stopping]\n",
    ")"
   ]
  },
  {
   "cell_type": "code",
   "execution_count": 127,
   "metadata": {},
   "outputs": [
    {
     "data": {
      "image/png": "[encoded data removed]",
      "text/plain": [
       "<Figure size 864x288 with 2 Axes>"
      ]
     },
     "metadata": {
      "needs_background": "light"
     },
     "output_type": "display_data"
    }
   ],
   "source": [
    "# Display the results. \n",
    "neural_network_graph(history_dense4)"
   ]
  },
  {
   "cell_type": "code",
   "execution_count": 128,
   "metadata": {},
   "outputs": [
    {
     "name": "stdout",
     "output_type": "stream",
     "text": [
      "40/40 [==============================] - 0s 41us/step\n",
      "Test loss: 3.82\n",
      "Test accuracy: 32.50%\n"
     ]
    }
   ],
   "source": [
    "# Evaluate test score. \n",
    "(test_loss, test_score_dense4) = model_dense4.evaluate(X_te_standardized, y_te_encoded, batch_size = batch_size)\n",
    "\n",
    "print('Test loss: {:.2f}'.format(test_loss))\n",
    "print('Test accuracy: {:.2f}%'.format(100 * test_score_dense4))"
   ]
  },
  {
   "cell_type": "code",
   "execution_count": 129,
   "metadata": {},
   "outputs": [
    {
     "data": {
      "text/plain": [
       "array([1, 1, 3, 1, 3, 0, 3, 0, 0, 0, 0, 3, 0, 2, 3, 0, 0, 1, 3, 0, 3, 2,\n",
       "       0, 0, 0, 3, 3, 3, 3, 3, 2, 2, 1, 3, 2, 0, 1, 3, 0, 2])"
      ]
     },
     "execution_count": 129,
     "metadata": {},
     "output_type": "execute_result"
    }
   ],
   "source": [
    "# Compute and display the predictions of the neural network. \n",
    "y_pred_dense4 = encoding_order[model_dense4.predict_classes(X_te_standardized)]\n",
    "y_pred_dense4"
   ]
  },
  {
   "cell_type": "code",
   "execution_count": 130,
   "metadata": {},
   "outputs": [
    {
     "data": {
      "text/plain": [
       "0.325"
      ]
     },
     "execution_count": 130,
     "metadata": {},
     "output_type": "execute_result"
    }
   ],
   "source": [
    "# Security check: compute the accuracy from these predictions. \n",
    "test_score_dense4_from_pred = np.sum(y_pred_dense4 == y_te) / len(y_te)\n",
    "test_score_dense4_from_pred"
   ]
  },
  {
   "cell_type": "code",
   "execution_count": 131,
   "metadata": {},
   "outputs": [
    {
     "data": {
      "text/plain": [
       "True"
      ]
     },
     "execution_count": 131,
     "metadata": {},
     "output_type": "execute_result"
    }
   ],
   "source": [
    "# Verify if the two accuracies are equal. \n",
    "np.round(test_score_dense4_from_pred, 4) == np.round(test_score_dense4, 4)"
   ]
  },
  {
   "cell_type": "code",
   "execution_count": 132,
   "metadata": {},
   "outputs": [
    {
     "data": {
      "text/plain": [
       "0.25"
      ]
     },
     "execution_count": 132,
     "metadata": {},
     "output_type": "execute_result"
    }
   ],
   "source": [
    "# Display again the baseline. \n",
    "neural_networks_baseline4"
   ]
  },
  {
   "cell_type": "markdown",
   "metadata": {},
   "source": [
    "**Result:** The 2-layer neural network model performs better than the baseline. "
   ]
  },
  {
   "cell_type": "code",
   "execution_count": 133,
   "metadata": {},
   "outputs": [],
   "source": [
    "# Save the results into a .npz file. \n",
    "np.savez(results_path + 'neural_networks_with_EEG_predictors_single_subject.npz', \n",
    "         test_score_dense1 = test_score_dense1, \n",
    "         test_score_dense2 = test_score_dense2, \n",
    "         test_score_dense3 = test_score_dense3, \n",
    "         test_score_dense4 = test_score_dense4, \n",
    "         y_pred_dense1 = y_pred_dense1, \n",
    "         y_pred_dense2 = y_pred_dense2, \n",
    "         y_pred_dense3 = y_pred_dense3,\n",
    "         y_pred_dense4 = y_pred_dense4,\n",
    "         neural_networks_baseline1 = neural_networks_baseline,\n",
    "         neural_networks_baseline2 = neural_networks_baseline,\n",
    "         neural_networks_baseline3 = neural_networks_baseline3,\n",
    "         neural_networks_baseline4 = neural_networks_baseline4)"
   ]
  },
  {
   "cell_type": "code",
   "execution_count": null,
   "metadata": {},
   "outputs": [],
   "source": []
  }
 ],
 "metadata": {
  "kernelspec": {
   "display_name": "Python 3",
   "language": "python",
   "name": "python3"
  },
  "language_info": {
   "codemirror_mode": {
    "name": "ipython",
    "version": 3
   },
   "file_extension": ".py",
   "mimetype": "text/x-python",
   "name": "python",
   "nbconvert_exporter": "python",
   "pygments_lexer": "ipython3",
   "version": "3.6.11"
  }
 },
 "nbformat": 4,
 "nbformat_minor": 4
}
