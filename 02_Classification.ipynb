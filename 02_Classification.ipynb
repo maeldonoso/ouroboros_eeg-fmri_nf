{
 "cells": [
  {
   "cell_type": "markdown",
   "metadata": {},
   "source": [
    "# **Ouroboros EEG-fMRI NF: Predicting EEG activity, fMRI activity and NF scores**\n",
    "\n",
    "#### Version: 28th October 2022\n",
    "\n",
    "==============================================================================================\n",
    "\n",
    "Project developed by Maël Donoso, Ph.D. in Cognitive and Computational Neuroscience. Affiliations: Ouroboros Neurotechnologies (https://ouroboros-neurotechnologies.com/), Institut Lémanique du Cerveau (https://institut-cerveau.ch/), Policlinique Ostéopathique de Lausanne (https://policlinique-osteopathique-lausanne.ch/). "
   ]
  },
  {
   "cell_type": "markdown",
   "metadata": {},
   "source": [
    "==============================================================================================\n",
    "\n",
    "This project is presented through six Notebooks:\n",
    "\n",
    "*01: Data Analysis*\n",
    "\n",
    "***02: Classification* (all classification models except neural networks)**\n",
    "\n",
    "*03: Neural Networks*\n",
    "\n",
    "*04: Regression on fMRI Data*\n",
    "\n",
    "*05: Regression on EEG Data*\n",
    "\n",
    "*06: Results*\n",
    "\n",
    "=============================================================================================="
   ]
  },
  {
   "cell_type": "markdown",
   "metadata": {},
   "source": [
    "### Notebook 02\n",
    "\n",
    "# **Classification**"
   ]
  },
  {
   "cell_type": "markdown",
   "metadata": {},
   "source": [
    "## **1. Introduction to Classification**\n",
    "\n",
    "### 1.1 Objective\n",
    "\n",
    "The objective of this project is to **explore several ways to apply machine learning models to a given EEG-fMRI NF dataset, and to evaluate which ones result in interesting predictions**. In this Notebook, we will evaluate whether EEG data, fMRI data, or a combination of both, can be used to predict the **brain state** of the subject, i.e. when he/she is at rest versus when he/she is performing the NF task. \n",
    "\n",
    "In the previous Notebook, we have computed several **EEG bandpowers** covering the major frequency bands: delta (1-4 Hz), theta (4-8 Hz), alpha (8-12 Hz), beta (12-30 Hz) and high beta (30-50 Hz). For all subjects, these bandpowers were extracted for the C1 channel, and for the first subject, the bandpowers were also computed for all the other channels. Also, we have preprocessed the images containing the **fMRI BOLD signal**, by eliminating the signal of the voxels located roughly outside the brain, and rescaling the voxel size by a factor 2 or 3, while also keeping the images with the original voxel size. Finally, we have performed two PCA, with 200 and 10 components respectively, on the fMRI data. We will now use all these predictors as features for our classification models. \n",
    "\n",
    "### 1.2 Models\n",
    "\n",
    "We will use a variety of classification models: **k-NN**, **decision tree**, **random forest**, **SVM**, **logistic regression**. For all subjects, we will fine-tune the hyperparameters of these models using a grid search with cross-validation approach, and store the test score as well as the value of the best hyperparameter found. The baseline will be a model that always predicts the most frequent value from the train set. \n",
    "\n",
    "### 1.3 Data import\n",
    "\n",
    "Here we import the **EEG and fMRI data**. For the latter, we store the data in dictionaries. We also define the **target variable**, which will be the same for all subjects since the experimental design was identical for all the eegfmriNF runs. "
   ]
  },
  {
   "cell_type": "code",
   "execution_count": 1,
   "metadata": {},
   "outputs": [],
   "source": [
    "import os\n",
    "import pickle\n",
    "import numpy as np\n",
    "import pandas as pd\n",
    "import matplotlib.pyplot as plt\n",
    "%matplotlib inline"
   ]
  },
  {
   "cell_type": "code",
   "execution_count": 2,
   "metadata": {},
   "outputs": [],
   "source": [
    "# Define the raw data path. \n",
    "data_path = '../ouroboros_eeg-fmri_nf_raw_data/'\n",
    "\n",
    "# Define the preprocessed data path. \n",
    "preprocessed_data_path = '../ouroboros_eeg-fmri_nf_preprocessed_data/'\n",
    "\n",
    "# Define the results path. If empty, the results will be saved in the current directory. \n",
    "results_path = ''"
   ]
  },
  {
   "cell_type": "code",
   "execution_count": 3,
   "metadata": {},
   "outputs": [
    {
     "name": "stdout",
     "output_type": "stream",
     "text": [
      "['sub-xp101', 'sub-xp102', 'sub-xp103', 'sub-xp104', 'sub-xp105', 'sub-xp106', 'sub-xp107', 'sub-xp108', 'sub-xp109', 'sub-xp110']\n"
     ]
    }
   ],
   "source": [
    "# Define the list of subjects. \n",
    "subjects = []\n",
    "\n",
    "for subject_index in range(10):\n",
    "    if subject_index < 9:\n",
    "        subjects.append('sub-xp10' + str(subject_index + 1))\n",
    "    else:\n",
    "        subjects.append('sub-xp1' + str(subject_index + 1))\n",
    "\n",
    "print(subjects)"
   ]
  },
  {
   "cell_type": "code",
   "execution_count": 4,
   "metadata": {},
   "outputs": [],
   "source": [
    "# Load the EEG predictors. \n",
    "with open(preprocessed_data_path + 'predictors_EEG_200_samples.p', 'rb') as file:\n",
    "    predictors_EEG_200_samples = pickle.load(file)\n",
    "with open(preprocessed_data_path + 'predictors_EEG_1600_samples.p', 'rb') as file:\n",
    "    predictors_EEG_1600_samples = pickle.load(file)\n",
    "with open(preprocessed_data_path + 'predictors_EEG_single_subject_all_channels_200_samples.p', 'rb') as file:\n",
    "    predictors_EEG_single_subject_all_channels_200_samples = pickle.load(file)\n",
    "with open(preprocessed_data_path + 'predictors_EEG_single_subject_all_channels_1600_samples.p', 'rb') as file:\n",
    "    predictors_EEG_single_subject_all_channels_1600_samples = pickle.load(file)\n",
    "    \n",
    "# Load the fMRI PCA predictors. \n",
    "with open(preprocessed_data_path + 'predictors_fMRI_PCA_200_components.p', 'rb') as file:\n",
    "    predictors_fMRI_PCA_200_components = pickle.load(file)\n",
    "with open(preprocessed_data_path + 'predictors_fMRI_PCA_10_components.p', 'rb') as file:\n",
    "    predictors_fMRI_PCA_10_components = pickle.load(file)"
   ]
  },
  {
   "cell_type": "code",
   "execution_count": 5,
   "metadata": {},
   "outputs": [
    {
     "name": "stdout",
     "output_type": "stream",
     "text": [
      "Starting subject 1 / 10\n",
      "Starting subject 2 / 10\n",
      "Starting subject 3 / 10\n",
      "Starting subject 4 / 10\n",
      "Starting subject 5 / 10\n",
      "Starting subject 6 / 10\n",
      "Starting subject 7 / 10\n",
      "Starting subject 8 / 10\n",
      "Starting subject 9 / 10\n",
      "Starting subject 10 / 10\n"
     ]
    }
   ],
   "source": [
    "# Load the fMRI data, and store the data in dictionaries. \n",
    "predictors_fMRI = dict()\n",
    "predictors_fMRI_r2 = dict()\n",
    "predictors_fMRI_r3 = dict()\n",
    "\n",
    "# Iterate through all subjects. \n",
    "counter = 1\n",
    "for subject_index in subjects:\n",
    "    \n",
    "    # Display current step. \n",
    "    print('Starting subject ' + str(counter) + ' / ' + str(len(subjects)))\n",
    "    \n",
    "    # Load fMRI data with the original voxel size. \n",
    "    with np.load(preprocessed_data_path + 'predictors_fMRI.npz', allow_pickle = False) as npz_file:\n",
    "        predictors_fMRI[subject_index] = npz_file['sub_' + str(counter)]\n",
    "    \n",
    "    # Load fMRI data with the voxel size rescaling by a factor 2. \n",
    "    with np.load(preprocessed_data_path + 'predictors_fMRI_r2.npz', allow_pickle = False) as npz_file:\n",
    "        predictors_fMRI_r2[subject_index] = npz_file['sub_' + str(counter)]\n",
    "        \n",
    "    # Load fMRI data with the voxel size rescaling by a factor 3. \n",
    "    with np.load(preprocessed_data_path + 'predictors_fMRI_r3.npz', allow_pickle = False) as npz_file:\n",
    "        predictors_fMRI_r3[subject_index] = npz_file['sub_' + str(counter)]\n",
    "        \n",
    "    # Increment. \n",
    "    counter += 1"
   ]
  },
  {
   "cell_type": "code",
   "execution_count": 6,
   "metadata": {},
   "outputs": [],
   "source": [
    "# Determine the proportion of the test set for the classification models. \n",
    "test_set_proportion = 0.2"
   ]
  },
  {
   "cell_type": "code",
   "execution_count": 7,
   "metadata": {},
   "outputs": [
    {
     "data": {
      "text/html": [
       "<div>\n",
       "<style scoped>\n",
       "    .dataframe tbody tr th:only-of-type {\n",
       "        vertical-align: middle;\n",
       "    }\n",
       "\n",
       "    .dataframe tbody tr th {\n",
       "        vertical-align: top;\n",
       "    }\n",
       "\n",
       "    .dataframe thead th {\n",
       "        text-align: right;\n",
       "    }\n",
       "</style>\n",
       "<table border=\"1\" class=\"dataframe\">\n",
       "  <thead>\n",
       "    <tr style=\"text-align: right;\">\n",
       "      <th></th>\n",
       "      <th>onset</th>\n",
       "      <th>duration</th>\n",
       "      <th>trial_type</th>\n",
       "      <th>stim_file</th>\n",
       "    </tr>\n",
       "  </thead>\n",
       "  <tbody>\n",
       "    <tr>\n",
       "      <th>0</th>\n",
       "      <td>2</td>\n",
       "      <td>20</td>\n",
       "      <td>Rest</td>\n",
       "      <td>Rest_Xp1.png</td>\n",
       "    </tr>\n",
       "    <tr>\n",
       "      <th>1</th>\n",
       "      <td>22</td>\n",
       "      <td>20</td>\n",
       "      <td>Task-NF</td>\n",
       "      <td>Task-NF_Xp1.png</td>\n",
       "    </tr>\n",
       "    <tr>\n",
       "      <th>2</th>\n",
       "      <td>42</td>\n",
       "      <td>20</td>\n",
       "      <td>Rest</td>\n",
       "      <td>Rest_Xp1.png</td>\n",
       "    </tr>\n",
       "    <tr>\n",
       "      <th>3</th>\n",
       "      <td>62</td>\n",
       "      <td>20</td>\n",
       "      <td>Task-NF</td>\n",
       "      <td>Task-NF_Xp1.png</td>\n",
       "    </tr>\n",
       "    <tr>\n",
       "      <th>4</th>\n",
       "      <td>82</td>\n",
       "      <td>20</td>\n",
       "      <td>Rest</td>\n",
       "      <td>Rest_Xp1.png</td>\n",
       "    </tr>\n",
       "    <tr>\n",
       "      <th>5</th>\n",
       "      <td>102</td>\n",
       "      <td>20</td>\n",
       "      <td>Task-NF</td>\n",
       "      <td>Task-NF_Xp1.png</td>\n",
       "    </tr>\n",
       "    <tr>\n",
       "      <th>6</th>\n",
       "      <td>122</td>\n",
       "      <td>20</td>\n",
       "      <td>Rest</td>\n",
       "      <td>Rest_Xp1.png</td>\n",
       "    </tr>\n",
       "    <tr>\n",
       "      <th>7</th>\n",
       "      <td>142</td>\n",
       "      <td>20</td>\n",
       "      <td>Task-NF</td>\n",
       "      <td>Task-NF_Xp1.png</td>\n",
       "    </tr>\n",
       "    <tr>\n",
       "      <th>8</th>\n",
       "      <td>162</td>\n",
       "      <td>20</td>\n",
       "      <td>Rest</td>\n",
       "      <td>Rest_Xp1.png</td>\n",
       "    </tr>\n",
       "    <tr>\n",
       "      <th>9</th>\n",
       "      <td>182</td>\n",
       "      <td>20</td>\n",
       "      <td>Task-NF</td>\n",
       "      <td>Task-NF_Xp1.png</td>\n",
       "    </tr>\n",
       "    <tr>\n",
       "      <th>10</th>\n",
       "      <td>202</td>\n",
       "      <td>20</td>\n",
       "      <td>Rest</td>\n",
       "      <td>Rest_Xp1.png</td>\n",
       "    </tr>\n",
       "    <tr>\n",
       "      <th>11</th>\n",
       "      <td>222</td>\n",
       "      <td>20</td>\n",
       "      <td>Task-NF</td>\n",
       "      <td>Task-NF_Xp1.png</td>\n",
       "    </tr>\n",
       "    <tr>\n",
       "      <th>12</th>\n",
       "      <td>242</td>\n",
       "      <td>20</td>\n",
       "      <td>Rest</td>\n",
       "      <td>Rest_Xp1.png</td>\n",
       "    </tr>\n",
       "    <tr>\n",
       "      <th>13</th>\n",
       "      <td>262</td>\n",
       "      <td>20</td>\n",
       "      <td>Task-NF</td>\n",
       "      <td>Task-NF_Xp1.png</td>\n",
       "    </tr>\n",
       "    <tr>\n",
       "      <th>14</th>\n",
       "      <td>282</td>\n",
       "      <td>20</td>\n",
       "      <td>Rest</td>\n",
       "      <td>Rest_Xp1.png</td>\n",
       "    </tr>\n",
       "    <tr>\n",
       "      <th>15</th>\n",
       "      <td>302</td>\n",
       "      <td>20</td>\n",
       "      <td>Task-NF</td>\n",
       "      <td>Task-NF_Xp1.png</td>\n",
       "    </tr>\n",
       "    <tr>\n",
       "      <th>16</th>\n",
       "      <td>322</td>\n",
       "      <td>20</td>\n",
       "      <td>Rest</td>\n",
       "      <td>Rest_Xp1.png</td>\n",
       "    </tr>\n",
       "    <tr>\n",
       "      <th>17</th>\n",
       "      <td>342</td>\n",
       "      <td>20</td>\n",
       "      <td>Task-NF</td>\n",
       "      <td>Task-NF_Xp1.png</td>\n",
       "    </tr>\n",
       "    <tr>\n",
       "      <th>18</th>\n",
       "      <td>362</td>\n",
       "      <td>20</td>\n",
       "      <td>Rest</td>\n",
       "      <td>Rest_Xp1.png</td>\n",
       "    </tr>\n",
       "    <tr>\n",
       "      <th>19</th>\n",
       "      <td>382</td>\n",
       "      <td>20</td>\n",
       "      <td>Task-NF</td>\n",
       "      <td>Task-NF_Xp1.png</td>\n",
       "    </tr>\n",
       "  </tbody>\n",
       "</table>\n",
       "</div>"
      ],
      "text/plain": [
       "    onset  duration trial_type        stim_file\n",
       "0       2        20       Rest     Rest_Xp1.png\n",
       "1      22        20    Task-NF  Task-NF_Xp1.png\n",
       "2      42        20       Rest     Rest_Xp1.png\n",
       "3      62        20    Task-NF  Task-NF_Xp1.png\n",
       "4      82        20       Rest     Rest_Xp1.png\n",
       "5     102        20    Task-NF  Task-NF_Xp1.png\n",
       "6     122        20       Rest     Rest_Xp1.png\n",
       "7     142        20    Task-NF  Task-NF_Xp1.png\n",
       "8     162        20       Rest     Rest_Xp1.png\n",
       "9     182        20    Task-NF  Task-NF_Xp1.png\n",
       "10    202        20       Rest     Rest_Xp1.png\n",
       "11    222        20    Task-NF  Task-NF_Xp1.png\n",
       "12    242        20       Rest     Rest_Xp1.png\n",
       "13    262        20    Task-NF  Task-NF_Xp1.png\n",
       "14    282        20       Rest     Rest_Xp1.png\n",
       "15    302        20    Task-NF  Task-NF_Xp1.png\n",
       "16    322        20       Rest     Rest_Xp1.png\n",
       "17    342        20    Task-NF  Task-NF_Xp1.png\n",
       "18    362        20       Rest     Rest_Xp1.png\n",
       "19    382        20    Task-NF  Task-NF_Xp1.png"
      ]
     },
     "execution_count": 7,
     "metadata": {},
     "output_type": "execute_result"
    }
   ],
   "source": [
    "# Retrieve and display the events file for the eegfmriNF run. \n",
    "events = pd.read_csv(data_path + 'task-eegfmriNF_events.tsv', sep = '\\t')\n",
    "events"
   ]
  },
  {
   "cell_type": "markdown",
   "metadata": {},
   "source": [
    "We are interested in the **brain state** variable, i.e. whether the subject is currently in a **rest block** or in a **task block**. This target variable is easy to reconstruct, since for all subjects, the eegfmriNF run simply consists of an alternance of 10 rest blocks and 10 task blocks, with each block lasting for 20 seconds. The fMRI Repetition Time (TR) is 2 seconds, therefore we have 10 fMRI images per block, and we also computed the EEG bandpowers in order to have 10 samplings per block. The first onset is at 2 seconds and the article indicates that the first fMRI image should be discarded, but we already took that into account in the previous Notebook. "
   ]
  },
  {
   "cell_type": "code",
   "execution_count": 8,
   "metadata": {},
   "outputs": [
    {
     "name": "stdout",
     "output_type": "stream",
     "text": [
      "[0 0 0 0 0 0 0 0 0 0 1 1 1 1 1 1 1 1 1 1 0 0 0 0 0 0 0 0 0 0 1 1 1 1 1 1 1\n",
      " 1 1 1 0 0 0 0 0 0 0 0 0 0 1 1 1 1 1 1 1 1 1 1 0 0 0 0 0 0 0 0 0 0 1 1 1 1\n",
      " 1 1 1 1 1 1 0 0 0 0 0 0 0 0 0 0 1 1 1 1 1 1 1 1 1 1 0 0 0 0 0 0 0 0 0 0 1\n",
      " 1 1 1 1 1 1 1 1 1 0 0 0 0 0 0 0 0 0 0 1 1 1 1 1 1 1 1 1 1 0 0 0 0 0 0 0 0\n",
      " 0 0 1 1 1 1 1 1 1 1 1 1 0 0 0 0 0 0 0 0 0 0 1 1 1 1 1 1 1 1 1 1 0 0 0 0 0\n",
      " 0 0 0 0 0 1 1 1 1 1 1 1 1 1 1]\n"
     ]
    }
   ],
   "source": [
    "# Define and display the target variable. \n",
    "y = np.repeat(np.tile([0, 1], 10), 10)\n",
    "print(y)"
   ]
  },
  {
   "cell_type": "code",
   "execution_count": 9,
   "metadata": {},
   "outputs": [
    {
     "data": {
      "text/plain": [
       "(200,)"
      ]
     },
     "execution_count": 9,
     "metadata": {},
     "output_type": "execute_result"
    }
   ],
   "source": [
    "# Display the shape of the target variable. \n",
    "y.shape"
   ]
  },
  {
   "cell_type": "markdown",
   "metadata": {},
   "source": [
    "## **2. Classification based on EEG data**\n",
    "\n",
    "### **2.1 All subjects, C1 channel**\n",
    "\n",
    "In this section, we try to predict the brain state for **all subjects**, using the **EEG bandpowers computed from the C1 channel**. These bandpowers cover the major frequency bands: delta (1-4 Hz), theta (4-8 Hz), alpha (8-12 Hz), beta (12-30 Hz) and high beta (30-50 Hz). "
   ]
  },
  {
   "cell_type": "code",
   "execution_count": 10,
   "metadata": {},
   "outputs": [],
   "source": [
    "from sklearn.pipeline import Pipeline\n",
    "from sklearn.preprocessing import StandardScaler\n",
    "from sklearn.model_selection import GridSearchCV\n",
    "from sklearn.model_selection import train_test_split"
   ]
  },
  {
   "cell_type": "code",
   "execution_count": 11,
   "metadata": {},
   "outputs": [],
   "source": [
    "# Define a function to run a classification model. \n",
    "def run_classification(grid_cv, param_name, predictors_dict, target):\n",
    "    \n",
    "    # Create a Pandas DataFrame to store the results. \n",
    "    model_results = pd.DataFrame()\n",
    "\n",
    "    # Iterate through all subjects. \n",
    "    for subject_index in subjects:\n",
    "\n",
    "        # Display current step. \n",
    "        print('Starting subject ' + subject_index)\n",
    "\n",
    "        # Retrieve the predictors. \n",
    "        X = predictors_dict[subject_index]\n",
    "        y = target\n",
    "\n",
    "        # Divide the data into a train set and a test set. \n",
    "        X_tr, X_te, y_tr, y_te = train_test_split(X, y, test_size = test_set_proportion)\n",
    "\n",
    "        # Create a baseline containing only the most frequent value in the train set. \n",
    "        most_frequent_value = np.bincount(y_tr.astype(int)).argmax()\n",
    "        classification_baseline = np.sum(y_te.astype(int) == most_frequent_value) / y_te.shape[0]\n",
    "\n",
    "        # Fit the model. \n",
    "        grid_cv.fit(X_tr, y_tr)\n",
    "\n",
    "        # Compute the test score. \n",
    "        test_score = grid_cv.score(X_te, y_te)\n",
    "\n",
    "        # Store the results in the DataFrame. \n",
    "        model_results.loc[subject_index, param_name] = grid_cv.best_params_[param_name]\n",
    "        model_results.loc[subject_index, 'test score'] = test_score\n",
    "        model_results.loc[subject_index, 'baseline'] = classification_baseline\n",
    "        \n",
    "    return model_results"
   ]
  },
  {
   "cell_type": "markdown",
   "metadata": {},
   "source": [
    "#### **2.1.1 K-Nearest Neighbors (k-NN)**\n",
    "\n",
    "In the following cells, we **fine-tune, fit and compute predictions from a k-NN model**. "
   ]
  },
  {
   "cell_type": "code",
   "execution_count": 12,
   "metadata": {},
   "outputs": [],
   "source": [
    "# Disable warnings. \n",
    "import warnings\n",
    "warnings.filterwarnings('ignore')"
   ]
  },
  {
   "cell_type": "code",
   "execution_count": 13,
   "metadata": {},
   "outputs": [],
   "source": [
    "from sklearn.neighbors import KNeighborsClassifier"
   ]
  },
  {
   "cell_type": "code",
   "execution_count": 14,
   "metadata": {},
   "outputs": [
    {
     "data": {
      "text/plain": [
       "array([ 1,  2,  3,  4,  5,  6,  7,  8,  9, 10, 11, 12, 13, 14, 15, 16, 17,\n",
       "       18, 19, 20, 21, 22, 23, 24, 25, 26, 27, 28, 29, 30, 31, 32, 33, 34,\n",
       "       35, 36, 37, 38, 39, 40, 41, 42, 43, 44, 45, 46, 47, 48, 49])"
      ]
     },
     "execution_count": 14,
     "metadata": {},
     "output_type": "execute_result"
    }
   ],
   "source": [
    "# Define the set of values to explore, where k is the number of neighbors. \n",
    "k_values = np.arange(1, 50, 1)\n",
    "k_values"
   ]
  },
  {
   "cell_type": "code",
   "execution_count": 15,
   "metadata": {},
   "outputs": [],
   "source": [
    "# Create pipeline. \n",
    "pipe_knn = Pipeline([\n",
    "    ('scaler', StandardScaler()),\n",
    "    ('knn', KNeighborsClassifier())\n",
    "])\n",
    "\n",
    "# Create cross-validation object. \n",
    "grid_knn = {\n",
    "    'knn__n_neighbors': k_values\n",
    "}\n",
    "grid_cv_knn = GridSearchCV(pipe_knn, grid_knn, cv = 5, return_train_score = True, verbose = 0, n_jobs = -1)"
   ]
  },
  {
   "cell_type": "code",
   "execution_count": 16,
   "metadata": {},
   "outputs": [
    {
     "name": "stdout",
     "output_type": "stream",
     "text": [
      "Starting subject sub-xp101\n",
      "Starting subject sub-xp102\n",
      "Starting subject sub-xp103\n",
      "Starting subject sub-xp104\n",
      "Starting subject sub-xp105\n",
      "Starting subject sub-xp106\n",
      "Starting subject sub-xp107\n",
      "Starting subject sub-xp108\n",
      "Starting subject sub-xp109\n",
      "Starting subject sub-xp110\n"
     ]
    }
   ],
   "source": [
    "# Run the model. \n",
    "knn_results = run_classification(grid_cv_knn, 'knn__n_neighbors', predictors_EEG_200_samples, y)"
   ]
  },
  {
   "cell_type": "code",
   "execution_count": 17,
   "metadata": {},
   "outputs": [
    {
     "data": {
      "text/html": [
       "<div>\n",
       "<style scoped>\n",
       "    .dataframe tbody tr th:only-of-type {\n",
       "        vertical-align: middle;\n",
       "    }\n",
       "\n",
       "    .dataframe tbody tr th {\n",
       "        vertical-align: top;\n",
       "    }\n",
       "\n",
       "    .dataframe thead th {\n",
       "        text-align: right;\n",
       "    }\n",
       "</style>\n",
       "<table border=\"1\" class=\"dataframe\">\n",
       "  <thead>\n",
       "    <tr style=\"text-align: right;\">\n",
       "      <th></th>\n",
       "      <th>knn__n_neighbors</th>\n",
       "      <th>test score</th>\n",
       "      <th>baseline</th>\n",
       "    </tr>\n",
       "  </thead>\n",
       "  <tbody>\n",
       "    <tr>\n",
       "      <th>sub-xp101</th>\n",
       "      <td>30.0</td>\n",
       "      <td>0.550</td>\n",
       "      <td>0.475</td>\n",
       "    </tr>\n",
       "    <tr>\n",
       "      <th>sub-xp102</th>\n",
       "      <td>22.0</td>\n",
       "      <td>0.675</td>\n",
       "      <td>0.400</td>\n",
       "    </tr>\n",
       "    <tr>\n",
       "      <th>sub-xp103</th>\n",
       "      <td>5.0</td>\n",
       "      <td>0.725</td>\n",
       "      <td>0.425</td>\n",
       "    </tr>\n",
       "    <tr>\n",
       "      <th>sub-xp104</th>\n",
       "      <td>11.0</td>\n",
       "      <td>0.700</td>\n",
       "      <td>0.450</td>\n",
       "    </tr>\n",
       "    <tr>\n",
       "      <th>sub-xp105</th>\n",
       "      <td>6.0</td>\n",
       "      <td>0.750</td>\n",
       "      <td>0.475</td>\n",
       "    </tr>\n",
       "    <tr>\n",
       "      <th>sub-xp106</th>\n",
       "      <td>1.0</td>\n",
       "      <td>0.550</td>\n",
       "      <td>0.475</td>\n",
       "    </tr>\n",
       "    <tr>\n",
       "      <th>sub-xp107</th>\n",
       "      <td>43.0</td>\n",
       "      <td>0.550</td>\n",
       "      <td>0.450</td>\n",
       "    </tr>\n",
       "    <tr>\n",
       "      <th>sub-xp108</th>\n",
       "      <td>25.0</td>\n",
       "      <td>0.650</td>\n",
       "      <td>0.475</td>\n",
       "    </tr>\n",
       "    <tr>\n",
       "      <th>sub-xp109</th>\n",
       "      <td>35.0</td>\n",
       "      <td>0.475</td>\n",
       "      <td>0.425</td>\n",
       "    </tr>\n",
       "    <tr>\n",
       "      <th>sub-xp110</th>\n",
       "      <td>34.0</td>\n",
       "      <td>0.400</td>\n",
       "      <td>0.375</td>\n",
       "    </tr>\n",
       "  </tbody>\n",
       "</table>\n",
       "</div>"
      ],
      "text/plain": [
       "           knn__n_neighbors  test score  baseline\n",
       "sub-xp101              30.0       0.550     0.475\n",
       "sub-xp102              22.0       0.675     0.400\n",
       "sub-xp103               5.0       0.725     0.425\n",
       "sub-xp104              11.0       0.700     0.450\n",
       "sub-xp105               6.0       0.750     0.475\n",
       "sub-xp106               1.0       0.550     0.475\n",
       "sub-xp107              43.0       0.550     0.450\n",
       "sub-xp108              25.0       0.650     0.475\n",
       "sub-xp109              35.0       0.475     0.425\n",
       "sub-xp110              34.0       0.400     0.375"
      ]
     },
     "execution_count": 17,
     "metadata": {},
     "output_type": "execute_result"
    }
   ],
   "source": [
    "# Display the results. \n",
    "knn_results"
   ]
  },
  {
   "cell_type": "code",
   "execution_count": 18,
   "metadata": {},
   "outputs": [
    {
     "data": {
      "image/png": "[encoded data removed]",
      "text/plain": [
       "<Figure size 1008x432 with 1 Axes>"
      ]
     },
     "metadata": {
      "needs_background": "light"
     },
     "output_type": "display_data"
    }
   ],
   "source": [
    "# Plot the results. \n",
    "plt.figure(figsize = ((14, 6)))\n",
    "plt.plot(knn_results[['test score']], label = 'test score')\n",
    "plt.plot(knn_results[['baseline']], label = 'baseline', color = 'green')\n",
    "plt.legend();"
   ]
  },
  {
   "cell_type": "markdown",
   "metadata": {},
   "source": [
    "**Result:** Overall, the k-NN model using the EEG bandpowers as predictors performs better than the baseline for our group of subjects. "
   ]
  },
  {
   "cell_type": "markdown",
   "metadata": {},
   "source": [
    "#### **2.1.2 Decision tree**\n",
    "\n",
    "In the following cells, we **fine-tune, fit and compute predictions from a decision tree model**. "
   ]
  },
  {
   "cell_type": "code",
   "execution_count": 19,
   "metadata": {},
   "outputs": [],
   "source": [
    "from sklearn.tree import DecisionTreeClassifier"
   ]
  },
  {
   "cell_type": "code",
   "execution_count": 20,
   "metadata": {},
   "outputs": [
    {
     "data": {
      "text/plain": [
       "array([ 1,  2,  3,  4,  5,  6,  7,  8,  9, 10, 11, 12, 13, 14, 15, 16, 17,\n",
       "       18, 19, 20, 21, 22, 23, 24, 25, 26, 27, 28, 29, 30, 31, 32, 33, 34,\n",
       "       35, 36, 37, 38, 39, 40, 41, 42, 43, 44, 45, 46, 47, 48, 49])"
      ]
     },
     "execution_count": 20,
     "metadata": {},
     "output_type": "execute_result"
    }
   ],
   "source": [
    "# Define the set of values to explore, where d is the depth of the tree. \n",
    "d_values = np.arange(1, 50, 1)\n",
    "d_values"
   ]
  },
  {
   "cell_type": "code",
   "execution_count": 21,
   "metadata": {},
   "outputs": [],
   "source": [
    "# Create pipeline. \n",
    "pipe_dt = Pipeline([\n",
    "    ('scaler', None),\n",
    "    ('dt', DecisionTreeClassifier(criterion = 'gini'))\n",
    "])\n",
    "\n",
    "# Create cross-validation object. \n",
    "grid_dt = {\n",
    "    'dt__max_depth': d_values\n",
    "}\n",
    "grid_cv_dt = GridSearchCV(pipe_dt, grid_dt, cv = 5, return_train_score = True, verbose = 0, n_jobs = -1)"
   ]
  },
  {
   "cell_type": "code",
   "execution_count": 22,
   "metadata": {},
   "outputs": [
    {
     "name": "stdout",
     "output_type": "stream",
     "text": [
      "Starting subject sub-xp101\n",
      "Starting subject sub-xp102\n",
      "Starting subject sub-xp103\n",
      "Starting subject sub-xp104\n",
      "Starting subject sub-xp105\n",
      "Starting subject sub-xp106\n",
      "Starting subject sub-xp107\n",
      "Starting subject sub-xp108\n",
      "Starting subject sub-xp109\n",
      "Starting subject sub-xp110\n"
     ]
    }
   ],
   "source": [
    "# Run the model. \n",
    "dt_results = run_classification(grid_cv_dt, 'dt__max_depth', predictors_EEG_200_samples, y)"
   ]
  },
  {
   "cell_type": "code",
   "execution_count": 23,
   "metadata": {},
   "outputs": [
    {
     "data": {
      "text/html": [
       "<div>\n",
       "<style scoped>\n",
       "    .dataframe tbody tr th:only-of-type {\n",
       "        vertical-align: middle;\n",
       "    }\n",
       "\n",
       "    .dataframe tbody tr th {\n",
       "        vertical-align: top;\n",
       "    }\n",
       "\n",
       "    .dataframe thead th {\n",
       "        text-align: right;\n",
       "    }\n",
       "</style>\n",
       "<table border=\"1\" class=\"dataframe\">\n",
       "  <thead>\n",
       "    <tr style=\"text-align: right;\">\n",
       "      <th></th>\n",
       "      <th>dt__max_depth</th>\n",
       "      <th>test score</th>\n",
       "      <th>baseline</th>\n",
       "    </tr>\n",
       "  </thead>\n",
       "  <tbody>\n",
       "    <tr>\n",
       "      <th>sub-xp101</th>\n",
       "      <td>2.0</td>\n",
       "      <td>0.525</td>\n",
       "      <td>0.450</td>\n",
       "    </tr>\n",
       "    <tr>\n",
       "      <th>sub-xp102</th>\n",
       "      <td>1.0</td>\n",
       "      <td>0.650</td>\n",
       "      <td>0.425</td>\n",
       "    </tr>\n",
       "    <tr>\n",
       "      <th>sub-xp103</th>\n",
       "      <td>17.0</td>\n",
       "      <td>0.575</td>\n",
       "      <td>0.375</td>\n",
       "    </tr>\n",
       "    <tr>\n",
       "      <th>sub-xp104</th>\n",
       "      <td>1.0</td>\n",
       "      <td>0.775</td>\n",
       "      <td>0.400</td>\n",
       "    </tr>\n",
       "    <tr>\n",
       "      <th>sub-xp105</th>\n",
       "      <td>17.0</td>\n",
       "      <td>0.575</td>\n",
       "      <td>0.425</td>\n",
       "    </tr>\n",
       "    <tr>\n",
       "      <th>sub-xp106</th>\n",
       "      <td>4.0</td>\n",
       "      <td>0.475</td>\n",
       "      <td>0.450</td>\n",
       "    </tr>\n",
       "    <tr>\n",
       "      <th>sub-xp107</th>\n",
       "      <td>4.0</td>\n",
       "      <td>0.700</td>\n",
       "      <td>0.500</td>\n",
       "    </tr>\n",
       "    <tr>\n",
       "      <th>sub-xp108</th>\n",
       "      <td>1.0</td>\n",
       "      <td>0.575</td>\n",
       "      <td>0.450</td>\n",
       "    </tr>\n",
       "    <tr>\n",
       "      <th>sub-xp109</th>\n",
       "      <td>18.0</td>\n",
       "      <td>0.450</td>\n",
       "      <td>0.475</td>\n",
       "    </tr>\n",
       "    <tr>\n",
       "      <th>sub-xp110</th>\n",
       "      <td>41.0</td>\n",
       "      <td>0.500</td>\n",
       "      <td>0.450</td>\n",
       "    </tr>\n",
       "  </tbody>\n",
       "</table>\n",
       "</div>"
      ],
      "text/plain": [
       "           dt__max_depth  test score  baseline\n",
       "sub-xp101            2.0       0.525     0.450\n",
       "sub-xp102            1.0       0.650     0.425\n",
       "sub-xp103           17.0       0.575     0.375\n",
       "sub-xp104            1.0       0.775     0.400\n",
       "sub-xp105           17.0       0.575     0.425\n",
       "sub-xp106            4.0       0.475     0.450\n",
       "sub-xp107            4.0       0.700     0.500\n",
       "sub-xp108            1.0       0.575     0.450\n",
       "sub-xp109           18.0       0.450     0.475\n",
       "sub-xp110           41.0       0.500     0.450"
      ]
     },
     "execution_count": 23,
     "metadata": {},
     "output_type": "execute_result"
    }
   ],
   "source": [
    "# Display the results. \n",
    "dt_results"
   ]
  },
  {
   "cell_type": "code",
   "execution_count": 24,
   "metadata": {},
   "outputs": [
    {
     "data": {
      "image/png": "[encoded data removed]",
      "text/plain": [
       "<Figure size 1008x432 with 1 Axes>"
      ]
     },
     "metadata": {
      "needs_background": "light"
     },
     "output_type": "display_data"
    }
   ],
   "source": [
    "# Plot the results. \n",
    "plt.figure(figsize = ((14, 6)))\n",
    "plt.plot(dt_results[['test score']], label = 'test score')\n",
    "plt.plot(dt_results[['baseline']], label = 'baseline', color = 'green')\n",
    "plt.legend();"
   ]
  },
  {
   "cell_type": "markdown",
   "metadata": {},
   "source": [
    "**Result:** Overall, the decision tree model using the EEG bandpowers as predictors performs better than the baseline for our group of subjects. "
   ]
  },
  {
   "cell_type": "markdown",
   "metadata": {},
   "source": [
    "#### **2.1.3 Random forest**\n",
    "\n",
    "In the following cells, we **fine-tune, fit and compute predictions from a random forest model**. "
   ]
  },
  {
   "cell_type": "code",
   "execution_count": 25,
   "metadata": {},
   "outputs": [],
   "source": [
    "from sklearn.ensemble import RandomForestClassifier"
   ]
  },
  {
   "cell_type": "code",
   "execution_count": 26,
   "metadata": {},
   "outputs": [
    {
     "data": {
      "text/plain": [
       "array([  5,  10,  15,  20,  25,  30,  35,  40,  45,  50,  55,  60,  65,\n",
       "        70,  75,  80,  85,  90,  95, 100])"
      ]
     },
     "execution_count": 26,
     "metadata": {},
     "output_type": "execute_result"
    }
   ],
   "source": [
    "# Define the set of values to explore, where n is the number of trees. \n",
    "n_values = np.arange(5, 105, 5)\n",
    "n_values"
   ]
  },
  {
   "cell_type": "code",
   "execution_count": 27,
   "metadata": {},
   "outputs": [],
   "source": [
    "# Create pipeline. \n",
    "pipe_rf = Pipeline([\n",
    "    ('scaler', None),\n",
    "    ('rf', RandomForestClassifier(max_depth = None))\n",
    "])\n",
    "\n",
    "# Create cross-validation object. \n",
    "grid_rf = {\n",
    "    'rf__n_estimators': n_values\n",
    "}\n",
    "grid_cv_rf = GridSearchCV(pipe_rf, grid_rf, cv = 5, return_train_score = True, verbose = 0, n_jobs = -1)"
   ]
  },
  {
   "cell_type": "code",
   "execution_count": 28,
   "metadata": {},
   "outputs": [
    {
     "name": "stdout",
     "output_type": "stream",
     "text": [
      "Starting subject sub-xp101\n",
      "Starting subject sub-xp102\n",
      "Starting subject sub-xp103\n",
      "Starting subject sub-xp104\n",
      "Starting subject sub-xp105\n",
      "Starting subject sub-xp106\n",
      "Starting subject sub-xp107\n",
      "Starting subject sub-xp108\n",
      "Starting subject sub-xp109\n",
      "Starting subject sub-xp110\n"
     ]
    }
   ],
   "source": [
    "# Run the model. \n",
    "rf_results = run_classification(grid_cv_rf, 'rf__n_estimators', predictors_EEG_200_samples, y)"
   ]
  },
  {
   "cell_type": "code",
   "execution_count": 29,
   "metadata": {},
   "outputs": [
    {
     "data": {
      "text/html": [
       "<div>\n",
       "<style scoped>\n",
       "    .dataframe tbody tr th:only-of-type {\n",
       "        vertical-align: middle;\n",
       "    }\n",
       "\n",
       "    .dataframe tbody tr th {\n",
       "        vertical-align: top;\n",
       "    }\n",
       "\n",
       "    .dataframe thead th {\n",
       "        text-align: right;\n",
       "    }\n",
       "</style>\n",
       "<table border=\"1\" class=\"dataframe\">\n",
       "  <thead>\n",
       "    <tr style=\"text-align: right;\">\n",
       "      <th></th>\n",
       "      <th>rf__n_estimators</th>\n",
       "      <th>test score</th>\n",
       "      <th>baseline</th>\n",
       "    </tr>\n",
       "  </thead>\n",
       "  <tbody>\n",
       "    <tr>\n",
       "      <th>sub-xp101</th>\n",
       "      <td>70.0</td>\n",
       "      <td>0.675</td>\n",
       "      <td>0.475</td>\n",
       "    </tr>\n",
       "    <tr>\n",
       "      <th>sub-xp102</th>\n",
       "      <td>45.0</td>\n",
       "      <td>0.700</td>\n",
       "      <td>0.450</td>\n",
       "    </tr>\n",
       "    <tr>\n",
       "      <th>sub-xp103</th>\n",
       "      <td>25.0</td>\n",
       "      <td>0.550</td>\n",
       "      <td>0.500</td>\n",
       "    </tr>\n",
       "    <tr>\n",
       "      <th>sub-xp104</th>\n",
       "      <td>30.0</td>\n",
       "      <td>0.600</td>\n",
       "      <td>0.450</td>\n",
       "    </tr>\n",
       "    <tr>\n",
       "      <th>sub-xp105</th>\n",
       "      <td>20.0</td>\n",
       "      <td>0.650</td>\n",
       "      <td>0.450</td>\n",
       "    </tr>\n",
       "    <tr>\n",
       "      <th>sub-xp106</th>\n",
       "      <td>90.0</td>\n",
       "      <td>0.725</td>\n",
       "      <td>0.475</td>\n",
       "    </tr>\n",
       "    <tr>\n",
       "      <th>sub-xp107</th>\n",
       "      <td>35.0</td>\n",
       "      <td>0.550</td>\n",
       "      <td>0.450</td>\n",
       "    </tr>\n",
       "    <tr>\n",
       "      <th>sub-xp108</th>\n",
       "      <td>30.0</td>\n",
       "      <td>0.625</td>\n",
       "      <td>0.350</td>\n",
       "    </tr>\n",
       "    <tr>\n",
       "      <th>sub-xp109</th>\n",
       "      <td>10.0</td>\n",
       "      <td>0.475</td>\n",
       "      <td>0.475</td>\n",
       "    </tr>\n",
       "    <tr>\n",
       "      <th>sub-xp110</th>\n",
       "      <td>30.0</td>\n",
       "      <td>0.550</td>\n",
       "      <td>0.400</td>\n",
       "    </tr>\n",
       "  </tbody>\n",
       "</table>\n",
       "</div>"
      ],
      "text/plain": [
       "           rf__n_estimators  test score  baseline\n",
       "sub-xp101              70.0       0.675     0.475\n",
       "sub-xp102              45.0       0.700     0.450\n",
       "sub-xp103              25.0       0.550     0.500\n",
       "sub-xp104              30.0       0.600     0.450\n",
       "sub-xp105              20.0       0.650     0.450\n",
       "sub-xp106              90.0       0.725     0.475\n",
       "sub-xp107              35.0       0.550     0.450\n",
       "sub-xp108              30.0       0.625     0.350\n",
       "sub-xp109              10.0       0.475     0.475\n",
       "sub-xp110              30.0       0.550     0.400"
      ]
     },
     "execution_count": 29,
     "metadata": {},
     "output_type": "execute_result"
    }
   ],
   "source": [
    "# Display the results. \n",
    "rf_results"
   ]
  },
  {
   "cell_type": "code",
   "execution_count": 30,
   "metadata": {},
   "outputs": [
    {
     "data": {
      "image/png": "[encoded data removed]",
      "text/plain": [
       "<Figure size 1008x432 with 1 Axes>"
      ]
     },
     "metadata": {
      "needs_background": "light"
     },
     "output_type": "display_data"
    }
   ],
   "source": [
    "# Plot the results. \n",
    "plt.figure(figsize = ((14, 6)))\n",
    "plt.plot(rf_results[['test score']], label = 'test score')\n",
    "plt.plot(rf_results[['baseline']], label = 'baseline', color = 'green')\n",
    "plt.legend();"
   ]
  },
  {
   "cell_type": "markdown",
   "metadata": {},
   "source": [
    "**Result:** Overall, the random forest model using the EEG bandpowers as predictors performs better than the baseline for our group of subjects. "
   ]
  },
  {
   "cell_type": "markdown",
   "metadata": {},
   "source": [
    "#### **2.1.4 Support Vector Machine (SVM)**\n",
    "\n",
    "In the following cells, we **fine-tune, fit and compute predictions from a SVM model**. "
   ]
  },
  {
   "cell_type": "code",
   "execution_count": 31,
   "metadata": {},
   "outputs": [],
   "source": [
    "from sklearn.svm import SVC"
   ]
  },
  {
   "cell_type": "code",
   "execution_count": 32,
   "metadata": {},
   "outputs": [
    {
     "data": {
      "text/plain": [
       "array([1.00000000e-03, 4.64158883e-03, 2.15443469e-02, 1.00000000e-01,\n",
       "       4.64158883e-01, 2.15443469e+00, 1.00000000e+01, 4.64158883e+01,\n",
       "       2.15443469e+02, 1.00000000e+03])"
      ]
     },
     "execution_count": 32,
     "metadata": {},
     "output_type": "execute_result"
    }
   ],
   "source": [
    "# Define the set of values to explore, where c is the C parameter. \n",
    "c_values = np.logspace(-3, 3, num = 10)\n",
    "c_values"
   ]
  },
  {
   "cell_type": "code",
   "execution_count": 33,
   "metadata": {},
   "outputs": [],
   "source": [
    "# Create pipeline. \n",
    "pipe_svm = Pipeline([\n",
    "    ('scaler', StandardScaler()),\n",
    "    ('svm', SVC())\n",
    "])\n",
    "\n",
    "# Create cross-validation object. \n",
    "grid_svm = {\n",
    "    'svm__kernel': ['linear'],\n",
    "    'svm__C': c_values,\n",
    "    'svm__gamma': ['auto']\n",
    "}\n",
    "grid_cv_svm = GridSearchCV(pipe_svm, grid_svm, cv = 5, return_train_score = True, verbose = 0, n_jobs = -1)"
   ]
  },
  {
   "cell_type": "code",
   "execution_count": 34,
   "metadata": {},
   "outputs": [
    {
     "name": "stdout",
     "output_type": "stream",
     "text": [
      "Starting subject sub-xp101\n",
      "Starting subject sub-xp102\n",
      "Starting subject sub-xp103\n",
      "Starting subject sub-xp104\n",
      "Starting subject sub-xp105\n",
      "Starting subject sub-xp106\n",
      "Starting subject sub-xp107\n",
      "Starting subject sub-xp108\n",
      "Starting subject sub-xp109\n",
      "Starting subject sub-xp110\n"
     ]
    }
   ],
   "source": [
    "# Run the model. \n",
    "svm_results = run_classification(grid_cv_svm, 'svm__C', predictors_EEG_200_samples, y)"
   ]
  },
  {
   "cell_type": "code",
   "execution_count": 35,
   "metadata": {},
   "outputs": [
    {
     "data": {
      "text/html": [
       "<div>\n",
       "<style scoped>\n",
       "    .dataframe tbody tr th:only-of-type {\n",
       "        vertical-align: middle;\n",
       "    }\n",
       "\n",
       "    .dataframe tbody tr th {\n",
       "        vertical-align: top;\n",
       "    }\n",
       "\n",
       "    .dataframe thead th {\n",
       "        text-align: right;\n",
       "    }\n",
       "</style>\n",
       "<table border=\"1\" class=\"dataframe\">\n",
       "  <thead>\n",
       "    <tr style=\"text-align: right;\">\n",
       "      <th></th>\n",
       "      <th>svm__C</th>\n",
       "      <th>test score</th>\n",
       "      <th>baseline</th>\n",
       "    </tr>\n",
       "  </thead>\n",
       "  <tbody>\n",
       "    <tr>\n",
       "      <th>sub-xp101</th>\n",
       "      <td>0.464159</td>\n",
       "      <td>0.725</td>\n",
       "      <td>0.450</td>\n",
       "    </tr>\n",
       "    <tr>\n",
       "      <th>sub-xp102</th>\n",
       "      <td>0.021544</td>\n",
       "      <td>0.550</td>\n",
       "      <td>0.350</td>\n",
       "    </tr>\n",
       "    <tr>\n",
       "      <th>sub-xp103</th>\n",
       "      <td>0.100000</td>\n",
       "      <td>0.725</td>\n",
       "      <td>0.425</td>\n",
       "    </tr>\n",
       "    <tr>\n",
       "      <th>sub-xp104</th>\n",
       "      <td>0.464159</td>\n",
       "      <td>0.600</td>\n",
       "      <td>0.425</td>\n",
       "    </tr>\n",
       "    <tr>\n",
       "      <th>sub-xp105</th>\n",
       "      <td>0.021544</td>\n",
       "      <td>0.725</td>\n",
       "      <td>0.450</td>\n",
       "    </tr>\n",
       "    <tr>\n",
       "      <th>sub-xp106</th>\n",
       "      <td>0.021544</td>\n",
       "      <td>0.700</td>\n",
       "      <td>0.475</td>\n",
       "    </tr>\n",
       "    <tr>\n",
       "      <th>sub-xp107</th>\n",
       "      <td>0.021544</td>\n",
       "      <td>0.650</td>\n",
       "      <td>0.500</td>\n",
       "    </tr>\n",
       "    <tr>\n",
       "      <th>sub-xp108</th>\n",
       "      <td>0.100000</td>\n",
       "      <td>0.675</td>\n",
       "      <td>0.425</td>\n",
       "    </tr>\n",
       "    <tr>\n",
       "      <th>sub-xp109</th>\n",
       "      <td>0.021544</td>\n",
       "      <td>0.375</td>\n",
       "      <td>0.425</td>\n",
       "    </tr>\n",
       "    <tr>\n",
       "      <th>sub-xp110</th>\n",
       "      <td>0.021544</td>\n",
       "      <td>0.425</td>\n",
       "      <td>0.425</td>\n",
       "    </tr>\n",
       "  </tbody>\n",
       "</table>\n",
       "</div>"
      ],
      "text/plain": [
       "             svm__C  test score  baseline\n",
       "sub-xp101  0.464159       0.725     0.450\n",
       "sub-xp102  0.021544       0.550     0.350\n",
       "sub-xp103  0.100000       0.725     0.425\n",
       "sub-xp104  0.464159       0.600     0.425\n",
       "sub-xp105  0.021544       0.725     0.450\n",
       "sub-xp106  0.021544       0.700     0.475\n",
       "sub-xp107  0.021544       0.650     0.500\n",
       "sub-xp108  0.100000       0.675     0.425\n",
       "sub-xp109  0.021544       0.375     0.425\n",
       "sub-xp110  0.021544       0.425     0.425"
      ]
     },
     "execution_count": 35,
     "metadata": {},
     "output_type": "execute_result"
    }
   ],
   "source": [
    "# Display the results. \n",
    "svm_results"
   ]
  },
  {
   "cell_type": "code",
   "execution_count": 36,
   "metadata": {},
   "outputs": [
    {
     "data": {
      "image/png": "[encoded data removed]",
      "text/plain": [
       "<Figure size 1008x432 with 1 Axes>"
      ]
     },
     "metadata": {
      "needs_background": "light"
     },
     "output_type": "display_data"
    }
   ],
   "source": [
    "# Plot the results. \n",
    "plt.figure(figsize = ((14, 6)))\n",
    "plt.plot(svm_results[['test score']], label = 'test score')\n",
    "plt.plot(svm_results[['baseline']], label = 'baseline', color = 'green')\n",
    "plt.legend();"
   ]
  },
  {
   "cell_type": "markdown",
   "metadata": {},
   "source": [
    "**Result:** Overall, the SVM model using the EEG bandpowers as predictors performs better than the baseline for our group of subjects. "
   ]
  },
  {
   "cell_type": "markdown",
   "metadata": {},
   "source": [
    "#### **2.1.5 Logistic regression**\n",
    "\n",
    "In the following cells, we **fine-tune, fit and compute predictions from a logistic regression model**. "
   ]
  },
  {
   "cell_type": "code",
   "execution_count": 37,
   "metadata": {},
   "outputs": [],
   "source": [
    "from sklearn.linear_model import LogisticRegression"
   ]
  },
  {
   "cell_type": "code",
   "execution_count": 38,
   "metadata": {},
   "outputs": [
    {
     "data": {
      "text/plain": [
       "array([1.00000000e-07, 3.59381366e-06, 1.29154967e-04, 4.64158883e-03,\n",
       "       1.66810054e-01, 5.99484250e+00, 2.15443469e+02, 7.74263683e+03,\n",
       "       2.78255940e+05, 1.00000000e+07])"
      ]
     },
     "execution_count": 38,
     "metadata": {},
     "output_type": "execute_result"
    }
   ],
   "source": [
    "# Define the set of values to explore, where c is the C parameter. \n",
    "c_values = np.logspace(-7, 7, num = 10)\n",
    "c_values"
   ]
  },
  {
   "cell_type": "code",
   "execution_count": 39,
   "metadata": {},
   "outputs": [],
   "source": [
    "# Create pipeline. \n",
    "pipe_logreg = Pipeline([\n",
    "    ('scaler', StandardScaler()),\n",
    "    ('logreg', LogisticRegression())\n",
    "])\n",
    "\n",
    "# Create cross-validation object. \n",
    "grid_logreg = {\n",
    "    'logreg__multi_class': ['multinomial'],\n",
    "    'logreg__solver': ['saga'],\n",
    "    'logreg__C': c_values\n",
    "}\n",
    "grid_cv_logreg = GridSearchCV(pipe_logreg, grid_logreg, cv = 5, return_train_score = True, verbose = 0, n_jobs = -1)"
   ]
  },
  {
   "cell_type": "code",
   "execution_count": 40,
   "metadata": {},
   "outputs": [
    {
     "name": "stdout",
     "output_type": "stream",
     "text": [
      "Starting subject sub-xp101\n",
      "Starting subject sub-xp102\n",
      "Starting subject sub-xp103\n",
      "Starting subject sub-xp104\n",
      "Starting subject sub-xp105\n",
      "Starting subject sub-xp106\n",
      "Starting subject sub-xp107\n",
      "Starting subject sub-xp108\n",
      "Starting subject sub-xp109\n",
      "Starting subject sub-xp110\n"
     ]
    }
   ],
   "source": [
    "# Run the model. \n",
    "logreg_results = run_classification(grid_cv_logreg, 'logreg__C', predictors_EEG_200_samples, y)"
   ]
  },
  {
   "cell_type": "code",
   "execution_count": 41,
   "metadata": {},
   "outputs": [
    {
     "data": {
      "text/html": [
       "<div>\n",
       "<style scoped>\n",
       "    .dataframe tbody tr th:only-of-type {\n",
       "        vertical-align: middle;\n",
       "    }\n",
       "\n",
       "    .dataframe tbody tr th {\n",
       "        vertical-align: top;\n",
       "    }\n",
       "\n",
       "    .dataframe thead th {\n",
       "        text-align: right;\n",
       "    }\n",
       "</style>\n",
       "<table border=\"1\" class=\"dataframe\">\n",
       "  <thead>\n",
       "    <tr style=\"text-align: right;\">\n",
       "      <th></th>\n",
       "      <th>logreg__C</th>\n",
       "      <th>test score</th>\n",
       "      <th>baseline</th>\n",
       "    </tr>\n",
       "  </thead>\n",
       "  <tbody>\n",
       "    <tr>\n",
       "      <th>sub-xp101</th>\n",
       "      <td>0.166810</td>\n",
       "      <td>0.625</td>\n",
       "      <td>0.400</td>\n",
       "    </tr>\n",
       "    <tr>\n",
       "      <th>sub-xp102</th>\n",
       "      <td>0.166810</td>\n",
       "      <td>0.525</td>\n",
       "      <td>0.425</td>\n",
       "    </tr>\n",
       "    <tr>\n",
       "      <th>sub-xp103</th>\n",
       "      <td>0.004642</td>\n",
       "      <td>0.725</td>\n",
       "      <td>0.475</td>\n",
       "    </tr>\n",
       "    <tr>\n",
       "      <th>sub-xp104</th>\n",
       "      <td>0.166810</td>\n",
       "      <td>0.700</td>\n",
       "      <td>0.500</td>\n",
       "    </tr>\n",
       "    <tr>\n",
       "      <th>sub-xp105</th>\n",
       "      <td>5.994843</td>\n",
       "      <td>0.750</td>\n",
       "      <td>0.475</td>\n",
       "    </tr>\n",
       "    <tr>\n",
       "      <th>sub-xp106</th>\n",
       "      <td>0.166810</td>\n",
       "      <td>0.600</td>\n",
       "      <td>0.450</td>\n",
       "    </tr>\n",
       "    <tr>\n",
       "      <th>sub-xp107</th>\n",
       "      <td>5.994843</td>\n",
       "      <td>0.625</td>\n",
       "      <td>0.275</td>\n",
       "    </tr>\n",
       "    <tr>\n",
       "      <th>sub-xp108</th>\n",
       "      <td>5.994843</td>\n",
       "      <td>0.750</td>\n",
       "      <td>0.425</td>\n",
       "    </tr>\n",
       "    <tr>\n",
       "      <th>sub-xp109</th>\n",
       "      <td>0.004642</td>\n",
       "      <td>0.575</td>\n",
       "      <td>0.450</td>\n",
       "    </tr>\n",
       "    <tr>\n",
       "      <th>sub-xp110</th>\n",
       "      <td>0.000004</td>\n",
       "      <td>0.450</td>\n",
       "      <td>0.450</td>\n",
       "    </tr>\n",
       "  </tbody>\n",
       "</table>\n",
       "</div>"
      ],
      "text/plain": [
       "           logreg__C  test score  baseline\n",
       "sub-xp101   0.166810       0.625     0.400\n",
       "sub-xp102   0.166810       0.525     0.425\n",
       "sub-xp103   0.004642       0.725     0.475\n",
       "sub-xp104   0.166810       0.700     0.500\n",
       "sub-xp105   5.994843       0.750     0.475\n",
       "sub-xp106   0.166810       0.600     0.450\n",
       "sub-xp107   5.994843       0.625     0.275\n",
       "sub-xp108   5.994843       0.750     0.425\n",
       "sub-xp109   0.004642       0.575     0.450\n",
       "sub-xp110   0.000004       0.450     0.450"
      ]
     },
     "execution_count": 41,
     "metadata": {},
     "output_type": "execute_result"
    }
   ],
   "source": [
    "# Display the results. \n",
    "logreg_results"
   ]
  },
  {
   "cell_type": "code",
   "execution_count": 42,
   "metadata": {},
   "outputs": [
    {
     "data": {
      "image/png": "[encoded data removed]",
      "text/plain": [
       "<Figure size 1008x432 with 1 Axes>"
      ]
     },
     "metadata": {
      "needs_background": "light"
     },
     "output_type": "display_data"
    }
   ],
   "source": [
    "# Plot the results. \n",
    "plt.figure(figsize = ((14, 6)))\n",
    "plt.plot(logreg_results[['test score']], label = 'test score')\n",
    "plt.plot(logreg_results[['baseline']], label = 'baseline', color = 'green')\n",
    "plt.legend();"
   ]
  },
  {
   "cell_type": "markdown",
   "metadata": {},
   "source": [
    "**Result:** Overall, the logistic regression model using the EEG bandpowers as predictors performs better than the baseline for our group of subjects. Now, we will explore further the predictions of our model for one particular subject. "
   ]
  },
  {
   "cell_type": "code",
   "execution_count": 43,
   "metadata": {},
   "outputs": [],
   "source": [
    "from sklearn.metrics import confusion_matrix"
   ]
  },
  {
   "cell_type": "code",
   "execution_count": 44,
   "metadata": {},
   "outputs": [],
   "source": [
    "# Define a function to generate a Scikit-learn confusion matrix. \n",
    "def scikit_learn_confusion_matrix(y_te, y_pred):\n",
    "    \n",
    "    # Compute the confusion matrix. \n",
    "    labels = ['rest', 'task']\n",
    "    matrix = confusion_matrix(\n",
    "        y_true = y_te,\n",
    "        y_pred = y_pred, \n",
    "        labels = labels\n",
    "    )\n",
    "\n",
    "    # Return confusion matrix as a DataFrame. \n",
    "    matrix_df = pd.DataFrame(data = matrix, columns = labels, index = labels)\n",
    "    matrix_df.columns.name = 'Predictions'\n",
    "    matrix_df.index.name = 'True class'\n",
    "    return matrix_df"
   ]
  },
  {
   "cell_type": "code",
   "execution_count": 45,
   "metadata": {},
   "outputs": [],
   "source": [
    "# Define an example subject. \n",
    "subject_index = subjects[0]\n",
    "\n",
    "# Get the C parameter for this subject. \n",
    "best_param_logreg = logreg_results.loc[subject_index, 'logreg__C']\n",
    "best_param_logreg\n",
    "\n",
    "# Retrieve the predictors for this subject. \n",
    "X = predictors_EEG_200_samples[subject_index]\n",
    "\n",
    "# Divide the data into a train set and a test set. \n",
    "X_tr, X_te, y_tr, y_te = train_test_split(X, y, test_size = test_set_proportion)"
   ]
  },
  {
   "cell_type": "code",
   "execution_count": 46,
   "metadata": {},
   "outputs": [
    {
     "data": {
      "text/plain": [
       "Pipeline(memory=None,\n",
       "     steps=[('scaler', StandardScaler(copy=True, with_mean=True, with_std=True)), ('logreg', LogisticRegression(C=0.1668100537200059, class_weight=None, dual=False,\n",
       "          fit_intercept=True, intercept_scaling=1, max_iter=100,\n",
       "          multi_class='multinomial', n_jobs=None, penalty='l2',\n",
       "          random_state=None, solver='saga', tol=0.0001, verbose=0,\n",
       "          warm_start=False))])"
      ]
     },
     "execution_count": 46,
     "metadata": {},
     "output_type": "execute_result"
    }
   ],
   "source": [
    "# Create pipeline. \n",
    "pipe_logreg_optimal = Pipeline([\n",
    "    ('scaler', StandardScaler()),\n",
    "    ('logreg', LogisticRegression(multi_class = 'multinomial', solver = 'saga', C = best_param_logreg))\n",
    "])\n",
    "\n",
    "# Fit optimal logistic regression. \n",
    "pipe_logreg_optimal.fit(X_tr, y_tr)"
   ]
  },
  {
   "cell_type": "code",
   "execution_count": 47,
   "metadata": {},
   "outputs": [
    {
     "data": {
      "text/plain": [
       "array([0, 1, 0, 0, 0, 0, 1, 0, 1, 1, 1, 0, 0, 0, 0, 0, 0, 1, 0, 1, 1, 1,\n",
       "       0, 0, 1, 1, 0, 0, 0, 1, 1, 0, 1, 1, 1, 0, 0, 0, 0, 0])"
      ]
     },
     "execution_count": 47,
     "metadata": {},
     "output_type": "execute_result"
    }
   ],
   "source": [
    "# Compute and display the predictions. \n",
    "y_pred_logreg = pipe_logreg_optimal.predict(X_te)\n",
    "y_pred_logreg"
   ]
  },
  {
   "cell_type": "code",
   "execution_count": 48,
   "metadata": {},
   "outputs": [
    {
     "data": {
      "text/html": [
       "<div>\n",
       "<style scoped>\n",
       "    .dataframe tbody tr th:only-of-type {\n",
       "        vertical-align: middle;\n",
       "    }\n",
       "\n",
       "    .dataframe tbody tr th {\n",
       "        vertical-align: top;\n",
       "    }\n",
       "\n",
       "    .dataframe thead th {\n",
       "        text-align: right;\n",
       "    }\n",
       "</style>\n",
       "<table border=\"1\" class=\"dataframe\">\n",
       "  <thead>\n",
       "    <tr style=\"text-align: right;\">\n",
       "      <th></th>\n",
       "      <th>0</th>\n",
       "      <th>1</th>\n",
       "      <th>2</th>\n",
       "      <th>3</th>\n",
       "      <th>4</th>\n",
       "      <th>5</th>\n",
       "      <th>6</th>\n",
       "      <th>7</th>\n",
       "      <th>8</th>\n",
       "      <th>9</th>\n",
       "      <th>...</th>\n",
       "      <th>30</th>\n",
       "      <th>31</th>\n",
       "      <th>32</th>\n",
       "      <th>33</th>\n",
       "      <th>34</th>\n",
       "      <th>35</th>\n",
       "      <th>36</th>\n",
       "      <th>37</th>\n",
       "      <th>38</th>\n",
       "      <th>39</th>\n",
       "    </tr>\n",
       "  </thead>\n",
       "  <tbody>\n",
       "    <tr>\n",
       "      <th>y_te</th>\n",
       "      <td>1</td>\n",
       "      <td>0</td>\n",
       "      <td>0</td>\n",
       "      <td>0</td>\n",
       "      <td>0</td>\n",
       "      <td>1</td>\n",
       "      <td>0</td>\n",
       "      <td>0</td>\n",
       "      <td>1</td>\n",
       "      <td>0</td>\n",
       "      <td>...</td>\n",
       "      <td>0</td>\n",
       "      <td>0</td>\n",
       "      <td>0</td>\n",
       "      <td>1</td>\n",
       "      <td>1</td>\n",
       "      <td>0</td>\n",
       "      <td>0</td>\n",
       "      <td>0</td>\n",
       "      <td>0</td>\n",
       "      <td>0</td>\n",
       "    </tr>\n",
       "    <tr>\n",
       "      <th>y_pred_logreg</th>\n",
       "      <td>0</td>\n",
       "      <td>1</td>\n",
       "      <td>0</td>\n",
       "      <td>0</td>\n",
       "      <td>0</td>\n",
       "      <td>0</td>\n",
       "      <td>1</td>\n",
       "      <td>0</td>\n",
       "      <td>1</td>\n",
       "      <td>1</td>\n",
       "      <td>...</td>\n",
       "      <td>1</td>\n",
       "      <td>0</td>\n",
       "      <td>1</td>\n",
       "      <td>1</td>\n",
       "      <td>1</td>\n",
       "      <td>0</td>\n",
       "      <td>0</td>\n",
       "      <td>0</td>\n",
       "      <td>0</td>\n",
       "      <td>0</td>\n",
       "    </tr>\n",
       "  </tbody>\n",
       "</table>\n",
       "<p>2 rows × 40 columns</p>\n",
       "</div>"
      ],
      "text/plain": [
       "               0   1   2   3   4   5   6   7   8   9   ...  30  31  32  33  \\\n",
       "y_te            1   0   0   0   0   1   0   0   1   0  ...   0   0   0   1   \n",
       "y_pred_logreg   0   1   0   0   0   0   1   0   1   1  ...   1   0   1   1   \n",
       "\n",
       "               34  35  36  37  38  39  \n",
       "y_te            1   0   0   0   0   0  \n",
       "y_pred_logreg   1   0   0   0   0   0  \n",
       "\n",
       "[2 rows x 40 columns]"
      ]
     },
     "execution_count": 48,
     "metadata": {},
     "output_type": "execute_result"
    }
   ],
   "source": [
    "# Compare the true and predicted target values. \n",
    "pred_comparison = pd.DataFrame([y_te, y_pred_logreg], index = ['y_te', 'y_pred_logreg']).T\n",
    "pred_comparison.T"
   ]
  },
  {
   "cell_type": "code",
   "execution_count": 49,
   "metadata": {},
   "outputs": [
    {
     "data": {
      "text/html": [
       "<div>\n",
       "<style scoped>\n",
       "    .dataframe tbody tr th:only-of-type {\n",
       "        vertical-align: middle;\n",
       "    }\n",
       "\n",
       "    .dataframe tbody tr th {\n",
       "        vertical-align: top;\n",
       "    }\n",
       "\n",
       "    .dataframe thead th {\n",
       "        text-align: right;\n",
       "    }\n",
       "</style>\n",
       "<table border=\"1\" class=\"dataframe\">\n",
       "  <thead>\n",
       "    <tr style=\"text-align: right;\">\n",
       "      <th>Predictions</th>\n",
       "      <th>rest</th>\n",
       "      <th>task</th>\n",
       "    </tr>\n",
       "    <tr>\n",
       "      <th>True class</th>\n",
       "      <th></th>\n",
       "      <th></th>\n",
       "    </tr>\n",
       "  </thead>\n",
       "  <tbody>\n",
       "    <tr>\n",
       "      <th>rest</th>\n",
       "      <td>17</td>\n",
       "      <td>7</td>\n",
       "    </tr>\n",
       "    <tr>\n",
       "      <th>task</th>\n",
       "      <td>7</td>\n",
       "      <td>9</td>\n",
       "    </tr>\n",
       "  </tbody>\n",
       "</table>\n",
       "</div>"
      ],
      "text/plain": [
       "Predictions  rest  task\n",
       "True class             \n",
       "rest           17     7\n",
       "task            7     9"
      ]
     },
     "execution_count": 49,
     "metadata": {},
     "output_type": "execute_result"
    }
   ],
   "source": [
    "# Rename the labels. \n",
    "y_te = np.array(['rest', 'task'])[y_te]\n",
    "y_pred_logreg = np.array(['rest', 'task'])[y_pred_logreg]\n",
    "\n",
    "# Display a Scikit-learn confusion matrix. \n",
    "confusion_matrix_logreg = scikit_learn_confusion_matrix(y_te, y_pred_logreg)\n",
    "confusion_matrix_logreg"
   ]
  },
  {
   "cell_type": "markdown",
   "metadata": {},
   "source": [
    "In the following cells, we explore the results from the logistic regression by analyzing the **probabilities computed for each target value**. In particular, we look at the predicted probability for the true target value. "
   ]
  },
  {
   "cell_type": "code",
   "execution_count": 50,
   "metadata": {},
   "outputs": [
    {
     "data": {
      "text/plain": [
       "array(['rest', 'task'], dtype='<U4')"
      ]
     },
     "execution_count": 50,
     "metadata": {},
     "output_type": "execute_result"
    }
   ],
   "source": [
    "# Get and display the encoding order. \n",
    "encoding_order = np.unique(y_te)\n",
    "encoding_order"
   ]
  },
  {
   "cell_type": "code",
   "execution_count": 51,
   "metadata": {},
   "outputs": [
    {
     "data": {
      "text/html": [
       "<div>\n",
       "<style scoped>\n",
       "    .dataframe tbody tr th:only-of-type {\n",
       "        vertical-align: middle;\n",
       "    }\n",
       "\n",
       "    .dataframe tbody tr th {\n",
       "        vertical-align: top;\n",
       "    }\n",
       "\n",
       "    .dataframe thead th {\n",
       "        text-align: right;\n",
       "    }\n",
       "</style>\n",
       "<table border=\"1\" class=\"dataframe\">\n",
       "  <thead>\n",
       "    <tr style=\"text-align: right;\">\n",
       "      <th></th>\n",
       "      <th>rest</th>\n",
       "      <th>task</th>\n",
       "      <th>predicted target</th>\n",
       "      <th>true target</th>\n",
       "      <th>probability of true target value</th>\n",
       "    </tr>\n",
       "  </thead>\n",
       "  <tbody>\n",
       "    <tr>\n",
       "      <th>0</th>\n",
       "      <td>0.5497</td>\n",
       "      <td>0.4503</td>\n",
       "      <td>rest</td>\n",
       "      <td>task</td>\n",
       "      <td>0.4503</td>\n",
       "    </tr>\n",
       "    <tr>\n",
       "      <th>1</th>\n",
       "      <td>0.4474</td>\n",
       "      <td>0.5526</td>\n",
       "      <td>task</td>\n",
       "      <td>rest</td>\n",
       "      <td>0.4474</td>\n",
       "    </tr>\n",
       "    <tr>\n",
       "      <th>2</th>\n",
       "      <td>0.5050</td>\n",
       "      <td>0.4950</td>\n",
       "      <td>rest</td>\n",
       "      <td>rest</td>\n",
       "      <td>0.5050</td>\n",
       "    </tr>\n",
       "    <tr>\n",
       "      <th>3</th>\n",
       "      <td>0.5288</td>\n",
       "      <td>0.4712</td>\n",
       "      <td>rest</td>\n",
       "      <td>rest</td>\n",
       "      <td>0.5288</td>\n",
       "    </tr>\n",
       "    <tr>\n",
       "      <th>4</th>\n",
       "      <td>0.6685</td>\n",
       "      <td>0.3315</td>\n",
       "      <td>rest</td>\n",
       "      <td>rest</td>\n",
       "      <td>0.6685</td>\n",
       "    </tr>\n",
       "    <tr>\n",
       "      <th>5</th>\n",
       "      <td>0.5747</td>\n",
       "      <td>0.4253</td>\n",
       "      <td>rest</td>\n",
       "      <td>task</td>\n",
       "      <td>0.4253</td>\n",
       "    </tr>\n",
       "    <tr>\n",
       "      <th>6</th>\n",
       "      <td>0.4523</td>\n",
       "      <td>0.5477</td>\n",
       "      <td>task</td>\n",
       "      <td>rest</td>\n",
       "      <td>0.4523</td>\n",
       "    </tr>\n",
       "    <tr>\n",
       "      <th>7</th>\n",
       "      <td>0.6130</td>\n",
       "      <td>0.3870</td>\n",
       "      <td>rest</td>\n",
       "      <td>rest</td>\n",
       "      <td>0.6130</td>\n",
       "    </tr>\n",
       "    <tr>\n",
       "      <th>8</th>\n",
       "      <td>0.1257</td>\n",
       "      <td>0.8743</td>\n",
       "      <td>task</td>\n",
       "      <td>task</td>\n",
       "      <td>0.8743</td>\n",
       "    </tr>\n",
       "    <tr>\n",
       "      <th>9</th>\n",
       "      <td>0.3752</td>\n",
       "      <td>0.6248</td>\n",
       "      <td>task</td>\n",
       "      <td>rest</td>\n",
       "      <td>0.3752</td>\n",
       "    </tr>\n",
       "    <tr>\n",
       "      <th>10</th>\n",
       "      <td>0.1935</td>\n",
       "      <td>0.8065</td>\n",
       "      <td>task</td>\n",
       "      <td>task</td>\n",
       "      <td>0.8065</td>\n",
       "    </tr>\n",
       "    <tr>\n",
       "      <th>11</th>\n",
       "      <td>0.7525</td>\n",
       "      <td>0.2475</td>\n",
       "      <td>rest</td>\n",
       "      <td>rest</td>\n",
       "      <td>0.7525</td>\n",
       "    </tr>\n",
       "    <tr>\n",
       "      <th>12</th>\n",
       "      <td>0.5358</td>\n",
       "      <td>0.4642</td>\n",
       "      <td>rest</td>\n",
       "      <td>rest</td>\n",
       "      <td>0.5358</td>\n",
       "    </tr>\n",
       "    <tr>\n",
       "      <th>13</th>\n",
       "      <td>0.5120</td>\n",
       "      <td>0.4880</td>\n",
       "      <td>rest</td>\n",
       "      <td>rest</td>\n",
       "      <td>0.5120</td>\n",
       "    </tr>\n",
       "    <tr>\n",
       "      <th>14</th>\n",
       "      <td>0.5546</td>\n",
       "      <td>0.4454</td>\n",
       "      <td>rest</td>\n",
       "      <td>task</td>\n",
       "      <td>0.4454</td>\n",
       "    </tr>\n",
       "    <tr>\n",
       "      <th>15</th>\n",
       "      <td>0.5834</td>\n",
       "      <td>0.4166</td>\n",
       "      <td>rest</td>\n",
       "      <td>rest</td>\n",
       "      <td>0.5834</td>\n",
       "    </tr>\n",
       "    <tr>\n",
       "      <th>16</th>\n",
       "      <td>0.6608</td>\n",
       "      <td>0.3392</td>\n",
       "      <td>rest</td>\n",
       "      <td>task</td>\n",
       "      <td>0.3392</td>\n",
       "    </tr>\n",
       "    <tr>\n",
       "      <th>17</th>\n",
       "      <td>0.2178</td>\n",
       "      <td>0.7822</td>\n",
       "      <td>task</td>\n",
       "      <td>task</td>\n",
       "      <td>0.7822</td>\n",
       "    </tr>\n",
       "    <tr>\n",
       "      <th>18</th>\n",
       "      <td>0.5409</td>\n",
       "      <td>0.4591</td>\n",
       "      <td>rest</td>\n",
       "      <td>task</td>\n",
       "      <td>0.4591</td>\n",
       "    </tr>\n",
       "    <tr>\n",
       "      <th>19</th>\n",
       "      <td>0.2665</td>\n",
       "      <td>0.7335</td>\n",
       "      <td>task</td>\n",
       "      <td>rest</td>\n",
       "      <td>0.2665</td>\n",
       "    </tr>\n",
       "    <tr>\n",
       "      <th>20</th>\n",
       "      <td>0.1610</td>\n",
       "      <td>0.8390</td>\n",
       "      <td>task</td>\n",
       "      <td>task</td>\n",
       "      <td>0.8390</td>\n",
       "    </tr>\n",
       "    <tr>\n",
       "      <th>21</th>\n",
       "      <td>0.4700</td>\n",
       "      <td>0.5300</td>\n",
       "      <td>task</td>\n",
       "      <td>rest</td>\n",
       "      <td>0.4700</td>\n",
       "    </tr>\n",
       "    <tr>\n",
       "      <th>22</th>\n",
       "      <td>0.5515</td>\n",
       "      <td>0.4485</td>\n",
       "      <td>rest</td>\n",
       "      <td>rest</td>\n",
       "      <td>0.5515</td>\n",
       "    </tr>\n",
       "    <tr>\n",
       "      <th>23</th>\n",
       "      <td>0.5795</td>\n",
       "      <td>0.4205</td>\n",
       "      <td>rest</td>\n",
       "      <td>task</td>\n",
       "      <td>0.4205</td>\n",
       "    </tr>\n",
       "    <tr>\n",
       "      <th>24</th>\n",
       "      <td>0.4665</td>\n",
       "      <td>0.5335</td>\n",
       "      <td>task</td>\n",
       "      <td>task</td>\n",
       "      <td>0.5335</td>\n",
       "    </tr>\n",
       "    <tr>\n",
       "      <th>25</th>\n",
       "      <td>0.3876</td>\n",
       "      <td>0.6124</td>\n",
       "      <td>task</td>\n",
       "      <td>task</td>\n",
       "      <td>0.6124</td>\n",
       "    </tr>\n",
       "    <tr>\n",
       "      <th>26</th>\n",
       "      <td>0.5870</td>\n",
       "      <td>0.4130</td>\n",
       "      <td>rest</td>\n",
       "      <td>task</td>\n",
       "      <td>0.4130</td>\n",
       "    </tr>\n",
       "    <tr>\n",
       "      <th>27</th>\n",
       "      <td>0.6627</td>\n",
       "      <td>0.3373</td>\n",
       "      <td>rest</td>\n",
       "      <td>rest</td>\n",
       "      <td>0.6627</td>\n",
       "    </tr>\n",
       "    <tr>\n",
       "      <th>28</th>\n",
       "      <td>0.6506</td>\n",
       "      <td>0.3494</td>\n",
       "      <td>rest</td>\n",
       "      <td>rest</td>\n",
       "      <td>0.6506</td>\n",
       "    </tr>\n",
       "    <tr>\n",
       "      <th>29</th>\n",
       "      <td>0.4844</td>\n",
       "      <td>0.5156</td>\n",
       "      <td>task</td>\n",
       "      <td>task</td>\n",
       "      <td>0.5156</td>\n",
       "    </tr>\n",
       "    <tr>\n",
       "      <th>30</th>\n",
       "      <td>0.4566</td>\n",
       "      <td>0.5434</td>\n",
       "      <td>task</td>\n",
       "      <td>rest</td>\n",
       "      <td>0.4566</td>\n",
       "    </tr>\n",
       "    <tr>\n",
       "      <th>31</th>\n",
       "      <td>0.6228</td>\n",
       "      <td>0.3772</td>\n",
       "      <td>rest</td>\n",
       "      <td>rest</td>\n",
       "      <td>0.6228</td>\n",
       "    </tr>\n",
       "    <tr>\n",
       "      <th>32</th>\n",
       "      <td>0.1423</td>\n",
       "      <td>0.8577</td>\n",
       "      <td>task</td>\n",
       "      <td>rest</td>\n",
       "      <td>0.1423</td>\n",
       "    </tr>\n",
       "    <tr>\n",
       "      <th>33</th>\n",
       "      <td>0.1307</td>\n",
       "      <td>0.8693</td>\n",
       "      <td>task</td>\n",
       "      <td>task</td>\n",
       "      <td>0.8693</td>\n",
       "    </tr>\n",
       "    <tr>\n",
       "      <th>34</th>\n",
       "      <td>0.1843</td>\n",
       "      <td>0.8157</td>\n",
       "      <td>task</td>\n",
       "      <td>task</td>\n",
       "      <td>0.8157</td>\n",
       "    </tr>\n",
       "    <tr>\n",
       "      <th>35</th>\n",
       "      <td>0.5210</td>\n",
       "      <td>0.4790</td>\n",
       "      <td>rest</td>\n",
       "      <td>rest</td>\n",
       "      <td>0.5210</td>\n",
       "    </tr>\n",
       "    <tr>\n",
       "      <th>36</th>\n",
       "      <td>0.5984</td>\n",
       "      <td>0.4016</td>\n",
       "      <td>rest</td>\n",
       "      <td>rest</td>\n",
       "      <td>0.5984</td>\n",
       "    </tr>\n",
       "    <tr>\n",
       "      <th>37</th>\n",
       "      <td>0.6117</td>\n",
       "      <td>0.3883</td>\n",
       "      <td>rest</td>\n",
       "      <td>rest</td>\n",
       "      <td>0.6117</td>\n",
       "    </tr>\n",
       "    <tr>\n",
       "      <th>38</th>\n",
       "      <td>0.5908</td>\n",
       "      <td>0.4092</td>\n",
       "      <td>rest</td>\n",
       "      <td>rest</td>\n",
       "      <td>0.5908</td>\n",
       "    </tr>\n",
       "    <tr>\n",
       "      <th>39</th>\n",
       "      <td>0.6366</td>\n",
       "      <td>0.3634</td>\n",
       "      <td>rest</td>\n",
       "      <td>rest</td>\n",
       "      <td>0.6366</td>\n",
       "    </tr>\n",
       "  </tbody>\n",
       "</table>\n",
       "</div>"
      ],
      "text/plain": [
       "      rest    task predicted target true target  \\\n",
       "0   0.5497  0.4503             rest        task   \n",
       "1   0.4474  0.5526             task        rest   \n",
       "2   0.5050  0.4950             rest        rest   \n",
       "3   0.5288  0.4712             rest        rest   \n",
       "4   0.6685  0.3315             rest        rest   \n",
       "5   0.5747  0.4253             rest        task   \n",
       "6   0.4523  0.5477             task        rest   \n",
       "7   0.6130  0.3870             rest        rest   \n",
       "8   0.1257  0.8743             task        task   \n",
       "9   0.3752  0.6248             task        rest   \n",
       "10  0.1935  0.8065             task        task   \n",
       "11  0.7525  0.2475             rest        rest   \n",
       "12  0.5358  0.4642             rest        rest   \n",
       "13  0.5120  0.4880             rest        rest   \n",
       "14  0.5546  0.4454             rest        task   \n",
       "15  0.5834  0.4166             rest        rest   \n",
       "16  0.6608  0.3392             rest        task   \n",
       "17  0.2178  0.7822             task        task   \n",
       "18  0.5409  0.4591             rest        task   \n",
       "19  0.2665  0.7335             task        rest   \n",
       "20  0.1610  0.8390             task        task   \n",
       "21  0.4700  0.5300             task        rest   \n",
       "22  0.5515  0.4485             rest        rest   \n",
       "23  0.5795  0.4205             rest        task   \n",
       "24  0.4665  0.5335             task        task   \n",
       "25  0.3876  0.6124             task        task   \n",
       "26  0.5870  0.4130             rest        task   \n",
       "27  0.6627  0.3373             rest        rest   \n",
       "28  0.6506  0.3494             rest        rest   \n",
       "29  0.4844  0.5156             task        task   \n",
       "30  0.4566  0.5434             task        rest   \n",
       "31  0.6228  0.3772             rest        rest   \n",
       "32  0.1423  0.8577             task        rest   \n",
       "33  0.1307  0.8693             task        task   \n",
       "34  0.1843  0.8157             task        task   \n",
       "35  0.5210  0.4790             rest        rest   \n",
       "36  0.5984  0.4016             rest        rest   \n",
       "37  0.6117  0.3883             rest        rest   \n",
       "38  0.5908  0.4092             rest        rest   \n",
       "39  0.6366  0.3634             rest        rest   \n",
       "\n",
       "    probability of true target value  \n",
       "0                             0.4503  \n",
       "1                             0.4474  \n",
       "2                             0.5050  \n",
       "3                             0.5288  \n",
       "4                             0.6685  \n",
       "5                             0.4253  \n",
       "6                             0.4523  \n",
       "7                             0.6130  \n",
       "8                             0.8743  \n",
       "9                             0.3752  \n",
       "10                            0.8065  \n",
       "11                            0.7525  \n",
       "12                            0.5358  \n",
       "13                            0.5120  \n",
       "14                            0.4454  \n",
       "15                            0.5834  \n",
       "16                            0.3392  \n",
       "17                            0.7822  \n",
       "18                            0.4591  \n",
       "19                            0.2665  \n",
       "20                            0.8390  \n",
       "21                            0.4700  \n",
       "22                            0.5515  \n",
       "23                            0.4205  \n",
       "24                            0.5335  \n",
       "25                            0.6124  \n",
       "26                            0.4130  \n",
       "27                            0.6627  \n",
       "28                            0.6506  \n",
       "29                            0.5156  \n",
       "30                            0.4566  \n",
       "31                            0.6228  \n",
       "32                            0.1423  \n",
       "33                            0.8693  \n",
       "34                            0.8157  \n",
       "35                            0.5210  \n",
       "36                            0.5984  \n",
       "37                            0.6117  \n",
       "38                            0.5908  \n",
       "39                            0.6366  "
      ]
     },
     "execution_count": 51,
     "metadata": {},
     "output_type": "execute_result"
    }
   ],
   "source": [
    "# Compute the probabilities and convert them into a DataFrame with the appropriate column order. \n",
    "logreg_probabilities = np.round(pipe_logreg_optimal.predict_proba(X_te), 4)\n",
    "logreg_probabilities = pd.DataFrame(logreg_probabilities, columns = encoding_order)\n",
    "logreg_probabilities = logreg_probabilities[['rest', 'task']]\n",
    "\n",
    "# Add the predicted and true target values. \n",
    "logreg_probabilities['predicted target'] = y_pred_logreg\n",
    "logreg_probabilities['true target'] = y_te\n",
    "\n",
    "# Compute the predicted probability for the true target value. \n",
    "for index in range(0, logreg_probabilities.shape[0]):\n",
    "    logreg_probabilities.loc[index, 'probability of true target value'] = logreg_probabilities.loc[index, y_te[index]]\n",
    "\n",
    "# Display the DataFrame. \n",
    "logreg_probabilities"
   ]
  },
  {
   "cell_type": "code",
   "execution_count": 52,
   "metadata": {},
   "outputs": [
    {
     "data": {
      "image/png": "[encoded data removed]",
      "text/plain": [
       "<Figure size 432x288 with 1 Axes>"
      ]
     },
     "metadata": {
      "needs_background": "light"
     },
     "output_type": "display_data"
    }
   ],
   "source": [
    "# Display the predicted probability for the true target value, sorted in ascending order. \n",
    "plt.scatter(range(0, logreg_probabilities.shape[0]), logreg_probabilities['probability of true target value'].sort_values());\n",
    "plt.ylabel('Probability')\n",
    "plt.title('Predicted probability for the true target value');"
   ]
  },
  {
   "cell_type": "markdown",
   "metadata": {},
   "source": [
    "As we can see, most of the time the probabilities predicted by the logistic regression model have **intermediate values**, neither low nor high. "
   ]
  },
  {
   "cell_type": "code",
   "execution_count": 53,
   "metadata": {},
   "outputs": [],
   "source": [
    "# Save the results into a .npz file. \n",
    "np.savez(results_path + 'classification_with_EEG_predictors_all_subjects_C1_channel.npz', \n",
    "         knn_results = knn_results, \n",
    "         dt_results = dt_results, \n",
    "         rf_results = rf_results, \n",
    "         svm_results = svm_results, \n",
    "         logreg_results = logreg_results, \n",
    "         logreg_probabilities = logreg_probabilities)"
   ]
  },
  {
   "cell_type": "markdown",
   "metadata": {},
   "source": [
    "### **2.2 Single subject, all channels**\n",
    "\n",
    "In this section, we try to predict the brain state for a **single subject**, using the **EEG bandpowers computed from all the channels**. This time, we will simply use a **SVM model**. "
   ]
  },
  {
   "cell_type": "code",
   "execution_count": 54,
   "metadata": {},
   "outputs": [],
   "source": [
    "# Store the results with the C1 channel only, for comparison. \n",
    "svm_results_C1_channel = svm_results\n",
    "\n",
    "# Define the features. \n",
    "X = predictors_EEG_single_subject_all_channels_200_samples\n",
    "\n",
    "# Divide the data into a train set and a test set. \n",
    "X_tr, X_te, y_tr, y_te = train_test_split(X, y, test_size = test_set_proportion)\n",
    "\n",
    "# Create a baseline containing only the most frequent value in the train set. \n",
    "most_frequent_value = np.bincount(y_tr.astype(int)).argmax()\n",
    "classification_baseline = np.sum(y_te.astype(int) == most_frequent_value) / y_te.shape[0]"
   ]
  },
  {
   "cell_type": "code",
   "execution_count": 55,
   "metadata": {},
   "outputs": [
    {
     "data": {
      "text/plain": [
       "array([1.00000000e-03, 4.64158883e-03, 2.15443469e-02, 1.00000000e-01,\n",
       "       4.64158883e-01, 2.15443469e+00, 1.00000000e+01, 4.64158883e+01,\n",
       "       2.15443469e+02, 1.00000000e+03])"
      ]
     },
     "execution_count": 55,
     "metadata": {},
     "output_type": "execute_result"
    }
   ],
   "source": [
    "# Define the set of values to explore, where c is the C parameter. \n",
    "c_values = np.logspace(-3, 3, num = 10)\n",
    "c_values"
   ]
  },
  {
   "cell_type": "code",
   "execution_count": 56,
   "metadata": {},
   "outputs": [],
   "source": [
    "# Create pipeline. \n",
    "pipe_svm = Pipeline([\n",
    "    ('scaler', StandardScaler()),\n",
    "    ('svm', SVC())\n",
    "])\n",
    "\n",
    "# Create cross-validation object. \n",
    "grid_svm = {\n",
    "    'svm__kernel': ['linear'],\n",
    "    'svm__C': c_values,\n",
    "    'svm__gamma': ['auto']\n",
    "}\n",
    "grid_cv_svm = GridSearchCV(pipe_svm, grid_svm, cv = 5, return_train_score = True, verbose = 0, n_jobs = -1)"
   ]
  },
  {
   "cell_type": "code",
   "execution_count": 57,
   "metadata": {},
   "outputs": [],
   "source": [
    "# Fit the model. \n",
    "grid_cv_svm.fit(X_tr, y_tr)\n",
    "\n",
    "# Compute the test score. \n",
    "test_score = grid_cv_svm.score(X_te, y_te)\n",
    "\n",
    "# Create a Pandas Series to store the results. \n",
    "svm_results = pd.Series()\n",
    "\n",
    "# Store the results in the DataFrame. \n",
    "svm_results.loc['svm__C'] = grid_cv_svm.best_params_['svm__C']\n",
    "svm_results.loc['test score'] = test_score\n",
    "svm_results.loc['baseline'] = classification_baseline"
   ]
  },
  {
   "cell_type": "code",
   "execution_count": 58,
   "metadata": {},
   "outputs": [
    {
     "data": {
      "text/plain": [
       "svm__C        1000.000\n",
       "test score       0.525\n",
       "baseline         0.375\n",
       "dtype: float64"
      ]
     },
     "execution_count": 58,
     "metadata": {},
     "output_type": "execute_result"
    }
   ],
   "source": [
    "# Display the results. \n",
    "svm_results"
   ]
  },
  {
   "cell_type": "code",
   "execution_count": 59,
   "metadata": {},
   "outputs": [
    {
     "data": {
      "text/plain": [
       "0.725"
      ]
     },
     "execution_count": 59,
     "metadata": {},
     "output_type": "execute_result"
    }
   ],
   "source": [
    "# Compare with the result obtained using only the C1 channel. \n",
    "svm_results_C1_channel['test score'][subjects[0]]"
   ]
  },
  {
   "cell_type": "markdown",
   "metadata": {},
   "source": [
    "**Result:** Using all channels does not seem to improve the result for this subject, when we compare with the result obtained using only the C1 channel. "
   ]
  },
  {
   "cell_type": "code",
   "execution_count": 60,
   "metadata": {},
   "outputs": [],
   "source": [
    "# Save the results into a .npz file. \n",
    "np.savez(results_path + 'classification_with_EEG_predictors_single_subject_all_channels.npz', \n",
    "         svm_results = svm_results)"
   ]
  },
  {
   "cell_type": "markdown",
   "metadata": {},
   "source": [
    "## **3. Classification based on fMRI data**\n",
    "\n",
    "### **3.1 Original voxel size**\n",
    "\n",
    "In this section, we try to predict the brain state for **all subjects**, using the **fMRI data with the original voxel size**. "
   ]
  },
  {
   "cell_type": "code",
   "execution_count": 61,
   "metadata": {},
   "outputs": [],
   "source": [
    "# Define a function to flatten the 3D brain images and remove all NaN values. \n",
    "def flatten_preprocessed_fMRI_data(predictors_fMRI):\n",
    "    \n",
    "    # Create new dictionaries to store the formatted fMRI data and the non-NaN indexes. \n",
    "    predictors_fMRI_flatten = dict()\n",
    "    non_nan_indexes_fMRI = dict()\n",
    "\n",
    "    # Iterate through all subjects. \n",
    "    for subject_index in subjects:\n",
    "\n",
    "        # Display current step. \n",
    "        print('Starting subject ' + subject_index)\n",
    "\n",
    "        # Load the data, and retrieve the number and position of non-NaN voxels per scan. \n",
    "        image_data = predictors_fMRI[subject_index]\n",
    "        non_nan_indexes = ~np.isnan(image_data[:, :, :, 0])\n",
    "        nb_non_nan = np.sum(non_nan_indexes)\n",
    "\n",
    "        # Retrieve the number of scans, then create a NumPy array with one row per scan and one column per non-NaN voxel. \n",
    "        nb_scans = image_data.shape[3]\n",
    "        formatted_data = np.empty((nb_scans, nb_non_nan))\n",
    "\n",
    "        # Fill in the array. \n",
    "        for scan in range(nb_scans):\n",
    "            flatten_image = image_data[:, :, :, scan].flatten()\n",
    "            flatten_image = flatten_image[~np.isnan(flatten_image)]\n",
    "            formatted_data[scan, :] = flatten_image\n",
    "\n",
    "        # Fill in the dictionary. \n",
    "        predictors_fMRI_flatten[subject_index] = formatted_data\n",
    "        non_nan_indexes_fMRI[subject_index] = non_nan_indexes\n",
    "        \n",
    "    return predictors_fMRI_flatten, non_nan_indexes_fMRI"
   ]
  },
  {
   "cell_type": "code",
   "execution_count": 62,
   "metadata": {},
   "outputs": [
    {
     "name": "stdout",
     "output_type": "stream",
     "text": [
      "Starting subject sub-xp101\n",
      "Starting subject sub-xp102\n",
      "Starting subject sub-xp103\n",
      "Starting subject sub-xp104\n",
      "Starting subject sub-xp105\n",
      "Starting subject sub-xp106\n",
      "Starting subject sub-xp107\n",
      "Starting subject sub-xp108\n",
      "Starting subject sub-xp109\n",
      "Starting subject sub-xp110\n"
     ]
    }
   ],
   "source": [
    "# Flatten the preprocessed fMRI data with the original voxel size. \n",
    "predictors_fMRI_flatten, non_nan_indexes_fMRI = flatten_preprocessed_fMRI_data(predictors_fMRI)"
   ]
  },
  {
   "cell_type": "markdown",
   "metadata": {},
   "source": [
    "#### **3.1.1 K-Nearest Neighbors (k-NN)**\n",
    "\n",
    "In the following cells, we **fine-tune, fit and compute predictions from a k-NN model**. "
   ]
  },
  {
   "cell_type": "code",
   "execution_count": 63,
   "metadata": {},
   "outputs": [
    {
     "data": {
      "text/plain": [
       "array([1, 2])"
      ]
     },
     "execution_count": 63,
     "metadata": {},
     "output_type": "execute_result"
    }
   ],
   "source": [
    "# Define the set of values to explore, where k is the number of neighbors. \n",
    "k_values = np.arange(1, 3, 1)\n",
    "k_values"
   ]
  },
  {
   "cell_type": "code",
   "execution_count": 64,
   "metadata": {},
   "outputs": [],
   "source": [
    "# Create pipeline. \n",
    "pipe_knn = Pipeline([\n",
    "    ('scaler', StandardScaler()),\n",
    "    ('knn', KNeighborsClassifier())\n",
    "])\n",
    "\n",
    "# Create cross-validation object. \n",
    "grid_knn = {\n",
    "    'knn__n_neighbors': k_values\n",
    "}\n",
    "grid_cv_knn = GridSearchCV(pipe_knn, grid_knn, cv = 5, return_train_score = True, verbose = 0, n_jobs = -1)"
   ]
  },
  {
   "cell_type": "code",
   "execution_count": 65,
   "metadata": {},
   "outputs": [
    {
     "name": "stdout",
     "output_type": "stream",
     "text": [
      "Starting subject sub-xp101\n",
      "Starting subject sub-xp102\n",
      "Starting subject sub-xp103\n",
      "Starting subject sub-xp104\n",
      "Starting subject sub-xp105\n",
      "Starting subject sub-xp106\n",
      "Starting subject sub-xp107\n",
      "Starting subject sub-xp108\n",
      "Starting subject sub-xp109\n",
      "Starting subject sub-xp110\n"
     ]
    }
   ],
   "source": [
    "# Run the model. \n",
    "knn_results = run_classification(grid_cv_knn, 'knn__n_neighbors', predictors_fMRI_flatten, y)"
   ]
  },
  {
   "cell_type": "code",
   "execution_count": 66,
   "metadata": {},
   "outputs": [
    {
     "data": {
      "text/html": [
       "<div>\n",
       "<style scoped>\n",
       "    .dataframe tbody tr th:only-of-type {\n",
       "        vertical-align: middle;\n",
       "    }\n",
       "\n",
       "    .dataframe tbody tr th {\n",
       "        vertical-align: top;\n",
       "    }\n",
       "\n",
       "    .dataframe thead th {\n",
       "        text-align: right;\n",
       "    }\n",
       "</style>\n",
       "<table border=\"1\" class=\"dataframe\">\n",
       "  <thead>\n",
       "    <tr style=\"text-align: right;\">\n",
       "      <th></th>\n",
       "      <th>knn__n_neighbors</th>\n",
       "      <th>test score</th>\n",
       "      <th>baseline</th>\n",
       "    </tr>\n",
       "  </thead>\n",
       "  <tbody>\n",
       "    <tr>\n",
       "      <th>sub-xp101</th>\n",
       "      <td>2.0</td>\n",
       "      <td>0.800</td>\n",
       "      <td>0.475</td>\n",
       "    </tr>\n",
       "    <tr>\n",
       "      <th>sub-xp102</th>\n",
       "      <td>2.0</td>\n",
       "      <td>0.600</td>\n",
       "      <td>0.425</td>\n",
       "    </tr>\n",
       "    <tr>\n",
       "      <th>sub-xp103</th>\n",
       "      <td>1.0</td>\n",
       "      <td>0.825</td>\n",
       "      <td>0.500</td>\n",
       "    </tr>\n",
       "    <tr>\n",
       "      <th>sub-xp104</th>\n",
       "      <td>1.0</td>\n",
       "      <td>0.825</td>\n",
       "      <td>0.500</td>\n",
       "    </tr>\n",
       "    <tr>\n",
       "      <th>sub-xp105</th>\n",
       "      <td>1.0</td>\n",
       "      <td>0.825</td>\n",
       "      <td>0.400</td>\n",
       "    </tr>\n",
       "    <tr>\n",
       "      <th>sub-xp106</th>\n",
       "      <td>2.0</td>\n",
       "      <td>0.600</td>\n",
       "      <td>0.450</td>\n",
       "    </tr>\n",
       "    <tr>\n",
       "      <th>sub-xp107</th>\n",
       "      <td>1.0</td>\n",
       "      <td>0.750</td>\n",
       "      <td>0.475</td>\n",
       "    </tr>\n",
       "    <tr>\n",
       "      <th>sub-xp108</th>\n",
       "      <td>1.0</td>\n",
       "      <td>0.675</td>\n",
       "      <td>0.425</td>\n",
       "    </tr>\n",
       "    <tr>\n",
       "      <th>sub-xp109</th>\n",
       "      <td>1.0</td>\n",
       "      <td>0.850</td>\n",
       "      <td>0.475</td>\n",
       "    </tr>\n",
       "    <tr>\n",
       "      <th>sub-xp110</th>\n",
       "      <td>1.0</td>\n",
       "      <td>0.725</td>\n",
       "      <td>0.475</td>\n",
       "    </tr>\n",
       "  </tbody>\n",
       "</table>\n",
       "</div>"
      ],
      "text/plain": [
       "           knn__n_neighbors  test score  baseline\n",
       "sub-xp101               2.0       0.800     0.475\n",
       "sub-xp102               2.0       0.600     0.425\n",
       "sub-xp103               1.0       0.825     0.500\n",
       "sub-xp104               1.0       0.825     0.500\n",
       "sub-xp105               1.0       0.825     0.400\n",
       "sub-xp106               2.0       0.600     0.450\n",
       "sub-xp107               1.0       0.750     0.475\n",
       "sub-xp108               1.0       0.675     0.425\n",
       "sub-xp109               1.0       0.850     0.475\n",
       "sub-xp110               1.0       0.725     0.475"
      ]
     },
     "execution_count": 66,
     "metadata": {},
     "output_type": "execute_result"
    }
   ],
   "source": [
    "# Display the results. \n",
    "knn_results"
   ]
  },
  {
   "cell_type": "code",
   "execution_count": 67,
   "metadata": {},
   "outputs": [
    {
     "data": {
      "image/png": "[encoded data removed]",
      "text/plain": [
       "<Figure size 1008x432 with 1 Axes>"
      ]
     },
     "metadata": {
      "needs_background": "light"
     },
     "output_type": "display_data"
    }
   ],
   "source": [
    "# Plot the results. \n",
    "plt.figure(figsize = ((14, 6)))\n",
    "plt.plot(knn_results[['test score']], label = 'test score')\n",
    "plt.plot(knn_results[['baseline']], label = 'baseline', color = 'green')\n",
    "plt.legend();"
   ]
  },
  {
   "cell_type": "markdown",
   "metadata": {},
   "source": [
    "**Result:** Overall, the k-NN model using the fMRI BOLD values as predictors performs better than the baseline for our group of subjects. "
   ]
  },
  {
   "cell_type": "markdown",
   "metadata": {},
   "source": [
    "#### **3.1.2 Decision tree**\n",
    "\n",
    "In the following cells, we **fine-tune, fit and compute predictions from a decision tree model**. "
   ]
  },
  {
   "cell_type": "code",
   "execution_count": 68,
   "metadata": {},
   "outputs": [
    {
     "data": {
      "text/plain": [
       "array([1, 2, 3, 4])"
      ]
     },
     "execution_count": 68,
     "metadata": {},
     "output_type": "execute_result"
    }
   ],
   "source": [
    "# Define the set of values to explore, where d is the depth of the tree. \n",
    "d_values = np.arange(1, 5, 1)\n",
    "d_values"
   ]
  },
  {
   "cell_type": "code",
   "execution_count": 69,
   "metadata": {},
   "outputs": [],
   "source": [
    "# Create pipeline. \n",
    "pipe_dt = Pipeline([\n",
    "    ('scaler', None),\n",
    "    ('dt', DecisionTreeClassifier(criterion = 'gini'))\n",
    "])\n",
    "\n",
    "# Create cross-validation object. \n",
    "grid_dt = {\n",
    "    'dt__max_depth': d_values\n",
    "}\n",
    "grid_cv_dt = GridSearchCV(pipe_dt, grid_dt, cv = 5, return_train_score = True, verbose = 0, n_jobs = -1)"
   ]
  },
  {
   "cell_type": "code",
   "execution_count": 70,
   "metadata": {},
   "outputs": [
    {
     "name": "stdout",
     "output_type": "stream",
     "text": [
      "Starting subject sub-xp101\n",
      "Starting subject sub-xp102\n",
      "Starting subject sub-xp103\n",
      "Starting subject sub-xp104\n",
      "Starting subject sub-xp105\n",
      "Starting subject sub-xp106\n",
      "Starting subject sub-xp107\n",
      "Starting subject sub-xp108\n",
      "Starting subject sub-xp109\n",
      "Starting subject sub-xp110\n"
     ]
    }
   ],
   "source": [
    "# Run the model. \n",
    "dt_results = run_classification(grid_cv_dt, 'dt__max_depth', predictors_fMRI_flatten, y)"
   ]
  },
  {
   "cell_type": "code",
   "execution_count": 71,
   "metadata": {},
   "outputs": [
    {
     "data": {
      "text/html": [
       "<div>\n",
       "<style scoped>\n",
       "    .dataframe tbody tr th:only-of-type {\n",
       "        vertical-align: middle;\n",
       "    }\n",
       "\n",
       "    .dataframe tbody tr th {\n",
       "        vertical-align: top;\n",
       "    }\n",
       "\n",
       "    .dataframe thead th {\n",
       "        text-align: right;\n",
       "    }\n",
       "</style>\n",
       "<table border=\"1\" class=\"dataframe\">\n",
       "  <thead>\n",
       "    <tr style=\"text-align: right;\">\n",
       "      <th></th>\n",
       "      <th>dt__max_depth</th>\n",
       "      <th>test score</th>\n",
       "      <th>baseline</th>\n",
       "    </tr>\n",
       "  </thead>\n",
       "  <tbody>\n",
       "    <tr>\n",
       "      <th>sub-xp101</th>\n",
       "      <td>1.0</td>\n",
       "      <td>0.675</td>\n",
       "      <td>0.475</td>\n",
       "    </tr>\n",
       "    <tr>\n",
       "      <th>sub-xp102</th>\n",
       "      <td>3.0</td>\n",
       "      <td>0.675</td>\n",
       "      <td>0.350</td>\n",
       "    </tr>\n",
       "    <tr>\n",
       "      <th>sub-xp103</th>\n",
       "      <td>1.0</td>\n",
       "      <td>0.825</td>\n",
       "      <td>0.450</td>\n",
       "    </tr>\n",
       "    <tr>\n",
       "      <th>sub-xp104</th>\n",
       "      <td>1.0</td>\n",
       "      <td>0.575</td>\n",
       "      <td>0.375</td>\n",
       "    </tr>\n",
       "    <tr>\n",
       "      <th>sub-xp105</th>\n",
       "      <td>4.0</td>\n",
       "      <td>0.650</td>\n",
       "      <td>0.475</td>\n",
       "    </tr>\n",
       "    <tr>\n",
       "      <th>sub-xp106</th>\n",
       "      <td>2.0</td>\n",
       "      <td>0.650</td>\n",
       "      <td>0.475</td>\n",
       "    </tr>\n",
       "    <tr>\n",
       "      <th>sub-xp107</th>\n",
       "      <td>2.0</td>\n",
       "      <td>0.825</td>\n",
       "      <td>0.375</td>\n",
       "    </tr>\n",
       "    <tr>\n",
       "      <th>sub-xp108</th>\n",
       "      <td>2.0</td>\n",
       "      <td>0.650</td>\n",
       "      <td>0.475</td>\n",
       "    </tr>\n",
       "    <tr>\n",
       "      <th>sub-xp109</th>\n",
       "      <td>3.0</td>\n",
       "      <td>0.650</td>\n",
       "      <td>0.450</td>\n",
       "    </tr>\n",
       "    <tr>\n",
       "      <th>sub-xp110</th>\n",
       "      <td>1.0</td>\n",
       "      <td>0.675</td>\n",
       "      <td>0.500</td>\n",
       "    </tr>\n",
       "  </tbody>\n",
       "</table>\n",
       "</div>"
      ],
      "text/plain": [
       "           dt__max_depth  test score  baseline\n",
       "sub-xp101            1.0       0.675     0.475\n",
       "sub-xp102            3.0       0.675     0.350\n",
       "sub-xp103            1.0       0.825     0.450\n",
       "sub-xp104            1.0       0.575     0.375\n",
       "sub-xp105            4.0       0.650     0.475\n",
       "sub-xp106            2.0       0.650     0.475\n",
       "sub-xp107            2.0       0.825     0.375\n",
       "sub-xp108            2.0       0.650     0.475\n",
       "sub-xp109            3.0       0.650     0.450\n",
       "sub-xp110            1.0       0.675     0.500"
      ]
     },
     "execution_count": 71,
     "metadata": {},
     "output_type": "execute_result"
    }
   ],
   "source": [
    "# Display the results. \n",
    "dt_results"
   ]
  },
  {
   "cell_type": "code",
   "execution_count": 72,
   "metadata": {},
   "outputs": [
    {
     "data": {
      "image/png": "[encoded data removed]",
      "text/plain": [
       "<Figure size 1008x432 with 1 Axes>"
      ]
     },
     "metadata": {
      "needs_background": "light"
     },
     "output_type": "display_data"
    }
   ],
   "source": [
    "# Plot the results. \n",
    "plt.figure(figsize = ((14, 6)))\n",
    "plt.plot(dt_results[['test score']], label = 'test score')\n",
    "plt.plot(dt_results[['baseline']], label = 'baseline', color = 'green')\n",
    "plt.legend();"
   ]
  },
  {
   "cell_type": "markdown",
   "metadata": {},
   "source": [
    "**Result:** Overall, the decision tree model using the fMRI BOLD values as predictors performs better than the baseline for our group of subjects. "
   ]
  },
  {
   "cell_type": "markdown",
   "metadata": {},
   "source": [
    "#### **3.1.3 Random forest**\n",
    "\n",
    "In the following cells, we **fine-tune, fit and compute predictions from a random forest model**. "
   ]
  },
  {
   "cell_type": "code",
   "execution_count": 73,
   "metadata": {},
   "outputs": [
    {
     "data": {
      "text/plain": [
       "array([ 5, 10, 15, 20, 25, 30, 35, 40, 45, 50])"
      ]
     },
     "execution_count": 73,
     "metadata": {},
     "output_type": "execute_result"
    }
   ],
   "source": [
    "# Define the set of values to explore, where n is the number of trees. \n",
    "n_values = np.arange(5, 55, 5)\n",
    "n_values"
   ]
  },
  {
   "cell_type": "code",
   "execution_count": 74,
   "metadata": {},
   "outputs": [],
   "source": [
    "# Create pipeline. \n",
    "pipe_rf = Pipeline([\n",
    "    ('scaler', None),\n",
    "    ('rf', RandomForestClassifier(max_depth = None))\n",
    "])\n",
    "\n",
    "# Create cross-validation object. \n",
    "grid_rf = {\n",
    "    'rf__n_estimators': n_values\n",
    "}\n",
    "grid_cv_rf = GridSearchCV(pipe_rf, grid_rf, cv = 5, return_train_score = True, verbose = 0, n_jobs = -1)"
   ]
  },
  {
   "cell_type": "code",
   "execution_count": 75,
   "metadata": {},
   "outputs": [
    {
     "name": "stdout",
     "output_type": "stream",
     "text": [
      "Starting subject sub-xp101\n",
      "Starting subject sub-xp102\n",
      "Starting subject sub-xp103\n",
      "Starting subject sub-xp104\n",
      "Starting subject sub-xp105\n",
      "Starting subject sub-xp106\n",
      "Starting subject sub-xp107\n",
      "Starting subject sub-xp108\n",
      "Starting subject sub-xp109\n",
      "Starting subject sub-xp110\n"
     ]
    }
   ],
   "source": [
    "# Run the model. \n",
    "rf_results = run_classification(grid_cv_rf, 'rf__n_estimators', predictors_fMRI_flatten, y)"
   ]
  },
  {
   "cell_type": "code",
   "execution_count": 76,
   "metadata": {},
   "outputs": [
    {
     "data": {
      "text/html": [
       "<div>\n",
       "<style scoped>\n",
       "    .dataframe tbody tr th:only-of-type {\n",
       "        vertical-align: middle;\n",
       "    }\n",
       "\n",
       "    .dataframe tbody tr th {\n",
       "        vertical-align: top;\n",
       "    }\n",
       "\n",
       "    .dataframe thead th {\n",
       "        text-align: right;\n",
       "    }\n",
       "</style>\n",
       "<table border=\"1\" class=\"dataframe\">\n",
       "  <thead>\n",
       "    <tr style=\"text-align: right;\">\n",
       "      <th></th>\n",
       "      <th>rf__n_estimators</th>\n",
       "      <th>test score</th>\n",
       "      <th>baseline</th>\n",
       "    </tr>\n",
       "  </thead>\n",
       "  <tbody>\n",
       "    <tr>\n",
       "      <th>sub-xp101</th>\n",
       "      <td>40.0</td>\n",
       "      <td>0.875</td>\n",
       "      <td>0.375</td>\n",
       "    </tr>\n",
       "    <tr>\n",
       "      <th>sub-xp102</th>\n",
       "      <td>50.0</td>\n",
       "      <td>0.625</td>\n",
       "      <td>0.325</td>\n",
       "    </tr>\n",
       "    <tr>\n",
       "      <th>sub-xp103</th>\n",
       "      <td>30.0</td>\n",
       "      <td>0.675</td>\n",
       "      <td>0.475</td>\n",
       "    </tr>\n",
       "    <tr>\n",
       "      <th>sub-xp104</th>\n",
       "      <td>25.0</td>\n",
       "      <td>0.550</td>\n",
       "      <td>0.500</td>\n",
       "    </tr>\n",
       "    <tr>\n",
       "      <th>sub-xp105</th>\n",
       "      <td>30.0</td>\n",
       "      <td>0.875</td>\n",
       "      <td>0.500</td>\n",
       "    </tr>\n",
       "    <tr>\n",
       "      <th>sub-xp106</th>\n",
       "      <td>35.0</td>\n",
       "      <td>0.550</td>\n",
       "      <td>0.500</td>\n",
       "    </tr>\n",
       "    <tr>\n",
       "      <th>sub-xp107</th>\n",
       "      <td>50.0</td>\n",
       "      <td>0.775</td>\n",
       "      <td>0.475</td>\n",
       "    </tr>\n",
       "    <tr>\n",
       "      <th>sub-xp108</th>\n",
       "      <td>45.0</td>\n",
       "      <td>0.775</td>\n",
       "      <td>0.450</td>\n",
       "    </tr>\n",
       "    <tr>\n",
       "      <th>sub-xp109</th>\n",
       "      <td>30.0</td>\n",
       "      <td>0.625</td>\n",
       "      <td>0.500</td>\n",
       "    </tr>\n",
       "    <tr>\n",
       "      <th>sub-xp110</th>\n",
       "      <td>45.0</td>\n",
       "      <td>0.700</td>\n",
       "      <td>0.450</td>\n",
       "    </tr>\n",
       "  </tbody>\n",
       "</table>\n",
       "</div>"
      ],
      "text/plain": [
       "           rf__n_estimators  test score  baseline\n",
       "sub-xp101              40.0       0.875     0.375\n",
       "sub-xp102              50.0       0.625     0.325\n",
       "sub-xp103              30.0       0.675     0.475\n",
       "sub-xp104              25.0       0.550     0.500\n",
       "sub-xp105              30.0       0.875     0.500\n",
       "sub-xp106              35.0       0.550     0.500\n",
       "sub-xp107              50.0       0.775     0.475\n",
       "sub-xp108              45.0       0.775     0.450\n",
       "sub-xp109              30.0       0.625     0.500\n",
       "sub-xp110              45.0       0.700     0.450"
      ]
     },
     "execution_count": 76,
     "metadata": {},
     "output_type": "execute_result"
    }
   ],
   "source": [
    "# Display the results. \n",
    "rf_results"
   ]
  },
  {
   "cell_type": "code",
   "execution_count": 77,
   "metadata": {},
   "outputs": [
    {
     "data": {
      "image/png": "[encoded data removed]",
      "text/plain": [
       "<Figure size 1008x432 with 1 Axes>"
      ]
     },
     "metadata": {
      "needs_background": "light"
     },
     "output_type": "display_data"
    }
   ],
   "source": [
    "# Plot the results. \n",
    "plt.figure(figsize = ((14, 6)))\n",
    "plt.plot(rf_results[['test score']], label = 'test score')\n",
    "plt.plot(rf_results[['baseline']], label = 'baseline', color = 'green')\n",
    "plt.legend();"
   ]
  },
  {
   "cell_type": "markdown",
   "metadata": {},
   "source": [
    "**Result:** Overall, the random forest model using the fMRI BOLD values as predictors performs better than the baseline for our group of subjects. "
   ]
  },
  {
   "cell_type": "markdown",
   "metadata": {},
   "source": [
    "#### **3.1.4 Support Vector Machine (SVM)**\n",
    "\n",
    "In the following cells, we **fine-tune, fit and compute predictions from a SVM model**. "
   ]
  },
  {
   "cell_type": "code",
   "execution_count": 78,
   "metadata": {},
   "outputs": [
    {
     "data": {
      "text/plain": [
       "array([1.e-02, 1.e+00, 1.e+02])"
      ]
     },
     "execution_count": 78,
     "metadata": {},
     "output_type": "execute_result"
    }
   ],
   "source": [
    "# Define the set of values to explore, where c is the C parameter. \n",
    "c_values = np.logspace(-2, 2, num = 3)\n",
    "c_values"
   ]
  },
  {
   "cell_type": "code",
   "execution_count": 79,
   "metadata": {},
   "outputs": [],
   "source": [
    "# Create pipeline. \n",
    "pipe_svm = Pipeline([\n",
    "    ('scaler', StandardScaler()),\n",
    "    ('svm', SVC())\n",
    "])\n",
    "\n",
    "# Create cross-validation object. \n",
    "grid_svm = {\n",
    "    'svm__kernel': ['linear'],\n",
    "    'svm__C': c_values,\n",
    "    'svm__gamma': ['auto']\n",
    "}\n",
    "grid_cv_svm = GridSearchCV(pipe_svm, grid_svm, cv = 5, return_train_score = True, verbose = 0, n_jobs = -1)"
   ]
  },
  {
   "cell_type": "code",
   "execution_count": 80,
   "metadata": {},
   "outputs": [
    {
     "name": "stdout",
     "output_type": "stream",
     "text": [
      "Starting subject sub-xp101\n",
      "Starting subject sub-xp102\n",
      "Starting subject sub-xp103\n",
      "Starting subject sub-xp104\n",
      "Starting subject sub-xp105\n",
      "Starting subject sub-xp106\n",
      "Starting subject sub-xp107\n",
      "Starting subject sub-xp108\n",
      "Starting subject sub-xp109\n",
      "Starting subject sub-xp110\n"
     ]
    }
   ],
   "source": [
    "# Run the model. \n",
    "svm_results = run_classification(grid_cv_svm, 'svm__C', predictors_fMRI_flatten, y)"
   ]
  },
  {
   "cell_type": "code",
   "execution_count": 81,
   "metadata": {},
   "outputs": [
    {
     "data": {
      "text/html": [
       "<div>\n",
       "<style scoped>\n",
       "    .dataframe tbody tr th:only-of-type {\n",
       "        vertical-align: middle;\n",
       "    }\n",
       "\n",
       "    .dataframe tbody tr th {\n",
       "        vertical-align: top;\n",
       "    }\n",
       "\n",
       "    .dataframe thead th {\n",
       "        text-align: right;\n",
       "    }\n",
       "</style>\n",
       "<table border=\"1\" class=\"dataframe\">\n",
       "  <thead>\n",
       "    <tr style=\"text-align: right;\">\n",
       "      <th></th>\n",
       "      <th>svm__C</th>\n",
       "      <th>test score</th>\n",
       "      <th>baseline</th>\n",
       "    </tr>\n",
       "  </thead>\n",
       "  <tbody>\n",
       "    <tr>\n",
       "      <th>sub-xp101</th>\n",
       "      <td>0.01</td>\n",
       "      <td>0.850</td>\n",
       "      <td>0.500</td>\n",
       "    </tr>\n",
       "    <tr>\n",
       "      <th>sub-xp102</th>\n",
       "      <td>0.01</td>\n",
       "      <td>0.800</td>\n",
       "      <td>0.425</td>\n",
       "    </tr>\n",
       "    <tr>\n",
       "      <th>sub-xp103</th>\n",
       "      <td>0.01</td>\n",
       "      <td>0.850</td>\n",
       "      <td>0.375</td>\n",
       "    </tr>\n",
       "    <tr>\n",
       "      <th>sub-xp104</th>\n",
       "      <td>0.01</td>\n",
       "      <td>0.675</td>\n",
       "      <td>0.400</td>\n",
       "    </tr>\n",
       "    <tr>\n",
       "      <th>sub-xp105</th>\n",
       "      <td>0.01</td>\n",
       "      <td>0.825</td>\n",
       "      <td>0.425</td>\n",
       "    </tr>\n",
       "    <tr>\n",
       "      <th>sub-xp106</th>\n",
       "      <td>0.01</td>\n",
       "      <td>0.775</td>\n",
       "      <td>0.500</td>\n",
       "    </tr>\n",
       "    <tr>\n",
       "      <th>sub-xp107</th>\n",
       "      <td>0.01</td>\n",
       "      <td>0.850</td>\n",
       "      <td>0.450</td>\n",
       "    </tr>\n",
       "    <tr>\n",
       "      <th>sub-xp108</th>\n",
       "      <td>0.01</td>\n",
       "      <td>0.875</td>\n",
       "      <td>0.350</td>\n",
       "    </tr>\n",
       "    <tr>\n",
       "      <th>sub-xp109</th>\n",
       "      <td>0.01</td>\n",
       "      <td>0.800</td>\n",
       "      <td>0.500</td>\n",
       "    </tr>\n",
       "    <tr>\n",
       "      <th>sub-xp110</th>\n",
       "      <td>0.01</td>\n",
       "      <td>0.775</td>\n",
       "      <td>0.425</td>\n",
       "    </tr>\n",
       "  </tbody>\n",
       "</table>\n",
       "</div>"
      ],
      "text/plain": [
       "           svm__C  test score  baseline\n",
       "sub-xp101    0.01       0.850     0.500\n",
       "sub-xp102    0.01       0.800     0.425\n",
       "sub-xp103    0.01       0.850     0.375\n",
       "sub-xp104    0.01       0.675     0.400\n",
       "sub-xp105    0.01       0.825     0.425\n",
       "sub-xp106    0.01       0.775     0.500\n",
       "sub-xp107    0.01       0.850     0.450\n",
       "sub-xp108    0.01       0.875     0.350\n",
       "sub-xp109    0.01       0.800     0.500\n",
       "sub-xp110    0.01       0.775     0.425"
      ]
     },
     "execution_count": 81,
     "metadata": {},
     "output_type": "execute_result"
    }
   ],
   "source": [
    "# Display the results. \n",
    "svm_results"
   ]
  },
  {
   "cell_type": "code",
   "execution_count": 82,
   "metadata": {},
   "outputs": [
    {
     "data": {
      "image/png": "[encoded data removed]",
      "text/plain": [
       "<Figure size 1008x432 with 1 Axes>"
      ]
     },
     "metadata": {
      "needs_background": "light"
     },
     "output_type": "display_data"
    }
   ],
   "source": [
    "# Plot the results. \n",
    "plt.figure(figsize = ((14, 6)))\n",
    "plt.plot(svm_results[['test score']], label = 'test score')\n",
    "plt.plot(svm_results[['baseline']], label = 'baseline', color = 'green')\n",
    "plt.legend();"
   ]
  },
  {
   "cell_type": "markdown",
   "metadata": {},
   "source": [
    "**Result:** Overall, the SVM model using the fMRI BOLD values as predictors performs better than the baseline for our group of subjects. \n",
    "\n",
    "Fitting a logistic regression model on the fMRI data with the original voxel size is computationally heavy, so we will not use this model here. "
   ]
  },
  {
   "cell_type": "code",
   "execution_count": 83,
   "metadata": {},
   "outputs": [],
   "source": [
    "# Save the results into a .npz file. \n",
    "np.savez(results_path + 'classification_with_fMRI_predictors_all_subjects_r1.npz', \n",
    "         knn_results = knn_results, \n",
    "         dt_results = dt_results, \n",
    "         rf_results = rf_results, \n",
    "         svm_results = svm_results)"
   ]
  },
  {
   "cell_type": "markdown",
   "metadata": {},
   "source": [
    "### **3.2 Voxel size rescaling by a factor 2**\n",
    "\n",
    "In this section, we try to predict the brain state for **all subjects**, using the **fMRI data with a voxel size rescaling by a factor 2** and a **SVM model**. "
   ]
  },
  {
   "cell_type": "code",
   "execution_count": 84,
   "metadata": {},
   "outputs": [
    {
     "name": "stdout",
     "output_type": "stream",
     "text": [
      "Starting subject sub-xp101\n",
      "Starting subject sub-xp102\n",
      "Starting subject sub-xp103\n",
      "Starting subject sub-xp104\n",
      "Starting subject sub-xp105\n",
      "Starting subject sub-xp106\n",
      "Starting subject sub-xp107\n",
      "Starting subject sub-xp108\n",
      "Starting subject sub-xp109\n",
      "Starting subject sub-xp110\n"
     ]
    }
   ],
   "source": [
    "# Flatten the preprocessed fMRI data with the voxel size rescaling by a factor 2. \n",
    "predictors_fMRI_r2_flatten, non_nan_indexes_fMRI_r2 = flatten_preprocessed_fMRI_data(predictors_fMRI_r2)"
   ]
  },
  {
   "cell_type": "code",
   "execution_count": 85,
   "metadata": {},
   "outputs": [
    {
     "data": {
      "text/plain": [
       "array([1.e-02, 1.e+00, 1.e+02])"
      ]
     },
     "execution_count": 85,
     "metadata": {},
     "output_type": "execute_result"
    }
   ],
   "source": [
    "# Define the set of values to explore, where c is the C parameter. \n",
    "c_values = np.logspace(-2, 2, num = 3)\n",
    "c_values"
   ]
  },
  {
   "cell_type": "code",
   "execution_count": 86,
   "metadata": {},
   "outputs": [],
   "source": [
    "# Create pipeline. \n",
    "pipe_svm = Pipeline([\n",
    "    ('scaler', StandardScaler()),\n",
    "    ('svm', SVC())\n",
    "])\n",
    "\n",
    "# Create cross-validation object. \n",
    "grid_svm = {\n",
    "    'svm__kernel': ['linear'],\n",
    "    'svm__C': c_values,\n",
    "    'svm__gamma': ['auto']\n",
    "}\n",
    "grid_cv_svm = GridSearchCV(pipe_svm, grid_svm, cv = 5, return_train_score = True, verbose = 0, n_jobs = -1)"
   ]
  },
  {
   "cell_type": "code",
   "execution_count": 87,
   "metadata": {},
   "outputs": [
    {
     "name": "stdout",
     "output_type": "stream",
     "text": [
      "Starting subject sub-xp101\n",
      "Starting subject sub-xp102\n",
      "Starting subject sub-xp103\n",
      "Starting subject sub-xp104\n",
      "Starting subject sub-xp105\n",
      "Starting subject sub-xp106\n",
      "Starting subject sub-xp107\n",
      "Starting subject sub-xp108\n",
      "Starting subject sub-xp109\n",
      "Starting subject sub-xp110\n"
     ]
    }
   ],
   "source": [
    "# Run the model. \n",
    "svm_results = run_classification(grid_cv_svm, 'svm__C', predictors_fMRI_r2_flatten, y)"
   ]
  },
  {
   "cell_type": "code",
   "execution_count": 88,
   "metadata": {},
   "outputs": [
    {
     "data": {
      "text/html": [
       "<div>\n",
       "<style scoped>\n",
       "    .dataframe tbody tr th:only-of-type {\n",
       "        vertical-align: middle;\n",
       "    }\n",
       "\n",
       "    .dataframe tbody tr th {\n",
       "        vertical-align: top;\n",
       "    }\n",
       "\n",
       "    .dataframe thead th {\n",
       "        text-align: right;\n",
       "    }\n",
       "</style>\n",
       "<table border=\"1\" class=\"dataframe\">\n",
       "  <thead>\n",
       "    <tr style=\"text-align: right;\">\n",
       "      <th></th>\n",
       "      <th>svm__C</th>\n",
       "      <th>test score</th>\n",
       "      <th>baseline</th>\n",
       "    </tr>\n",
       "  </thead>\n",
       "  <tbody>\n",
       "    <tr>\n",
       "      <th>sub-xp101</th>\n",
       "      <td>0.01</td>\n",
       "      <td>0.850</td>\n",
       "      <td>0.500</td>\n",
       "    </tr>\n",
       "    <tr>\n",
       "      <th>sub-xp102</th>\n",
       "      <td>0.01</td>\n",
       "      <td>0.775</td>\n",
       "      <td>0.475</td>\n",
       "    </tr>\n",
       "    <tr>\n",
       "      <th>sub-xp103</th>\n",
       "      <td>0.01</td>\n",
       "      <td>0.675</td>\n",
       "      <td>0.500</td>\n",
       "    </tr>\n",
       "    <tr>\n",
       "      <th>sub-xp104</th>\n",
       "      <td>0.01</td>\n",
       "      <td>0.825</td>\n",
       "      <td>0.400</td>\n",
       "    </tr>\n",
       "    <tr>\n",
       "      <th>sub-xp105</th>\n",
       "      <td>0.01</td>\n",
       "      <td>0.850</td>\n",
       "      <td>0.475</td>\n",
       "    </tr>\n",
       "    <tr>\n",
       "      <th>sub-xp106</th>\n",
       "      <td>0.01</td>\n",
       "      <td>0.775</td>\n",
       "      <td>0.450</td>\n",
       "    </tr>\n",
       "    <tr>\n",
       "      <th>sub-xp107</th>\n",
       "      <td>0.01</td>\n",
       "      <td>0.900</td>\n",
       "      <td>0.450</td>\n",
       "    </tr>\n",
       "    <tr>\n",
       "      <th>sub-xp108</th>\n",
       "      <td>0.01</td>\n",
       "      <td>0.775</td>\n",
       "      <td>0.450</td>\n",
       "    </tr>\n",
       "    <tr>\n",
       "      <th>sub-xp109</th>\n",
       "      <td>0.01</td>\n",
       "      <td>0.850</td>\n",
       "      <td>0.375</td>\n",
       "    </tr>\n",
       "    <tr>\n",
       "      <th>sub-xp110</th>\n",
       "      <td>0.01</td>\n",
       "      <td>0.750</td>\n",
       "      <td>0.425</td>\n",
       "    </tr>\n",
       "  </tbody>\n",
       "</table>\n",
       "</div>"
      ],
      "text/plain": [
       "           svm__C  test score  baseline\n",
       "sub-xp101    0.01       0.850     0.500\n",
       "sub-xp102    0.01       0.775     0.475\n",
       "sub-xp103    0.01       0.675     0.500\n",
       "sub-xp104    0.01       0.825     0.400\n",
       "sub-xp105    0.01       0.850     0.475\n",
       "sub-xp106    0.01       0.775     0.450\n",
       "sub-xp107    0.01       0.900     0.450\n",
       "sub-xp108    0.01       0.775     0.450\n",
       "sub-xp109    0.01       0.850     0.375\n",
       "sub-xp110    0.01       0.750     0.425"
      ]
     },
     "execution_count": 88,
     "metadata": {},
     "output_type": "execute_result"
    }
   ],
   "source": [
    "# Display the results. \n",
    "svm_results"
   ]
  },
  {
   "cell_type": "code",
   "execution_count": 89,
   "metadata": {},
   "outputs": [
    {
     "data": {
      "image/png": "[encoded data removed]",
      "text/plain": [
       "<Figure size 1008x432 with 1 Axes>"
      ]
     },
     "metadata": {
      "needs_background": "light"
     },
     "output_type": "display_data"
    }
   ],
   "source": [
    "# Plot the results. \n",
    "plt.figure(figsize = ((14, 6)))\n",
    "plt.plot(svm_results[['test score']], label = 'test score')\n",
    "plt.plot(svm_results[['baseline']], label = 'baseline', color = 'green')\n",
    "plt.legend();"
   ]
  },
  {
   "cell_type": "markdown",
   "metadata": {},
   "source": [
    "**Result:** Overall, the SVM model using, as predictors, the fMRI data after a voxel size rescaling by a factor 2, performs better than the baseline for our group of subjects. "
   ]
  },
  {
   "cell_type": "code",
   "execution_count": 90,
   "metadata": {},
   "outputs": [],
   "source": [
    "# Save the results into a .npz file. \n",
    "np.savez(results_path + 'classification_with_fMRI_predictors_all_subjects_r2.npz', \n",
    "         svm_results = svm_results)"
   ]
  },
  {
   "cell_type": "markdown",
   "metadata": {},
   "source": [
    "### **3.3 Voxel size rescaling by a factor 3**\n",
    "\n",
    "In this section, we try to predict the brain state for **all subjects**, using the **fMRI data with a voxel size rescaling by a factor 3** and a **SVM model**. "
   ]
  },
  {
   "cell_type": "code",
   "execution_count": 91,
   "metadata": {},
   "outputs": [
    {
     "name": "stdout",
     "output_type": "stream",
     "text": [
      "Starting subject sub-xp101\n",
      "Starting subject sub-xp102\n",
      "Starting subject sub-xp103\n",
      "Starting subject sub-xp104\n",
      "Starting subject sub-xp105\n",
      "Starting subject sub-xp106\n",
      "Starting subject sub-xp107\n",
      "Starting subject sub-xp108\n",
      "Starting subject sub-xp109\n",
      "Starting subject sub-xp110\n"
     ]
    }
   ],
   "source": [
    "# Flatten the preprocessed fMRI data with the voxel size rescaling by a factor 3. \n",
    "predictors_fMRI_r3_flatten, non_nan_indexes_fMRI_r3 = flatten_preprocessed_fMRI_data(predictors_fMRI_r3)"
   ]
  },
  {
   "cell_type": "code",
   "execution_count": 92,
   "metadata": {},
   "outputs": [
    {
     "data": {
      "text/plain": [
       "array([1.e-02, 1.e+00, 1.e+02])"
      ]
     },
     "execution_count": 92,
     "metadata": {},
     "output_type": "execute_result"
    }
   ],
   "source": [
    "# Define the set of values to explore, where c is the C parameter. \n",
    "c_values = np.logspace(-2, 2, num = 3)\n",
    "c_values"
   ]
  },
  {
   "cell_type": "code",
   "execution_count": 93,
   "metadata": {},
   "outputs": [],
   "source": [
    "# Create pipeline. \n",
    "pipe_svm = Pipeline([\n",
    "    ('scaler', StandardScaler()),\n",
    "    ('svm', SVC())\n",
    "])\n",
    "\n",
    "# Create cross-validation object. \n",
    "grid_svm = {\n",
    "    'svm__kernel': ['linear'],\n",
    "    'svm__C': c_values,\n",
    "    'svm__gamma': ['auto']\n",
    "}\n",
    "grid_cv_svm = GridSearchCV(pipe_svm, grid_svm, cv = 5, return_train_score = True, verbose = 0, n_jobs = -1)"
   ]
  },
  {
   "cell_type": "code",
   "execution_count": 94,
   "metadata": {},
   "outputs": [
    {
     "name": "stdout",
     "output_type": "stream",
     "text": [
      "Starting subject sub-xp101\n",
      "Starting subject sub-xp102\n",
      "Starting subject sub-xp103\n",
      "Starting subject sub-xp104\n",
      "Starting subject sub-xp105\n",
      "Starting subject sub-xp106\n",
      "Starting subject sub-xp107\n",
      "Starting subject sub-xp108\n",
      "Starting subject sub-xp109\n",
      "Starting subject sub-xp110\n"
     ]
    }
   ],
   "source": [
    "# Run the model. \n",
    "svm_results = run_classification(grid_cv_svm, 'svm__C', predictors_fMRI_r3_flatten, y)"
   ]
  },
  {
   "cell_type": "code",
   "execution_count": 95,
   "metadata": {},
   "outputs": [
    {
     "data": {
      "text/html": [
       "<div>\n",
       "<style scoped>\n",
       "    .dataframe tbody tr th:only-of-type {\n",
       "        vertical-align: middle;\n",
       "    }\n",
       "\n",
       "    .dataframe tbody tr th {\n",
       "        vertical-align: top;\n",
       "    }\n",
       "\n",
       "    .dataframe thead th {\n",
       "        text-align: right;\n",
       "    }\n",
       "</style>\n",
       "<table border=\"1\" class=\"dataframe\">\n",
       "  <thead>\n",
       "    <tr style=\"text-align: right;\">\n",
       "      <th></th>\n",
       "      <th>svm__C</th>\n",
       "      <th>test score</th>\n",
       "      <th>baseline</th>\n",
       "    </tr>\n",
       "  </thead>\n",
       "  <tbody>\n",
       "    <tr>\n",
       "      <th>sub-xp101</th>\n",
       "      <td>0.01</td>\n",
       "      <td>0.925</td>\n",
       "      <td>0.400</td>\n",
       "    </tr>\n",
       "    <tr>\n",
       "      <th>sub-xp102</th>\n",
       "      <td>0.01</td>\n",
       "      <td>0.700</td>\n",
       "      <td>0.475</td>\n",
       "    </tr>\n",
       "    <tr>\n",
       "      <th>sub-xp103</th>\n",
       "      <td>0.01</td>\n",
       "      <td>0.850</td>\n",
       "      <td>0.450</td>\n",
       "    </tr>\n",
       "    <tr>\n",
       "      <th>sub-xp104</th>\n",
       "      <td>0.01</td>\n",
       "      <td>0.850</td>\n",
       "      <td>0.450</td>\n",
       "    </tr>\n",
       "    <tr>\n",
       "      <th>sub-xp105</th>\n",
       "      <td>0.01</td>\n",
       "      <td>0.875</td>\n",
       "      <td>0.475</td>\n",
       "    </tr>\n",
       "    <tr>\n",
       "      <th>sub-xp106</th>\n",
       "      <td>0.01</td>\n",
       "      <td>0.825</td>\n",
       "      <td>0.450</td>\n",
       "    </tr>\n",
       "    <tr>\n",
       "      <th>sub-xp107</th>\n",
       "      <td>0.01</td>\n",
       "      <td>0.900</td>\n",
       "      <td>0.450</td>\n",
       "    </tr>\n",
       "    <tr>\n",
       "      <th>sub-xp108</th>\n",
       "      <td>0.01</td>\n",
       "      <td>0.775</td>\n",
       "      <td>0.450</td>\n",
       "    </tr>\n",
       "    <tr>\n",
       "      <th>sub-xp109</th>\n",
       "      <td>0.01</td>\n",
       "      <td>0.675</td>\n",
       "      <td>0.425</td>\n",
       "    </tr>\n",
       "    <tr>\n",
       "      <th>sub-xp110</th>\n",
       "      <td>0.01</td>\n",
       "      <td>0.825</td>\n",
       "      <td>0.325</td>\n",
       "    </tr>\n",
       "  </tbody>\n",
       "</table>\n",
       "</div>"
      ],
      "text/plain": [
       "           svm__C  test score  baseline\n",
       "sub-xp101    0.01       0.925     0.400\n",
       "sub-xp102    0.01       0.700     0.475\n",
       "sub-xp103    0.01       0.850     0.450\n",
       "sub-xp104    0.01       0.850     0.450\n",
       "sub-xp105    0.01       0.875     0.475\n",
       "sub-xp106    0.01       0.825     0.450\n",
       "sub-xp107    0.01       0.900     0.450\n",
       "sub-xp108    0.01       0.775     0.450\n",
       "sub-xp109    0.01       0.675     0.425\n",
       "sub-xp110    0.01       0.825     0.325"
      ]
     },
     "execution_count": 95,
     "metadata": {},
     "output_type": "execute_result"
    }
   ],
   "source": [
    "# Display the results. \n",
    "svm_results"
   ]
  },
  {
   "cell_type": "code",
   "execution_count": 96,
   "metadata": {},
   "outputs": [
    {
     "data": {
      "image/png": "[encoded data removed]",
      "text/plain": [
       "<Figure size 1008x432 with 1 Axes>"
      ]
     },
     "metadata": {
      "needs_background": "light"
     },
     "output_type": "display_data"
    }
   ],
   "source": [
    "# Plot the results. \n",
    "plt.figure(figsize = ((14, 6)))\n",
    "plt.plot(svm_results[['test score']], label = 'test score')\n",
    "plt.plot(svm_results[['baseline']], label = 'baseline', color = 'green')\n",
    "plt.legend();"
   ]
  },
  {
   "cell_type": "markdown",
   "metadata": {},
   "source": [
    "**Result:** Overall, the SVM model using, as predictors, the fMRI data after a voxel size rescaling by a factor 3, performs better than the baseline for our group of subjects. "
   ]
  },
  {
   "cell_type": "code",
   "execution_count": 97,
   "metadata": {},
   "outputs": [],
   "source": [
    "# Save the results into a .npz file. \n",
    "np.savez(results_path + 'classification_with_fMRI_predictors_all_subjects_r3.npz', \n",
    "         svm_results = svm_results)"
   ]
  },
  {
   "cell_type": "markdown",
   "metadata": {},
   "source": [
    "### **3.4 PCA with 200 components**\n",
    "\n",
    "In this section, we try to predict the brain state for **all subjects**, using the **fMRI data transformed through a PCA of 200 components** and a **SVM model**. "
   ]
  },
  {
   "cell_type": "code",
   "execution_count": 98,
   "metadata": {},
   "outputs": [
    {
     "data": {
      "text/plain": [
       "array([1.e-02, 1.e+00, 1.e+02])"
      ]
     },
     "execution_count": 98,
     "metadata": {},
     "output_type": "execute_result"
    }
   ],
   "source": [
    "# Define the set of values to explore, where c is the C parameter. \n",
    "c_values = np.logspace(-2, 2, num = 3)\n",
    "c_values"
   ]
  },
  {
   "cell_type": "code",
   "execution_count": 99,
   "metadata": {},
   "outputs": [],
   "source": [
    "# Create pipeline. \n",
    "pipe_svm = Pipeline([\n",
    "    ('scaler', StandardScaler()),\n",
    "    ('svm', SVC())\n",
    "])\n",
    "\n",
    "# Create cross-validation object. \n",
    "grid_svm = {\n",
    "    'svm__kernel': ['linear'],\n",
    "    'svm__C': c_values,\n",
    "    'svm__gamma': ['auto']\n",
    "}\n",
    "grid_cv_svm = GridSearchCV(pipe_svm, grid_svm, cv = 5, return_train_score = True, verbose = 0, n_jobs = -1)"
   ]
  },
  {
   "cell_type": "code",
   "execution_count": 100,
   "metadata": {},
   "outputs": [
    {
     "name": "stdout",
     "output_type": "stream",
     "text": [
      "Starting subject sub-xp101\n",
      "Starting subject sub-xp102\n",
      "Starting subject sub-xp103\n",
      "Starting subject sub-xp104\n",
      "Starting subject sub-xp105\n",
      "Starting subject sub-xp106\n",
      "Starting subject sub-xp107\n",
      "Starting subject sub-xp108\n",
      "Starting subject sub-xp109\n",
      "Starting subject sub-xp110\n"
     ]
    }
   ],
   "source": [
    "# Run the model. \n",
    "svm_results = run_classification(grid_cv_svm, 'svm__C', predictors_fMRI_PCA_200_components, y)"
   ]
  },
  {
   "cell_type": "code",
   "execution_count": 101,
   "metadata": {},
   "outputs": [
    {
     "data": {
      "text/html": [
       "<div>\n",
       "<style scoped>\n",
       "    .dataframe tbody tr th:only-of-type {\n",
       "        vertical-align: middle;\n",
       "    }\n",
       "\n",
       "    .dataframe tbody tr th {\n",
       "        vertical-align: top;\n",
       "    }\n",
       "\n",
       "    .dataframe thead th {\n",
       "        text-align: right;\n",
       "    }\n",
       "</style>\n",
       "<table border=\"1\" class=\"dataframe\">\n",
       "  <thead>\n",
       "    <tr style=\"text-align: right;\">\n",
       "      <th></th>\n",
       "      <th>svm__C</th>\n",
       "      <th>test score</th>\n",
       "      <th>baseline</th>\n",
       "    </tr>\n",
       "  </thead>\n",
       "  <tbody>\n",
       "    <tr>\n",
       "      <th>sub-xp101</th>\n",
       "      <td>0.01</td>\n",
       "      <td>0.475</td>\n",
       "      <td>0.500</td>\n",
       "    </tr>\n",
       "    <tr>\n",
       "      <th>sub-xp102</th>\n",
       "      <td>0.01</td>\n",
       "      <td>0.450</td>\n",
       "      <td>0.425</td>\n",
       "    </tr>\n",
       "    <tr>\n",
       "      <th>sub-xp103</th>\n",
       "      <td>0.01</td>\n",
       "      <td>0.450</td>\n",
       "      <td>0.375</td>\n",
       "    </tr>\n",
       "    <tr>\n",
       "      <th>sub-xp104</th>\n",
       "      <td>0.01</td>\n",
       "      <td>0.450</td>\n",
       "      <td>0.375</td>\n",
       "    </tr>\n",
       "    <tr>\n",
       "      <th>sub-xp105</th>\n",
       "      <td>0.01</td>\n",
       "      <td>0.575</td>\n",
       "      <td>0.375</td>\n",
       "    </tr>\n",
       "    <tr>\n",
       "      <th>sub-xp106</th>\n",
       "      <td>0.01</td>\n",
       "      <td>0.650</td>\n",
       "      <td>0.500</td>\n",
       "    </tr>\n",
       "    <tr>\n",
       "      <th>sub-xp107</th>\n",
       "      <td>0.01</td>\n",
       "      <td>0.400</td>\n",
       "      <td>0.450</td>\n",
       "    </tr>\n",
       "    <tr>\n",
       "      <th>sub-xp108</th>\n",
       "      <td>0.01</td>\n",
       "      <td>0.525</td>\n",
       "      <td>0.475</td>\n",
       "    </tr>\n",
       "    <tr>\n",
       "      <th>sub-xp109</th>\n",
       "      <td>0.01</td>\n",
       "      <td>0.650</td>\n",
       "      <td>0.500</td>\n",
       "    </tr>\n",
       "    <tr>\n",
       "      <th>sub-xp110</th>\n",
       "      <td>0.01</td>\n",
       "      <td>0.400</td>\n",
       "      <td>0.500</td>\n",
       "    </tr>\n",
       "  </tbody>\n",
       "</table>\n",
       "</div>"
      ],
      "text/plain": [
       "           svm__C  test score  baseline\n",
       "sub-xp101    0.01       0.475     0.500\n",
       "sub-xp102    0.01       0.450     0.425\n",
       "sub-xp103    0.01       0.450     0.375\n",
       "sub-xp104    0.01       0.450     0.375\n",
       "sub-xp105    0.01       0.575     0.375\n",
       "sub-xp106    0.01       0.650     0.500\n",
       "sub-xp107    0.01       0.400     0.450\n",
       "sub-xp108    0.01       0.525     0.475\n",
       "sub-xp109    0.01       0.650     0.500\n",
       "sub-xp110    0.01       0.400     0.500"
      ]
     },
     "execution_count": 101,
     "metadata": {},
     "output_type": "execute_result"
    }
   ],
   "source": [
    "# Display the results. \n",
    "svm_results"
   ]
  },
  {
   "cell_type": "code",
   "execution_count": 102,
   "metadata": {},
   "outputs": [
    {
     "data": {
      "image/png": "[encoded data removed]",
      "text/plain": [
       "<Figure size 1008x432 with 1 Axes>"
      ]
     },
     "metadata": {
      "needs_background": "light"
     },
     "output_type": "display_data"
    }
   ],
   "source": [
    "# Plot the results. \n",
    "plt.figure(figsize = ((14, 6)))\n",
    "plt.plot(svm_results[['test score']], label = 'test score')\n",
    "plt.plot(svm_results[['baseline']], label = 'baseline', color = 'green')\n",
    "plt.legend();"
   ]
  },
  {
   "cell_type": "markdown",
   "metadata": {},
   "source": [
    "**Result:** Overall, the SVM model using, as predictors, the fMRI data transformed through a PCA of 200 components, does not seem to perform much better than the baseline for our group of subjects. "
   ]
  },
  {
   "cell_type": "code",
   "execution_count": 103,
   "metadata": {},
   "outputs": [],
   "source": [
    "# Save the results into a .npz file. \n",
    "np.savez(results_path + 'classification_with_fMRI_predictors_all_subjects_PCA_200.npz', \n",
    "         svm_results = svm_results)"
   ]
  },
  {
   "cell_type": "markdown",
   "metadata": {},
   "source": [
    "### **3.5 PCA with 10 components**\n",
    "\n",
    "In this section, we try to predict the brain state for **all subjects**, using the **fMRI data transformed through a PCA of 10 components** and a **SVM model**. "
   ]
  },
  {
   "cell_type": "code",
   "execution_count": 104,
   "metadata": {},
   "outputs": [
    {
     "data": {
      "text/plain": [
       "array([1.e-02, 1.e+00, 1.e+02])"
      ]
     },
     "execution_count": 104,
     "metadata": {},
     "output_type": "execute_result"
    }
   ],
   "source": [
    "# Define the set of values to explore, where c is the C parameter. \n",
    "c_values = np.logspace(-2, 2, num = 3)\n",
    "c_values"
   ]
  },
  {
   "cell_type": "code",
   "execution_count": 105,
   "metadata": {},
   "outputs": [],
   "source": [
    "# Create pipeline. \n",
    "pipe_svm = Pipeline([\n",
    "    ('scaler', StandardScaler()),\n",
    "    ('svm', SVC())\n",
    "])\n",
    "\n",
    "# Create cross-validation object. \n",
    "grid_svm = {\n",
    "    'svm__kernel': ['linear'],\n",
    "    'svm__C': c_values,\n",
    "    'svm__gamma': ['auto']\n",
    "}\n",
    "grid_cv_svm = GridSearchCV(pipe_svm, grid_svm, cv = 5, return_train_score = True, verbose = 0, n_jobs = -1)"
   ]
  },
  {
   "cell_type": "code",
   "execution_count": 106,
   "metadata": {},
   "outputs": [
    {
     "name": "stdout",
     "output_type": "stream",
     "text": [
      "Starting subject sub-xp101\n",
      "Starting subject sub-xp102\n",
      "Starting subject sub-xp103\n",
      "Starting subject sub-xp104\n",
      "Starting subject sub-xp105\n",
      "Starting subject sub-xp106\n",
      "Starting subject sub-xp107\n",
      "Starting subject sub-xp108\n",
      "Starting subject sub-xp109\n",
      "Starting subject sub-xp110\n"
     ]
    }
   ],
   "source": [
    "# Run the model. \n",
    "svm_results = run_classification(grid_cv_svm, 'svm__C', predictors_fMRI_PCA_10_components, y)"
   ]
  },
  {
   "cell_type": "code",
   "execution_count": 107,
   "metadata": {},
   "outputs": [
    {
     "data": {
      "text/html": [
       "<div>\n",
       "<style scoped>\n",
       "    .dataframe tbody tr th:only-of-type {\n",
       "        vertical-align: middle;\n",
       "    }\n",
       "\n",
       "    .dataframe tbody tr th {\n",
       "        vertical-align: top;\n",
       "    }\n",
       "\n",
       "    .dataframe thead th {\n",
       "        text-align: right;\n",
       "    }\n",
       "</style>\n",
       "<table border=\"1\" class=\"dataframe\">\n",
       "  <thead>\n",
       "    <tr style=\"text-align: right;\">\n",
       "      <th></th>\n",
       "      <th>svm__C</th>\n",
       "      <th>test score</th>\n",
       "      <th>baseline</th>\n",
       "    </tr>\n",
       "  </thead>\n",
       "  <tbody>\n",
       "    <tr>\n",
       "      <th>sub-xp101</th>\n",
       "      <td>0.01</td>\n",
       "      <td>0.750</td>\n",
       "      <td>0.425</td>\n",
       "    </tr>\n",
       "    <tr>\n",
       "      <th>sub-xp102</th>\n",
       "      <td>1.00</td>\n",
       "      <td>0.700</td>\n",
       "      <td>0.500</td>\n",
       "    </tr>\n",
       "    <tr>\n",
       "      <th>sub-xp103</th>\n",
       "      <td>0.01</td>\n",
       "      <td>0.550</td>\n",
       "      <td>0.400</td>\n",
       "    </tr>\n",
       "    <tr>\n",
       "      <th>sub-xp104</th>\n",
       "      <td>100.00</td>\n",
       "      <td>0.725</td>\n",
       "      <td>0.450</td>\n",
       "    </tr>\n",
       "    <tr>\n",
       "      <th>sub-xp105</th>\n",
       "      <td>0.01</td>\n",
       "      <td>0.825</td>\n",
       "      <td>0.450</td>\n",
       "    </tr>\n",
       "    <tr>\n",
       "      <th>sub-xp106</th>\n",
       "      <td>1.00</td>\n",
       "      <td>0.600</td>\n",
       "      <td>0.400</td>\n",
       "    </tr>\n",
       "    <tr>\n",
       "      <th>sub-xp107</th>\n",
       "      <td>100.00</td>\n",
       "      <td>0.875</td>\n",
       "      <td>0.350</td>\n",
       "    </tr>\n",
       "    <tr>\n",
       "      <th>sub-xp108</th>\n",
       "      <td>1.00</td>\n",
       "      <td>0.775</td>\n",
       "      <td>0.450</td>\n",
       "    </tr>\n",
       "    <tr>\n",
       "      <th>sub-xp109</th>\n",
       "      <td>100.00</td>\n",
       "      <td>0.750</td>\n",
       "      <td>0.450</td>\n",
       "    </tr>\n",
       "    <tr>\n",
       "      <th>sub-xp110</th>\n",
       "      <td>1.00</td>\n",
       "      <td>0.550</td>\n",
       "      <td>0.375</td>\n",
       "    </tr>\n",
       "  </tbody>\n",
       "</table>\n",
       "</div>"
      ],
      "text/plain": [
       "           svm__C  test score  baseline\n",
       "sub-xp101    0.01       0.750     0.425\n",
       "sub-xp102    1.00       0.700     0.500\n",
       "sub-xp103    0.01       0.550     0.400\n",
       "sub-xp104  100.00       0.725     0.450\n",
       "sub-xp105    0.01       0.825     0.450\n",
       "sub-xp106    1.00       0.600     0.400\n",
       "sub-xp107  100.00       0.875     0.350\n",
       "sub-xp108    1.00       0.775     0.450\n",
       "sub-xp109  100.00       0.750     0.450\n",
       "sub-xp110    1.00       0.550     0.375"
      ]
     },
     "execution_count": 107,
     "metadata": {},
     "output_type": "execute_result"
    }
   ],
   "source": [
    "# Display the results. \n",
    "svm_results"
   ]
  },
  {
   "cell_type": "code",
   "execution_count": 108,
   "metadata": {},
   "outputs": [
    {
     "data": {
      "image/png": "[encoded data removed]",
      "text/plain": [
       "<Figure size 1008x432 with 1 Axes>"
      ]
     },
     "metadata": {
      "needs_background": "light"
     },
     "output_type": "display_data"
    }
   ],
   "source": [
    "# Plot the results. \n",
    "plt.figure(figsize = ((14, 6)))\n",
    "plt.plot(svm_results[['test score']], label = 'test score')\n",
    "plt.plot(svm_results[['baseline']], label = 'baseline', color = 'green')\n",
    "plt.legend();"
   ]
  },
  {
   "cell_type": "markdown",
   "metadata": {},
   "source": [
    "**Result:** Overall, the SVM model using, as predictors, the fMRI data transformed through a PCA of 10 components, performs better than the baseline for our group of subjects. This seems counter-intuitive, since the PCA of 200 components gave poor results. In fact, it is very possible that the separating hyperplane of the SVM works better with a few relevant dimensions, while its performance degrades when we add other, less informative dimensions. We explore this question more in depth in the next section. "
   ]
  },
  {
   "cell_type": "code",
   "execution_count": 109,
   "metadata": {},
   "outputs": [],
   "source": [
    "# Save the results into a .npz file. \n",
    "np.savez(results_path + 'classification_with_fMRI_predictors_all_subjects_PCA_10.npz', \n",
    "         svm_results = svm_results)"
   ]
  },
  {
   "cell_type": "markdown",
   "metadata": {},
   "source": [
    "### **3.6 PCA with a variable number of components**\n",
    "\n",
    "In this section, we try to predict the brain state for **all subjects**, using the **fMRI data transformed through a PCA with a variable number of components** and a **SVM model**. "
   ]
  },
  {
   "cell_type": "code",
   "execution_count": 110,
   "metadata": {},
   "outputs": [],
   "source": [
    "# Define a function to run a classification model on PCA data. \n",
    "def run_classification_PCA(grid_cv, param_name, predictors_dict, target, nb_components):\n",
    "    \n",
    "    # Create a Pandas DataFrame to store the results. \n",
    "    model_results = pd.DataFrame()\n",
    "\n",
    "    # Iterate through all subjects. \n",
    "    for subject_index in subjects:\n",
    "\n",
    "        # Retrieve the predictors. \n",
    "        X = predictors_dict[subject_index][:, :nb_components]\n",
    "        y = target\n",
    "\n",
    "        # Divide the data into a train set and a test set. \n",
    "        X_tr, X_te, y_tr, y_te = train_test_split(X, y, test_size = test_set_proportion)\n",
    "\n",
    "        # Create a baseline containing only the most frequent value in the train set. \n",
    "        most_frequent_value = np.bincount(y_tr.astype(int)).argmax()\n",
    "        classification_baseline = np.sum(y_te.astype(int) == most_frequent_value) / y_te.shape[0]\n",
    "\n",
    "        # Fit the model. \n",
    "        grid_cv.fit(X_tr, y_tr)\n",
    "\n",
    "        # Compute the test score. \n",
    "        test_score = grid_cv.score(X_te, y_te)\n",
    "\n",
    "        # Store the results in the DataFrame. \n",
    "        model_results.loc[subject_index, param_name] = grid_cv.best_params_[param_name]\n",
    "        model_results.loc[subject_index, 'test score'] = test_score\n",
    "        model_results.loc[subject_index, 'baseline'] = classification_baseline\n",
    "        \n",
    "    return model_results"
   ]
  },
  {
   "cell_type": "code",
   "execution_count": 111,
   "metadata": {},
   "outputs": [
    {
     "data": {
      "text/plain": [
       "array([1.e-02, 1.e+00, 1.e+02])"
      ]
     },
     "execution_count": 111,
     "metadata": {},
     "output_type": "execute_result"
    }
   ],
   "source": [
    "# Define the set of values to explore, where c is the C parameter. \n",
    "c_values = np.logspace(-2, 2, num = 3)\n",
    "c_values"
   ]
  },
  {
   "cell_type": "code",
   "execution_count": 112,
   "metadata": {},
   "outputs": [],
   "source": [
    "# Create a NumPy array to store the results. \n",
    "mean_test_score_by_nb_components = np.zeros(200)\n",
    "mean_baseline_by_nb_components = np.zeros(200)\n",
    "\n",
    "# Iterate through the number of components. \n",
    "for nb_components in range(1, 201):\n",
    "    \n",
    "    # Create pipeline. \n",
    "    pipe_svm = Pipeline([\n",
    "        ('scaler', StandardScaler()),\n",
    "        ('svm', SVC())\n",
    "    ])\n",
    "\n",
    "    # Create cross-validation object. \n",
    "    grid_svm = {\n",
    "        'svm__kernel': ['linear'],\n",
    "        'svm__C': c_values,\n",
    "        'svm__gamma': ['auto']\n",
    "    }\n",
    "    grid_cv_svm = GridSearchCV(pipe_svm, grid_svm, cv = 5, return_train_score = True, verbose = 0, n_jobs = -1)\n",
    "    \n",
    "    # Run the model. \n",
    "    svm_results = run_classification_PCA(grid_cv_svm, 'svm__C', predictors_fMRI_PCA_200_components, y, nb_components)\n",
    "    \n",
    "    # Store the results in the NumPy array. \n",
    "    mean_test_score_by_nb_components[nb_components - 1] = svm_results['test score'].mean()\n",
    "    mean_baseline_by_nb_components[nb_components - 1] = svm_results['baseline'].mean()"
   ]
  },
  {
   "cell_type": "code",
   "execution_count": 113,
   "metadata": {},
   "outputs": [
    {
     "data": {
      "image/png": "[encoded data removed]",
      "text/plain": [
       "<Figure size 432x288 with 1 Axes>"
      ]
     },
     "metadata": {
      "needs_background": "light"
     },
     "output_type": "display_data"
    }
   ],
   "source": [
    "# Plot the results. \n",
    "plt.plot(mean_test_score_by_nb_components)\n",
    "plt.plot(mean_baseline_by_nb_components, color = 'green')\n",
    "plt.xlabel('Number of PCA components')\n",
    "plt.ylabel('Mean test score')\n",
    "plt.title('PCA with variable number of components');"
   ]
  },
  {
   "cell_type": "markdown",
   "metadata": {},
   "source": [
    "**Result:** At first, the mean test score rises as the number of PCA components increases. Then, there is a slow decrease, until the mean test score falls near the baseline level.  "
   ]
  },
  {
   "cell_type": "code",
   "execution_count": 114,
   "metadata": {},
   "outputs": [],
   "source": [
    "# Save the results into a .npz file. \n",
    "np.savez(results_path + 'classification_with_fMRI_predictors_all_subjects_PCA_variable.npz', \n",
    "         mean_test_score_by_nb_components = mean_test_score_by_nb_components,\n",
    "         mean_baseline_by_nb_components = mean_baseline_by_nb_components)"
   ]
  },
  {
   "cell_type": "markdown",
   "metadata": {},
   "source": [
    "## **4. Classification based on EEG and fMRI data**\n",
    "\n",
    "Finally, we try to predict the brain state for **all subjects**, combining the **EEG bandpowers** and the **fMRI data transformed through a PCA of 10 components**. "
   ]
  },
  {
   "cell_type": "code",
   "execution_count": 115,
   "metadata": {},
   "outputs": [],
   "source": [
    "# Create a dictionary to hold the predictors. \n",
    "predictors_EEG_fMRI = dict()\n",
    "\n",
    "# Iterate through all subjects. \n",
    "for subject_index in subjects:\n",
    "    \n",
    "    # Concatenate the EEG and fMRI data, and store the results in the dictionary. \n",
    "    eeg_fmri_data = np.concatenate((predictors_fMRI_PCA_10_components[subject_index], predictors_EEG_200_samples[subject_index]), axis = 1)\n",
    "    predictors_EEG_fMRI[subject_index] = eeg_fmri_data"
   ]
  },
  {
   "cell_type": "markdown",
   "metadata": {},
   "source": [
    "### **4.1 K-Nearest Neighbors (k-NN)**\n",
    "\n",
    "In the following cells, we **fine-tune, fit and compute predictions from a k-NN model**. "
   ]
  },
  {
   "cell_type": "code",
   "execution_count": 116,
   "metadata": {},
   "outputs": [
    {
     "data": {
      "text/plain": [
       "array([ 1,  2,  3,  4,  5,  6,  7,  8,  9, 10, 11, 12, 13, 14, 15, 16, 17,\n",
       "       18, 19, 20, 21, 22, 23, 24, 25, 26, 27, 28, 29, 30, 31, 32, 33, 34,\n",
       "       35, 36, 37, 38, 39, 40, 41, 42, 43, 44, 45, 46, 47, 48, 49])"
      ]
     },
     "execution_count": 116,
     "metadata": {},
     "output_type": "execute_result"
    }
   ],
   "source": [
    "# Define the set of values to explore, where k is the number of neighbors. \n",
    "k_values = np.arange(1, 50, 1)\n",
    "k_values"
   ]
  },
  {
   "cell_type": "code",
   "execution_count": 117,
   "metadata": {},
   "outputs": [],
   "source": [
    "# Create pipeline. \n",
    "pipe_knn = Pipeline([\n",
    "    ('scaler', StandardScaler()),\n",
    "    ('knn', KNeighborsClassifier())\n",
    "])\n",
    "\n",
    "# Create cross-validation object. \n",
    "grid_knn = {\n",
    "    'knn__n_neighbors': k_values\n",
    "}\n",
    "grid_cv_knn = GridSearchCV(pipe_knn, grid_knn, cv = 5, return_train_score = True, verbose = 0, n_jobs = -1)"
   ]
  },
  {
   "cell_type": "code",
   "execution_count": 118,
   "metadata": {},
   "outputs": [
    {
     "name": "stdout",
     "output_type": "stream",
     "text": [
      "Starting subject sub-xp101\n",
      "Starting subject sub-xp102\n",
      "Starting subject sub-xp103\n",
      "Starting subject sub-xp104\n",
      "Starting subject sub-xp105\n",
      "Starting subject sub-xp106\n",
      "Starting subject sub-xp107\n",
      "Starting subject sub-xp108\n",
      "Starting subject sub-xp109\n",
      "Starting subject sub-xp110\n"
     ]
    }
   ],
   "source": [
    "# Run the model. \n",
    "knn_results = run_classification(grid_cv_knn, 'knn__n_neighbors', predictors_EEG_fMRI, y)"
   ]
  },
  {
   "cell_type": "code",
   "execution_count": 119,
   "metadata": {},
   "outputs": [
    {
     "data": {
      "text/html": [
       "<div>\n",
       "<style scoped>\n",
       "    .dataframe tbody tr th:only-of-type {\n",
       "        vertical-align: middle;\n",
       "    }\n",
       "\n",
       "    .dataframe tbody tr th {\n",
       "        vertical-align: top;\n",
       "    }\n",
       "\n",
       "    .dataframe thead th {\n",
       "        text-align: right;\n",
       "    }\n",
       "</style>\n",
       "<table border=\"1\" class=\"dataframe\">\n",
       "  <thead>\n",
       "    <tr style=\"text-align: right;\">\n",
       "      <th></th>\n",
       "      <th>knn__n_neighbors</th>\n",
       "      <th>test score</th>\n",
       "      <th>baseline</th>\n",
       "    </tr>\n",
       "  </thead>\n",
       "  <tbody>\n",
       "    <tr>\n",
       "      <th>sub-xp101</th>\n",
       "      <td>3.0</td>\n",
       "      <td>0.825</td>\n",
       "      <td>0.425</td>\n",
       "    </tr>\n",
       "    <tr>\n",
       "      <th>sub-xp102</th>\n",
       "      <td>7.0</td>\n",
       "      <td>0.650</td>\n",
       "      <td>0.450</td>\n",
       "    </tr>\n",
       "    <tr>\n",
       "      <th>sub-xp103</th>\n",
       "      <td>5.0</td>\n",
       "      <td>0.750</td>\n",
       "      <td>0.425</td>\n",
       "    </tr>\n",
       "    <tr>\n",
       "      <th>sub-xp104</th>\n",
       "      <td>16.0</td>\n",
       "      <td>0.725</td>\n",
       "      <td>0.450</td>\n",
       "    </tr>\n",
       "    <tr>\n",
       "      <th>sub-xp105</th>\n",
       "      <td>3.0</td>\n",
       "      <td>0.825</td>\n",
       "      <td>0.425</td>\n",
       "    </tr>\n",
       "    <tr>\n",
       "      <th>sub-xp106</th>\n",
       "      <td>10.0</td>\n",
       "      <td>0.625</td>\n",
       "      <td>0.475</td>\n",
       "    </tr>\n",
       "    <tr>\n",
       "      <th>sub-xp107</th>\n",
       "      <td>4.0</td>\n",
       "      <td>0.875</td>\n",
       "      <td>0.475</td>\n",
       "    </tr>\n",
       "    <tr>\n",
       "      <th>sub-xp108</th>\n",
       "      <td>14.0</td>\n",
       "      <td>0.775</td>\n",
       "      <td>0.475</td>\n",
       "    </tr>\n",
       "    <tr>\n",
       "      <th>sub-xp109</th>\n",
       "      <td>6.0</td>\n",
       "      <td>0.600</td>\n",
       "      <td>0.475</td>\n",
       "    </tr>\n",
       "    <tr>\n",
       "      <th>sub-xp110</th>\n",
       "      <td>12.0</td>\n",
       "      <td>0.675</td>\n",
       "      <td>0.500</td>\n",
       "    </tr>\n",
       "  </tbody>\n",
       "</table>\n",
       "</div>"
      ],
      "text/plain": [
       "           knn__n_neighbors  test score  baseline\n",
       "sub-xp101               3.0       0.825     0.425\n",
       "sub-xp102               7.0       0.650     0.450\n",
       "sub-xp103               5.0       0.750     0.425\n",
       "sub-xp104              16.0       0.725     0.450\n",
       "sub-xp105               3.0       0.825     0.425\n",
       "sub-xp106              10.0       0.625     0.475\n",
       "sub-xp107               4.0       0.875     0.475\n",
       "sub-xp108              14.0       0.775     0.475\n",
       "sub-xp109               6.0       0.600     0.475\n",
       "sub-xp110              12.0       0.675     0.500"
      ]
     },
     "execution_count": 119,
     "metadata": {},
     "output_type": "execute_result"
    }
   ],
   "source": [
    "# Display the results. \n",
    "knn_results"
   ]
  },
  {
   "cell_type": "code",
   "execution_count": 120,
   "metadata": {},
   "outputs": [
    {
     "data": {
      "image/png": "[encoded data removed]",
      "text/plain": [
       "<Figure size 1008x432 with 1 Axes>"
      ]
     },
     "metadata": {
      "needs_background": "light"
     },
     "output_type": "display_data"
    }
   ],
   "source": [
    "# Plot the results. \n",
    "plt.figure(figsize = ((14, 6)))\n",
    "plt.plot(knn_results[['test score']], label = 'test score')\n",
    "plt.plot(knn_results[['baseline']], label = 'baseline', color = 'green')\n",
    "plt.legend();"
   ]
  },
  {
   "cell_type": "markdown",
   "metadata": {},
   "source": [
    "**Result:** Overall, the k-NN model using the combined EEG-fMRI data as predictors performs better than the baseline for our group of subjects. "
   ]
  },
  {
   "cell_type": "markdown",
   "metadata": {},
   "source": [
    "### **4.2 Decision tree**\n",
    "\n",
    "In the following cells, we **fine-tune, fit and compute predictions from a decision tree model**. "
   ]
  },
  {
   "cell_type": "code",
   "execution_count": 121,
   "metadata": {},
   "outputs": [
    {
     "data": {
      "text/plain": [
       "array([ 1,  2,  3,  4,  5,  6,  7,  8,  9, 10, 11, 12, 13, 14, 15, 16, 17,\n",
       "       18, 19, 20, 21, 22, 23, 24, 25, 26, 27, 28, 29, 30, 31, 32, 33, 34,\n",
       "       35, 36, 37, 38, 39, 40, 41, 42, 43, 44, 45, 46, 47, 48, 49])"
      ]
     },
     "execution_count": 121,
     "metadata": {},
     "output_type": "execute_result"
    }
   ],
   "source": [
    "# Define the set of values to explore, where d is the depth of the tree. \n",
    "d_values = np.arange(1, 50, 1)\n",
    "d_values"
   ]
  },
  {
   "cell_type": "code",
   "execution_count": 122,
   "metadata": {},
   "outputs": [],
   "source": [
    "# Create pipeline. \n",
    "pipe_dt = Pipeline([\n",
    "    ('scaler', None),\n",
    "    ('dt', DecisionTreeClassifier(criterion = 'gini'))\n",
    "])\n",
    "\n",
    "# Create cross-validation object. \n",
    "grid_dt = {\n",
    "    'dt__max_depth': d_values\n",
    "}\n",
    "grid_cv_dt = GridSearchCV(pipe_dt, grid_dt, cv = 5, return_train_score = True, verbose = 0, n_jobs = -1)"
   ]
  },
  {
   "cell_type": "code",
   "execution_count": 123,
   "metadata": {},
   "outputs": [
    {
     "name": "stdout",
     "output_type": "stream",
     "text": [
      "Starting subject sub-xp101\n",
      "Starting subject sub-xp102\n",
      "Starting subject sub-xp103\n",
      "Starting subject sub-xp104\n",
      "Starting subject sub-xp105\n",
      "Starting subject sub-xp106\n",
      "Starting subject sub-xp107\n",
      "Starting subject sub-xp108\n",
      "Starting subject sub-xp109\n",
      "Starting subject sub-xp110\n"
     ]
    }
   ],
   "source": [
    "# Run the model. \n",
    "dt_results = run_classification(grid_cv_dt, 'dt__max_depth', predictors_EEG_fMRI, y)"
   ]
  },
  {
   "cell_type": "code",
   "execution_count": 124,
   "metadata": {},
   "outputs": [
    {
     "data": {
      "text/html": [
       "<div>\n",
       "<style scoped>\n",
       "    .dataframe tbody tr th:only-of-type {\n",
       "        vertical-align: middle;\n",
       "    }\n",
       "\n",
       "    .dataframe tbody tr th {\n",
       "        vertical-align: top;\n",
       "    }\n",
       "\n",
       "    .dataframe thead th {\n",
       "        text-align: right;\n",
       "    }\n",
       "</style>\n",
       "<table border=\"1\" class=\"dataframe\">\n",
       "  <thead>\n",
       "    <tr style=\"text-align: right;\">\n",
       "      <th></th>\n",
       "      <th>dt__max_depth</th>\n",
       "      <th>test score</th>\n",
       "      <th>baseline</th>\n",
       "    </tr>\n",
       "  </thead>\n",
       "  <tbody>\n",
       "    <tr>\n",
       "      <th>sub-xp101</th>\n",
       "      <td>4.0</td>\n",
       "      <td>0.700</td>\n",
       "      <td>0.475</td>\n",
       "    </tr>\n",
       "    <tr>\n",
       "      <th>sub-xp102</th>\n",
       "      <td>7.0</td>\n",
       "      <td>0.575</td>\n",
       "      <td>0.325</td>\n",
       "    </tr>\n",
       "    <tr>\n",
       "      <th>sub-xp103</th>\n",
       "      <td>32.0</td>\n",
       "      <td>0.775</td>\n",
       "      <td>0.400</td>\n",
       "    </tr>\n",
       "    <tr>\n",
       "      <th>sub-xp104</th>\n",
       "      <td>14.0</td>\n",
       "      <td>0.575</td>\n",
       "      <td>0.425</td>\n",
       "    </tr>\n",
       "    <tr>\n",
       "      <th>sub-xp105</th>\n",
       "      <td>14.0</td>\n",
       "      <td>0.775</td>\n",
       "      <td>0.400</td>\n",
       "    </tr>\n",
       "    <tr>\n",
       "      <th>sub-xp106</th>\n",
       "      <td>22.0</td>\n",
       "      <td>0.750</td>\n",
       "      <td>0.475</td>\n",
       "    </tr>\n",
       "    <tr>\n",
       "      <th>sub-xp107</th>\n",
       "      <td>13.0</td>\n",
       "      <td>0.825</td>\n",
       "      <td>0.500</td>\n",
       "    </tr>\n",
       "    <tr>\n",
       "      <th>sub-xp108</th>\n",
       "      <td>4.0</td>\n",
       "      <td>0.650</td>\n",
       "      <td>0.425</td>\n",
       "    </tr>\n",
       "    <tr>\n",
       "      <th>sub-xp109</th>\n",
       "      <td>28.0</td>\n",
       "      <td>0.725</td>\n",
       "      <td>0.475</td>\n",
       "    </tr>\n",
       "    <tr>\n",
       "      <th>sub-xp110</th>\n",
       "      <td>2.0</td>\n",
       "      <td>0.575</td>\n",
       "      <td>0.450</td>\n",
       "    </tr>\n",
       "  </tbody>\n",
       "</table>\n",
       "</div>"
      ],
      "text/plain": [
       "           dt__max_depth  test score  baseline\n",
       "sub-xp101            4.0       0.700     0.475\n",
       "sub-xp102            7.0       0.575     0.325\n",
       "sub-xp103           32.0       0.775     0.400\n",
       "sub-xp104           14.0       0.575     0.425\n",
       "sub-xp105           14.0       0.775     0.400\n",
       "sub-xp106           22.0       0.750     0.475\n",
       "sub-xp107           13.0       0.825     0.500\n",
       "sub-xp108            4.0       0.650     0.425\n",
       "sub-xp109           28.0       0.725     0.475\n",
       "sub-xp110            2.0       0.575     0.450"
      ]
     },
     "execution_count": 124,
     "metadata": {},
     "output_type": "execute_result"
    }
   ],
   "source": [
    "# Display the results. \n",
    "dt_results"
   ]
  },
  {
   "cell_type": "code",
   "execution_count": 125,
   "metadata": {},
   "outputs": [
    {
     "data": {
      "image/png": "[encoded data removed]",
      "text/plain": [
       "<Figure size 1008x432 with 1 Axes>"
      ]
     },
     "metadata": {
      "needs_background": "light"
     },
     "output_type": "display_data"
    }
   ],
   "source": [
    "# Plot the results. \n",
    "plt.figure(figsize = ((14, 6)))\n",
    "plt.plot(dt_results[['test score']], label = 'test score')\n",
    "plt.plot(dt_results[['baseline']], label = 'baseline', color = 'green')\n",
    "plt.legend();"
   ]
  },
  {
   "cell_type": "markdown",
   "metadata": {},
   "source": [
    "**Result:** Overall, the decision tree model using the combined EEG-fMRI data as predictors performs better than the baseline for our group of subjects. "
   ]
  },
  {
   "cell_type": "markdown",
   "metadata": {},
   "source": [
    "### **4.3 Random forest**\n",
    "\n",
    "In the following cells, we **fine-tune, fit and compute predictions from a random forest model**. "
   ]
  },
  {
   "cell_type": "code",
   "execution_count": 126,
   "metadata": {},
   "outputs": [
    {
     "data": {
      "text/plain": [
       "array([  5,  10,  15,  20,  25,  30,  35,  40,  45,  50,  55,  60,  65,\n",
       "        70,  75,  80,  85,  90,  95, 100])"
      ]
     },
     "execution_count": 126,
     "metadata": {},
     "output_type": "execute_result"
    }
   ],
   "source": [
    "# Define the set of values to explore, where n is the number of trees. \n",
    "n_values = np.arange(5, 105, 5)\n",
    "n_values"
   ]
  },
  {
   "cell_type": "code",
   "execution_count": 127,
   "metadata": {},
   "outputs": [],
   "source": [
    "# Create pipeline. \n",
    "pipe_rf = Pipeline([\n",
    "    ('scaler', None),\n",
    "    ('rf', RandomForestClassifier(max_depth = None))\n",
    "])\n",
    "\n",
    "# Create cross-validation object. \n",
    "grid_rf = {\n",
    "    'rf__n_estimators': n_values\n",
    "}\n",
    "grid_cv_rf = GridSearchCV(pipe_rf, grid_rf, cv = 5, return_train_score = True, verbose = 0, n_jobs = -1)"
   ]
  },
  {
   "cell_type": "code",
   "execution_count": 128,
   "metadata": {},
   "outputs": [
    {
     "name": "stdout",
     "output_type": "stream",
     "text": [
      "Starting subject sub-xp101\n",
      "Starting subject sub-xp102\n",
      "Starting subject sub-xp103\n",
      "Starting subject sub-xp104\n",
      "Starting subject sub-xp105\n",
      "Starting subject sub-xp106\n",
      "Starting subject sub-xp107\n",
      "Starting subject sub-xp108\n",
      "Starting subject sub-xp109\n",
      "Starting subject sub-xp110\n"
     ]
    }
   ],
   "source": [
    "# Run the model. \n",
    "rf_results = run_classification(grid_cv_rf, 'rf__n_estimators', predictors_EEG_fMRI, y)"
   ]
  },
  {
   "cell_type": "code",
   "execution_count": 129,
   "metadata": {},
   "outputs": [
    {
     "data": {
      "text/html": [
       "<div>\n",
       "<style scoped>\n",
       "    .dataframe tbody tr th:only-of-type {\n",
       "        vertical-align: middle;\n",
       "    }\n",
       "\n",
       "    .dataframe tbody tr th {\n",
       "        vertical-align: top;\n",
       "    }\n",
       "\n",
       "    .dataframe thead th {\n",
       "        text-align: right;\n",
       "    }\n",
       "</style>\n",
       "<table border=\"1\" class=\"dataframe\">\n",
       "  <thead>\n",
       "    <tr style=\"text-align: right;\">\n",
       "      <th></th>\n",
       "      <th>rf__n_estimators</th>\n",
       "      <th>test score</th>\n",
       "      <th>baseline</th>\n",
       "    </tr>\n",
       "  </thead>\n",
       "  <tbody>\n",
       "    <tr>\n",
       "      <th>sub-xp101</th>\n",
       "      <td>50.0</td>\n",
       "      <td>0.800</td>\n",
       "      <td>0.475</td>\n",
       "    </tr>\n",
       "    <tr>\n",
       "      <th>sub-xp102</th>\n",
       "      <td>90.0</td>\n",
       "      <td>0.750</td>\n",
       "      <td>0.400</td>\n",
       "    </tr>\n",
       "    <tr>\n",
       "      <th>sub-xp103</th>\n",
       "      <td>75.0</td>\n",
       "      <td>0.800</td>\n",
       "      <td>0.300</td>\n",
       "    </tr>\n",
       "    <tr>\n",
       "      <th>sub-xp104</th>\n",
       "      <td>90.0</td>\n",
       "      <td>0.675</td>\n",
       "      <td>0.400</td>\n",
       "    </tr>\n",
       "    <tr>\n",
       "      <th>sub-xp105</th>\n",
       "      <td>55.0</td>\n",
       "      <td>0.800</td>\n",
       "      <td>0.475</td>\n",
       "    </tr>\n",
       "    <tr>\n",
       "      <th>sub-xp106</th>\n",
       "      <td>70.0</td>\n",
       "      <td>0.600</td>\n",
       "      <td>0.475</td>\n",
       "    </tr>\n",
       "    <tr>\n",
       "      <th>sub-xp107</th>\n",
       "      <td>30.0</td>\n",
       "      <td>0.900</td>\n",
       "      <td>0.400</td>\n",
       "    </tr>\n",
       "    <tr>\n",
       "      <th>sub-xp108</th>\n",
       "      <td>50.0</td>\n",
       "      <td>0.775</td>\n",
       "      <td>0.475</td>\n",
       "    </tr>\n",
       "    <tr>\n",
       "      <th>sub-xp109</th>\n",
       "      <td>90.0</td>\n",
       "      <td>0.600</td>\n",
       "      <td>0.425</td>\n",
       "    </tr>\n",
       "    <tr>\n",
       "      <th>sub-xp110</th>\n",
       "      <td>40.0</td>\n",
       "      <td>0.700</td>\n",
       "      <td>0.425</td>\n",
       "    </tr>\n",
       "  </tbody>\n",
       "</table>\n",
       "</div>"
      ],
      "text/plain": [
       "           rf__n_estimators  test score  baseline\n",
       "sub-xp101              50.0       0.800     0.475\n",
       "sub-xp102              90.0       0.750     0.400\n",
       "sub-xp103              75.0       0.800     0.300\n",
       "sub-xp104              90.0       0.675     0.400\n",
       "sub-xp105              55.0       0.800     0.475\n",
       "sub-xp106              70.0       0.600     0.475\n",
       "sub-xp107              30.0       0.900     0.400\n",
       "sub-xp108              50.0       0.775     0.475\n",
       "sub-xp109              90.0       0.600     0.425\n",
       "sub-xp110              40.0       0.700     0.425"
      ]
     },
     "execution_count": 129,
     "metadata": {},
     "output_type": "execute_result"
    }
   ],
   "source": [
    "# Display the results. \n",
    "rf_results"
   ]
  },
  {
   "cell_type": "code",
   "execution_count": 130,
   "metadata": {},
   "outputs": [
    {
     "data": {
      "image/png": "[encoded data removed]",
      "text/plain": [
       "<Figure size 1008x432 with 1 Axes>"
      ]
     },
     "metadata": {
      "needs_background": "light"
     },
     "output_type": "display_data"
    }
   ],
   "source": [
    "# Plot the results. \n",
    "plt.figure(figsize = ((14, 6)))\n",
    "plt.plot(rf_results[['test score']], label = 'test score')\n",
    "plt.plot(rf_results[['baseline']], label = 'baseline', color = 'green')\n",
    "plt.legend();"
   ]
  },
  {
   "cell_type": "markdown",
   "metadata": {},
   "source": [
    "**Result:** Overall, the random forest model using the combined EEG-fMRI data as predictors performs better than the baseline for our group of subjects. "
   ]
  },
  {
   "cell_type": "markdown",
   "metadata": {},
   "source": [
    "### **4.4 Support Vector Machine (SVM)**\n",
    "\n",
    "In the following cells, we **fine-tune, fit and compute predictions from a SVM model**. "
   ]
  },
  {
   "cell_type": "code",
   "execution_count": 131,
   "metadata": {},
   "outputs": [
    {
     "data": {
      "text/plain": [
       "array([1.00000000e-03, 4.64158883e-03, 2.15443469e-02, 1.00000000e-01,\n",
       "       4.64158883e-01, 2.15443469e+00, 1.00000000e+01, 4.64158883e+01,\n",
       "       2.15443469e+02, 1.00000000e+03])"
      ]
     },
     "execution_count": 131,
     "metadata": {},
     "output_type": "execute_result"
    }
   ],
   "source": [
    "# Define the set of values to explore, where c is the C parameter. \n",
    "c_values = np.logspace(-3, 3, num = 10)\n",
    "c_values"
   ]
  },
  {
   "cell_type": "code",
   "execution_count": 132,
   "metadata": {},
   "outputs": [],
   "source": [
    "# Create pipeline. \n",
    "pipe_svm = Pipeline([\n",
    "    ('scaler', StandardScaler()),\n",
    "    ('svm', SVC())\n",
    "])\n",
    "\n",
    "# Create cross-validation object. \n",
    "grid_svm = {\n",
    "    'svm__kernel': ['linear'],\n",
    "    'svm__C': c_values,\n",
    "    'svm__gamma': ['auto']\n",
    "}\n",
    "grid_cv_svm = GridSearchCV(pipe_svm, grid_svm, cv = 5, return_train_score = True, verbose = 0, n_jobs = -1)"
   ]
  },
  {
   "cell_type": "code",
   "execution_count": 133,
   "metadata": {},
   "outputs": [
    {
     "name": "stdout",
     "output_type": "stream",
     "text": [
      "Starting subject sub-xp101\n",
      "Starting subject sub-xp102\n",
      "Starting subject sub-xp103\n",
      "Starting subject sub-xp104\n",
      "Starting subject sub-xp105\n",
      "Starting subject sub-xp106\n",
      "Starting subject sub-xp107\n",
      "Starting subject sub-xp108\n",
      "Starting subject sub-xp109\n",
      "Starting subject sub-xp110\n"
     ]
    }
   ],
   "source": [
    "# Run the model. \n",
    "svm_results = run_classification(grid_cv_svm, 'svm__C', predictors_EEG_fMRI, y)"
   ]
  },
  {
   "cell_type": "code",
   "execution_count": 134,
   "metadata": {},
   "outputs": [
    {
     "data": {
      "text/html": [
       "<div>\n",
       "<style scoped>\n",
       "    .dataframe tbody tr th:only-of-type {\n",
       "        vertical-align: middle;\n",
       "    }\n",
       "\n",
       "    .dataframe tbody tr th {\n",
       "        vertical-align: top;\n",
       "    }\n",
       "\n",
       "    .dataframe thead th {\n",
       "        text-align: right;\n",
       "    }\n",
       "</style>\n",
       "<table border=\"1\" class=\"dataframe\">\n",
       "  <thead>\n",
       "    <tr style=\"text-align: right;\">\n",
       "      <th></th>\n",
       "      <th>svm__C</th>\n",
       "      <th>test score</th>\n",
       "      <th>baseline</th>\n",
       "    </tr>\n",
       "  </thead>\n",
       "  <tbody>\n",
       "    <tr>\n",
       "      <th>sub-xp101</th>\n",
       "      <td>0.021544</td>\n",
       "      <td>0.900</td>\n",
       "      <td>0.450</td>\n",
       "    </tr>\n",
       "    <tr>\n",
       "      <th>sub-xp102</th>\n",
       "      <td>0.100000</td>\n",
       "      <td>0.650</td>\n",
       "      <td>0.450</td>\n",
       "    </tr>\n",
       "    <tr>\n",
       "      <th>sub-xp103</th>\n",
       "      <td>0.464159</td>\n",
       "      <td>0.750</td>\n",
       "      <td>0.375</td>\n",
       "    </tr>\n",
       "    <tr>\n",
       "      <th>sub-xp104</th>\n",
       "      <td>0.021544</td>\n",
       "      <td>0.775</td>\n",
       "      <td>0.500</td>\n",
       "    </tr>\n",
       "    <tr>\n",
       "      <th>sub-xp105</th>\n",
       "      <td>0.100000</td>\n",
       "      <td>0.850</td>\n",
       "      <td>0.500</td>\n",
       "    </tr>\n",
       "    <tr>\n",
       "      <th>sub-xp106</th>\n",
       "      <td>0.100000</td>\n",
       "      <td>0.650</td>\n",
       "      <td>0.500</td>\n",
       "    </tr>\n",
       "    <tr>\n",
       "      <th>sub-xp107</th>\n",
       "      <td>2.154435</td>\n",
       "      <td>0.725</td>\n",
       "      <td>0.475</td>\n",
       "    </tr>\n",
       "    <tr>\n",
       "      <th>sub-xp108</th>\n",
       "      <td>0.021544</td>\n",
       "      <td>0.750</td>\n",
       "      <td>0.475</td>\n",
       "    </tr>\n",
       "    <tr>\n",
       "      <th>sub-xp109</th>\n",
       "      <td>2.154435</td>\n",
       "      <td>0.775</td>\n",
       "      <td>0.425</td>\n",
       "    </tr>\n",
       "    <tr>\n",
       "      <th>sub-xp110</th>\n",
       "      <td>0.464159</td>\n",
       "      <td>0.500</td>\n",
       "      <td>0.500</td>\n",
       "    </tr>\n",
       "  </tbody>\n",
       "</table>\n",
       "</div>"
      ],
      "text/plain": [
       "             svm__C  test score  baseline\n",
       "sub-xp101  0.021544       0.900     0.450\n",
       "sub-xp102  0.100000       0.650     0.450\n",
       "sub-xp103  0.464159       0.750     0.375\n",
       "sub-xp104  0.021544       0.775     0.500\n",
       "sub-xp105  0.100000       0.850     0.500\n",
       "sub-xp106  0.100000       0.650     0.500\n",
       "sub-xp107  2.154435       0.725     0.475\n",
       "sub-xp108  0.021544       0.750     0.475\n",
       "sub-xp109  2.154435       0.775     0.425\n",
       "sub-xp110  0.464159       0.500     0.500"
      ]
     },
     "execution_count": 134,
     "metadata": {},
     "output_type": "execute_result"
    }
   ],
   "source": [
    "# Display the results. \n",
    "svm_results"
   ]
  },
  {
   "cell_type": "code",
   "execution_count": 135,
   "metadata": {},
   "outputs": [
    {
     "data": {
      "image/png": "[encoded data removed]",
      "text/plain": [
       "<Figure size 1008x432 with 1 Axes>"
      ]
     },
     "metadata": {
      "needs_background": "light"
     },
     "output_type": "display_data"
    }
   ],
   "source": [
    "# Plot the results. \n",
    "plt.figure(figsize = ((14, 6)))\n",
    "plt.plot(svm_results[['test score']], label = 'test score')\n",
    "plt.plot(svm_results[['baseline']], label = 'baseline', color = 'green')\n",
    "plt.legend();"
   ]
  },
  {
   "cell_type": "markdown",
   "metadata": {},
   "source": [
    "**Result:** Overall, the SVM model using the combined EEG-fMRI data as predictors performs better than the baseline for our group of subjects. "
   ]
  },
  {
   "cell_type": "markdown",
   "metadata": {},
   "source": [
    "### **4.5 Logistic regression**\n",
    "\n",
    "In the following cells, we **fine-tune, fit and compute predictions from a logistic regression model**. "
   ]
  },
  {
   "cell_type": "code",
   "execution_count": 136,
   "metadata": {},
   "outputs": [
    {
     "data": {
      "text/plain": [
       "array([1.00000000e-07, 3.59381366e-06, 1.29154967e-04, 4.64158883e-03,\n",
       "       1.66810054e-01, 5.99484250e+00, 2.15443469e+02, 7.74263683e+03,\n",
       "       2.78255940e+05, 1.00000000e+07])"
      ]
     },
     "execution_count": 136,
     "metadata": {},
     "output_type": "execute_result"
    }
   ],
   "source": [
    "# Define the set of values to explore, where c is the C parameter. \n",
    "c_values = np.logspace(-7, 7, num = 10)\n",
    "c_values"
   ]
  },
  {
   "cell_type": "code",
   "execution_count": 137,
   "metadata": {},
   "outputs": [],
   "source": [
    "# Create pipeline. \n",
    "pipe_logreg = Pipeline([\n",
    "    ('scaler', StandardScaler()),\n",
    "    ('logreg', LogisticRegression())\n",
    "])\n",
    "\n",
    "# Create cross-validation object. \n",
    "grid_logreg = {\n",
    "    'logreg__multi_class': ['multinomial'],\n",
    "    'logreg__solver': ['saga'],\n",
    "    'logreg__C': c_values\n",
    "}\n",
    "grid_cv_logreg = GridSearchCV(pipe_logreg, grid_logreg, cv = 5, return_train_score = True, verbose = 0, n_jobs = -1)"
   ]
  },
  {
   "cell_type": "code",
   "execution_count": 138,
   "metadata": {},
   "outputs": [
    {
     "name": "stdout",
     "output_type": "stream",
     "text": [
      "Starting subject sub-xp101\n",
      "Starting subject sub-xp102\n",
      "Starting subject sub-xp103\n",
      "Starting subject sub-xp104\n",
      "Starting subject sub-xp105\n",
      "Starting subject sub-xp106\n",
      "Starting subject sub-xp107\n",
      "Starting subject sub-xp108\n",
      "Starting subject sub-xp109\n",
      "Starting subject sub-xp110\n"
     ]
    }
   ],
   "source": [
    "# Run the model. \n",
    "logreg_results = run_classification(grid_cv_logreg, 'logreg__C', predictors_EEG_fMRI, y)"
   ]
  },
  {
   "cell_type": "code",
   "execution_count": 139,
   "metadata": {},
   "outputs": [
    {
     "data": {
      "text/html": [
       "<div>\n",
       "<style scoped>\n",
       "    .dataframe tbody tr th:only-of-type {\n",
       "        vertical-align: middle;\n",
       "    }\n",
       "\n",
       "    .dataframe tbody tr th {\n",
       "        vertical-align: top;\n",
       "    }\n",
       "\n",
       "    .dataframe thead th {\n",
       "        text-align: right;\n",
       "    }\n",
       "</style>\n",
       "<table border=\"1\" class=\"dataframe\">\n",
       "  <thead>\n",
       "    <tr style=\"text-align: right;\">\n",
       "      <th></th>\n",
       "      <th>logreg__C</th>\n",
       "      <th>test score</th>\n",
       "      <th>baseline</th>\n",
       "    </tr>\n",
       "  </thead>\n",
       "  <tbody>\n",
       "    <tr>\n",
       "      <th>sub-xp101</th>\n",
       "      <td>0.166810</td>\n",
       "      <td>0.775</td>\n",
       "      <td>0.425</td>\n",
       "    </tr>\n",
       "    <tr>\n",
       "      <th>sub-xp102</th>\n",
       "      <td>0.004642</td>\n",
       "      <td>0.750</td>\n",
       "      <td>0.500</td>\n",
       "    </tr>\n",
       "    <tr>\n",
       "      <th>sub-xp103</th>\n",
       "      <td>0.166810</td>\n",
       "      <td>0.650</td>\n",
       "      <td>0.450</td>\n",
       "    </tr>\n",
       "    <tr>\n",
       "      <th>sub-xp104</th>\n",
       "      <td>5.994843</td>\n",
       "      <td>0.625</td>\n",
       "      <td>0.475</td>\n",
       "    </tr>\n",
       "    <tr>\n",
       "      <th>sub-xp105</th>\n",
       "      <td>5.994843</td>\n",
       "      <td>0.700</td>\n",
       "      <td>0.500</td>\n",
       "    </tr>\n",
       "    <tr>\n",
       "      <th>sub-xp106</th>\n",
       "      <td>0.004642</td>\n",
       "      <td>0.725</td>\n",
       "      <td>0.475</td>\n",
       "    </tr>\n",
       "    <tr>\n",
       "      <th>sub-xp107</th>\n",
       "      <td>0.166810</td>\n",
       "      <td>0.800</td>\n",
       "      <td>0.425</td>\n",
       "    </tr>\n",
       "    <tr>\n",
       "      <th>sub-xp108</th>\n",
       "      <td>0.004642</td>\n",
       "      <td>0.725</td>\n",
       "      <td>0.475</td>\n",
       "    </tr>\n",
       "    <tr>\n",
       "      <th>sub-xp109</th>\n",
       "      <td>0.004642</td>\n",
       "      <td>0.700</td>\n",
       "      <td>0.475</td>\n",
       "    </tr>\n",
       "    <tr>\n",
       "      <th>sub-xp110</th>\n",
       "      <td>0.004642</td>\n",
       "      <td>0.550</td>\n",
       "      <td>0.450</td>\n",
       "    </tr>\n",
       "  </tbody>\n",
       "</table>\n",
       "</div>"
      ],
      "text/plain": [
       "           logreg__C  test score  baseline\n",
       "sub-xp101   0.166810       0.775     0.425\n",
       "sub-xp102   0.004642       0.750     0.500\n",
       "sub-xp103   0.166810       0.650     0.450\n",
       "sub-xp104   5.994843       0.625     0.475\n",
       "sub-xp105   5.994843       0.700     0.500\n",
       "sub-xp106   0.004642       0.725     0.475\n",
       "sub-xp107   0.166810       0.800     0.425\n",
       "sub-xp108   0.004642       0.725     0.475\n",
       "sub-xp109   0.004642       0.700     0.475\n",
       "sub-xp110   0.004642       0.550     0.450"
      ]
     },
     "execution_count": 139,
     "metadata": {},
     "output_type": "execute_result"
    }
   ],
   "source": [
    "# Display the results. \n",
    "logreg_results"
   ]
  },
  {
   "cell_type": "code",
   "execution_count": 140,
   "metadata": {},
   "outputs": [
    {
     "data": {
      "image/png": "[encoded data removed]",
      "text/plain": [
       "<Figure size 1008x432 with 1 Axes>"
      ]
     },
     "metadata": {
      "needs_background": "light"
     },
     "output_type": "display_data"
    }
   ],
   "source": [
    "# Plot the results. \n",
    "plt.figure(figsize = ((14, 6)))\n",
    "plt.plot(logreg_results[['test score']], label = 'test score')\n",
    "plt.plot(logreg_results[['baseline']], label = 'baseline', color = 'green')\n",
    "plt.legend();"
   ]
  },
  {
   "cell_type": "markdown",
   "metadata": {},
   "source": [
    "**Result:** Overall, the logistic regression model using the combined EEG-fMRI data as predictors performs better than the baseline for our group of subjects. Now, we will explore further the predictions of our model for one particular subject. "
   ]
  },
  {
   "cell_type": "code",
   "execution_count": 141,
   "metadata": {},
   "outputs": [],
   "source": [
    "# Define an example subject. \n",
    "subject_index = subjects[0]\n",
    "\n",
    "# Get the C parameter for this subject. \n",
    "best_param_logreg = logreg_results.loc[subject_index, 'logreg__C']\n",
    "best_param_logreg\n",
    "\n",
    "# Retrieve the predictors for this subject. \n",
    "X = predictors_EEG_fMRI[subject_index]\n",
    "\n",
    "# Divide the data into a train set and a test set. \n",
    "X_tr, X_te, y_tr, y_te = train_test_split(X, y, test_size = test_set_proportion)"
   ]
  },
  {
   "cell_type": "code",
   "execution_count": 142,
   "metadata": {},
   "outputs": [
    {
     "data": {
      "text/plain": [
       "Pipeline(memory=None,\n",
       "     steps=[('scaler', StandardScaler(copy=True, with_mean=True, with_std=True)), ('logreg', LogisticRegression(C=0.1668100537200059, class_weight=None, dual=False,\n",
       "          fit_intercept=True, intercept_scaling=1, max_iter=100,\n",
       "          multi_class='multinomial', n_jobs=None, penalty='l2',\n",
       "          random_state=None, solver='saga', tol=0.0001, verbose=0,\n",
       "          warm_start=False))])"
      ]
     },
     "execution_count": 142,
     "metadata": {},
     "output_type": "execute_result"
    }
   ],
   "source": [
    "# Create pipeline. \n",
    "pipe_logreg_optimal = Pipeline([\n",
    "    ('scaler', StandardScaler()),\n",
    "    ('logreg', LogisticRegression(multi_class = 'multinomial', solver = 'saga', C = best_param_logreg))\n",
    "])\n",
    "\n",
    "# Fit optimal logistic regression. \n",
    "pipe_logreg_optimal.fit(X_tr, y_tr)"
   ]
  },
  {
   "cell_type": "code",
   "execution_count": 143,
   "metadata": {},
   "outputs": [
    {
     "data": {
      "text/plain": [
       "array([0, 1, 0, 0, 0, 1, 0, 1, 1, 0, 1, 0, 1, 0, 0, 0, 1, 0, 1, 0, 1, 1,\n",
       "       0, 1, 1, 1, 1, 1, 1, 1, 1, 0, 0, 1, 1, 1, 1, 1, 0, 1])"
      ]
     },
     "execution_count": 143,
     "metadata": {},
     "output_type": "execute_result"
    }
   ],
   "source": [
    "# Compute and display the predictions. \n",
    "y_pred_logreg = pipe_logreg_optimal.predict(X_te)\n",
    "y_pred_logreg"
   ]
  },
  {
   "cell_type": "code",
   "execution_count": 144,
   "metadata": {},
   "outputs": [
    {
     "data": {
      "text/html": [
       "<div>\n",
       "<style scoped>\n",
       "    .dataframe tbody tr th:only-of-type {\n",
       "        vertical-align: middle;\n",
       "    }\n",
       "\n",
       "    .dataframe tbody tr th {\n",
       "        vertical-align: top;\n",
       "    }\n",
       "\n",
       "    .dataframe thead th {\n",
       "        text-align: right;\n",
       "    }\n",
       "</style>\n",
       "<table border=\"1\" class=\"dataframe\">\n",
       "  <thead>\n",
       "    <tr style=\"text-align: right;\">\n",
       "      <th></th>\n",
       "      <th>0</th>\n",
       "      <th>1</th>\n",
       "      <th>2</th>\n",
       "      <th>3</th>\n",
       "      <th>4</th>\n",
       "      <th>5</th>\n",
       "      <th>6</th>\n",
       "      <th>7</th>\n",
       "      <th>8</th>\n",
       "      <th>9</th>\n",
       "      <th>...</th>\n",
       "      <th>30</th>\n",
       "      <th>31</th>\n",
       "      <th>32</th>\n",
       "      <th>33</th>\n",
       "      <th>34</th>\n",
       "      <th>35</th>\n",
       "      <th>36</th>\n",
       "      <th>37</th>\n",
       "      <th>38</th>\n",
       "      <th>39</th>\n",
       "    </tr>\n",
       "  </thead>\n",
       "  <tbody>\n",
       "    <tr>\n",
       "      <th>y_te</th>\n",
       "      <td>0</td>\n",
       "      <td>1</td>\n",
       "      <td>0</td>\n",
       "      <td>0</td>\n",
       "      <td>0</td>\n",
       "      <td>0</td>\n",
       "      <td>0</td>\n",
       "      <td>1</td>\n",
       "      <td>1</td>\n",
       "      <td>0</td>\n",
       "      <td>...</td>\n",
       "      <td>1</td>\n",
       "      <td>0</td>\n",
       "      <td>1</td>\n",
       "      <td>1</td>\n",
       "      <td>1</td>\n",
       "      <td>1</td>\n",
       "      <td>1</td>\n",
       "      <td>1</td>\n",
       "      <td>0</td>\n",
       "      <td>1</td>\n",
       "    </tr>\n",
       "    <tr>\n",
       "      <th>y_pred_logreg</th>\n",
       "      <td>0</td>\n",
       "      <td>1</td>\n",
       "      <td>0</td>\n",
       "      <td>0</td>\n",
       "      <td>0</td>\n",
       "      <td>1</td>\n",
       "      <td>0</td>\n",
       "      <td>1</td>\n",
       "      <td>1</td>\n",
       "      <td>0</td>\n",
       "      <td>...</td>\n",
       "      <td>1</td>\n",
       "      <td>0</td>\n",
       "      <td>0</td>\n",
       "      <td>1</td>\n",
       "      <td>1</td>\n",
       "      <td>1</td>\n",
       "      <td>1</td>\n",
       "      <td>1</td>\n",
       "      <td>0</td>\n",
       "      <td>1</td>\n",
       "    </tr>\n",
       "  </tbody>\n",
       "</table>\n",
       "<p>2 rows × 40 columns</p>\n",
       "</div>"
      ],
      "text/plain": [
       "               0   1   2   3   4   5   6   7   8   9   ...  30  31  32  33  \\\n",
       "y_te            0   1   0   0   0   0   0   1   1   0  ...   1   0   1   1   \n",
       "y_pred_logreg   0   1   0   0   0   1   0   1   1   0  ...   1   0   0   1   \n",
       "\n",
       "               34  35  36  37  38  39  \n",
       "y_te            1   1   1   1   0   1  \n",
       "y_pred_logreg   1   1   1   1   0   1  \n",
       "\n",
       "[2 rows x 40 columns]"
      ]
     },
     "execution_count": 144,
     "metadata": {},
     "output_type": "execute_result"
    }
   ],
   "source": [
    "# Compare the true and predicted target values. \n",
    "pred_comparison = pd.DataFrame([y_te, y_pred_logreg], index = ['y_te', 'y_pred_logreg']).T\n",
    "pred_comparison.T"
   ]
  },
  {
   "cell_type": "code",
   "execution_count": 145,
   "metadata": {},
   "outputs": [
    {
     "data": {
      "text/html": [
       "<div>\n",
       "<style scoped>\n",
       "    .dataframe tbody tr th:only-of-type {\n",
       "        vertical-align: middle;\n",
       "    }\n",
       "\n",
       "    .dataframe tbody tr th {\n",
       "        vertical-align: top;\n",
       "    }\n",
       "\n",
       "    .dataframe thead th {\n",
       "        text-align: right;\n",
       "    }\n",
       "</style>\n",
       "<table border=\"1\" class=\"dataframe\">\n",
       "  <thead>\n",
       "    <tr style=\"text-align: right;\">\n",
       "      <th>Predictions</th>\n",
       "      <th>rest</th>\n",
       "      <th>task</th>\n",
       "    </tr>\n",
       "    <tr>\n",
       "      <th>True class</th>\n",
       "      <th></th>\n",
       "      <th></th>\n",
       "    </tr>\n",
       "  </thead>\n",
       "  <tbody>\n",
       "    <tr>\n",
       "      <th>rest</th>\n",
       "      <td>13</td>\n",
       "      <td>6</td>\n",
       "    </tr>\n",
       "    <tr>\n",
       "      <th>task</th>\n",
       "      <td>3</td>\n",
       "      <td>18</td>\n",
       "    </tr>\n",
       "  </tbody>\n",
       "</table>\n",
       "</div>"
      ],
      "text/plain": [
       "Predictions  rest  task\n",
       "True class             \n",
       "rest           13     6\n",
       "task            3    18"
      ]
     },
     "execution_count": 145,
     "metadata": {},
     "output_type": "execute_result"
    }
   ],
   "source": [
    "# Rename the labels. \n",
    "y_te = np.array(['rest', 'task'])[y_te]\n",
    "y_pred_logreg = np.array(['rest', 'task'])[y_pred_logreg]\n",
    "\n",
    "# Display a Scikit-learn confusion matrix. \n",
    "confusion_matrix_logreg = scikit_learn_confusion_matrix(y_te, y_pred_logreg)\n",
    "confusion_matrix_logreg"
   ]
  },
  {
   "cell_type": "markdown",
   "metadata": {},
   "source": [
    "In the following cells, we explore the results from the logistic regression by analyzing the **probabilities computed for each target value**. In particular, we look at the predicted probability for the true target value. "
   ]
  },
  {
   "cell_type": "code",
   "execution_count": 146,
   "metadata": {},
   "outputs": [
    {
     "data": {
      "text/plain": [
       "array(['rest', 'task'], dtype='<U4')"
      ]
     },
     "execution_count": 146,
     "metadata": {},
     "output_type": "execute_result"
    }
   ],
   "source": [
    "# Get and display the encoding order. \n",
    "encoding_order = np.unique(y_te)\n",
    "encoding_order"
   ]
  },
  {
   "cell_type": "code",
   "execution_count": 147,
   "metadata": {},
   "outputs": [
    {
     "data": {
      "text/html": [
       "<div>\n",
       "<style scoped>\n",
       "    .dataframe tbody tr th:only-of-type {\n",
       "        vertical-align: middle;\n",
       "    }\n",
       "\n",
       "    .dataframe tbody tr th {\n",
       "        vertical-align: top;\n",
       "    }\n",
       "\n",
       "    .dataframe thead th {\n",
       "        text-align: right;\n",
       "    }\n",
       "</style>\n",
       "<table border=\"1\" class=\"dataframe\">\n",
       "  <thead>\n",
       "    <tr style=\"text-align: right;\">\n",
       "      <th></th>\n",
       "      <th>rest</th>\n",
       "      <th>task</th>\n",
       "      <th>predicted target</th>\n",
       "      <th>true target</th>\n",
       "      <th>probability of true target value</th>\n",
       "    </tr>\n",
       "  </thead>\n",
       "  <tbody>\n",
       "    <tr>\n",
       "      <th>0</th>\n",
       "      <td>0.8055</td>\n",
       "      <td>0.1945</td>\n",
       "      <td>rest</td>\n",
       "      <td>rest</td>\n",
       "      <td>0.8055</td>\n",
       "    </tr>\n",
       "    <tr>\n",
       "      <th>1</th>\n",
       "      <td>0.3690</td>\n",
       "      <td>0.6310</td>\n",
       "      <td>task</td>\n",
       "      <td>task</td>\n",
       "      <td>0.6310</td>\n",
       "    </tr>\n",
       "    <tr>\n",
       "      <th>2</th>\n",
       "      <td>0.9874</td>\n",
       "      <td>0.0126</td>\n",
       "      <td>rest</td>\n",
       "      <td>rest</td>\n",
       "      <td>0.9874</td>\n",
       "    </tr>\n",
       "    <tr>\n",
       "      <th>3</th>\n",
       "      <td>0.9785</td>\n",
       "      <td>0.0215</td>\n",
       "      <td>rest</td>\n",
       "      <td>rest</td>\n",
       "      <td>0.9785</td>\n",
       "    </tr>\n",
       "    <tr>\n",
       "      <th>4</th>\n",
       "      <td>0.8993</td>\n",
       "      <td>0.1007</td>\n",
       "      <td>rest</td>\n",
       "      <td>rest</td>\n",
       "      <td>0.8993</td>\n",
       "    </tr>\n",
       "    <tr>\n",
       "      <th>5</th>\n",
       "      <td>0.1826</td>\n",
       "      <td>0.8174</td>\n",
       "      <td>task</td>\n",
       "      <td>rest</td>\n",
       "      <td>0.1826</td>\n",
       "    </tr>\n",
       "    <tr>\n",
       "      <th>6</th>\n",
       "      <td>0.9880</td>\n",
       "      <td>0.0120</td>\n",
       "      <td>rest</td>\n",
       "      <td>rest</td>\n",
       "      <td>0.9880</td>\n",
       "    </tr>\n",
       "    <tr>\n",
       "      <th>7</th>\n",
       "      <td>0.0700</td>\n",
       "      <td>0.9300</td>\n",
       "      <td>task</td>\n",
       "      <td>task</td>\n",
       "      <td>0.9300</td>\n",
       "    </tr>\n",
       "    <tr>\n",
       "      <th>8</th>\n",
       "      <td>0.1003</td>\n",
       "      <td>0.8997</td>\n",
       "      <td>task</td>\n",
       "      <td>task</td>\n",
       "      <td>0.8997</td>\n",
       "    </tr>\n",
       "    <tr>\n",
       "      <th>9</th>\n",
       "      <td>0.9970</td>\n",
       "      <td>0.0030</td>\n",
       "      <td>rest</td>\n",
       "      <td>rest</td>\n",
       "      <td>0.9970</td>\n",
       "    </tr>\n",
       "    <tr>\n",
       "      <th>10</th>\n",
       "      <td>0.0864</td>\n",
       "      <td>0.9136</td>\n",
       "      <td>task</td>\n",
       "      <td>task</td>\n",
       "      <td>0.9136</td>\n",
       "    </tr>\n",
       "    <tr>\n",
       "      <th>11</th>\n",
       "      <td>0.9990</td>\n",
       "      <td>0.0010</td>\n",
       "      <td>rest</td>\n",
       "      <td>rest</td>\n",
       "      <td>0.9990</td>\n",
       "    </tr>\n",
       "    <tr>\n",
       "      <th>12</th>\n",
       "      <td>0.2329</td>\n",
       "      <td>0.7671</td>\n",
       "      <td>task</td>\n",
       "      <td>rest</td>\n",
       "      <td>0.2329</td>\n",
       "    </tr>\n",
       "    <tr>\n",
       "      <th>13</th>\n",
       "      <td>0.5183</td>\n",
       "      <td>0.4817</td>\n",
       "      <td>rest</td>\n",
       "      <td>task</td>\n",
       "      <td>0.4817</td>\n",
       "    </tr>\n",
       "    <tr>\n",
       "      <th>14</th>\n",
       "      <td>0.5594</td>\n",
       "      <td>0.4406</td>\n",
       "      <td>rest</td>\n",
       "      <td>task</td>\n",
       "      <td>0.4406</td>\n",
       "    </tr>\n",
       "    <tr>\n",
       "      <th>15</th>\n",
       "      <td>0.8956</td>\n",
       "      <td>0.1044</td>\n",
       "      <td>rest</td>\n",
       "      <td>rest</td>\n",
       "      <td>0.8956</td>\n",
       "    </tr>\n",
       "    <tr>\n",
       "      <th>16</th>\n",
       "      <td>0.4715</td>\n",
       "      <td>0.5285</td>\n",
       "      <td>task</td>\n",
       "      <td>rest</td>\n",
       "      <td>0.4715</td>\n",
       "    </tr>\n",
       "    <tr>\n",
       "      <th>17</th>\n",
       "      <td>0.9643</td>\n",
       "      <td>0.0357</td>\n",
       "      <td>rest</td>\n",
       "      <td>rest</td>\n",
       "      <td>0.9643</td>\n",
       "    </tr>\n",
       "    <tr>\n",
       "      <th>18</th>\n",
       "      <td>0.0159</td>\n",
       "      <td>0.9841</td>\n",
       "      <td>task</td>\n",
       "      <td>task</td>\n",
       "      <td>0.9841</td>\n",
       "    </tr>\n",
       "    <tr>\n",
       "      <th>19</th>\n",
       "      <td>0.9480</td>\n",
       "      <td>0.0520</td>\n",
       "      <td>rest</td>\n",
       "      <td>rest</td>\n",
       "      <td>0.9480</td>\n",
       "    </tr>\n",
       "    <tr>\n",
       "      <th>20</th>\n",
       "      <td>0.1756</td>\n",
       "      <td>0.8244</td>\n",
       "      <td>task</td>\n",
       "      <td>rest</td>\n",
       "      <td>0.1756</td>\n",
       "    </tr>\n",
       "    <tr>\n",
       "      <th>21</th>\n",
       "      <td>0.0119</td>\n",
       "      <td>0.9881</td>\n",
       "      <td>task</td>\n",
       "      <td>rest</td>\n",
       "      <td>0.0119</td>\n",
       "    </tr>\n",
       "    <tr>\n",
       "      <th>22</th>\n",
       "      <td>0.5329</td>\n",
       "      <td>0.4671</td>\n",
       "      <td>rest</td>\n",
       "      <td>rest</td>\n",
       "      <td>0.5329</td>\n",
       "    </tr>\n",
       "    <tr>\n",
       "      <th>23</th>\n",
       "      <td>0.3527</td>\n",
       "      <td>0.6473</td>\n",
       "      <td>task</td>\n",
       "      <td>task</td>\n",
       "      <td>0.6473</td>\n",
       "    </tr>\n",
       "    <tr>\n",
       "      <th>24</th>\n",
       "      <td>0.0326</td>\n",
       "      <td>0.9674</td>\n",
       "      <td>task</td>\n",
       "      <td>task</td>\n",
       "      <td>0.9674</td>\n",
       "    </tr>\n",
       "    <tr>\n",
       "      <th>25</th>\n",
       "      <td>0.1322</td>\n",
       "      <td>0.8678</td>\n",
       "      <td>task</td>\n",
       "      <td>task</td>\n",
       "      <td>0.8678</td>\n",
       "    </tr>\n",
       "    <tr>\n",
       "      <th>26</th>\n",
       "      <td>0.4741</td>\n",
       "      <td>0.5259</td>\n",
       "      <td>task</td>\n",
       "      <td>task</td>\n",
       "      <td>0.5259</td>\n",
       "    </tr>\n",
       "    <tr>\n",
       "      <th>27</th>\n",
       "      <td>0.3596</td>\n",
       "      <td>0.6404</td>\n",
       "      <td>task</td>\n",
       "      <td>rest</td>\n",
       "      <td>0.3596</td>\n",
       "    </tr>\n",
       "    <tr>\n",
       "      <th>28</th>\n",
       "      <td>0.1753</td>\n",
       "      <td>0.8247</td>\n",
       "      <td>task</td>\n",
       "      <td>task</td>\n",
       "      <td>0.8247</td>\n",
       "    </tr>\n",
       "    <tr>\n",
       "      <th>29</th>\n",
       "      <td>0.1937</td>\n",
       "      <td>0.8063</td>\n",
       "      <td>task</td>\n",
       "      <td>task</td>\n",
       "      <td>0.8063</td>\n",
       "    </tr>\n",
       "    <tr>\n",
       "      <th>30</th>\n",
       "      <td>0.2390</td>\n",
       "      <td>0.7610</td>\n",
       "      <td>task</td>\n",
       "      <td>task</td>\n",
       "      <td>0.7610</td>\n",
       "    </tr>\n",
       "    <tr>\n",
       "      <th>31</th>\n",
       "      <td>0.9585</td>\n",
       "      <td>0.0415</td>\n",
       "      <td>rest</td>\n",
       "      <td>rest</td>\n",
       "      <td>0.9585</td>\n",
       "    </tr>\n",
       "    <tr>\n",
       "      <th>32</th>\n",
       "      <td>0.5298</td>\n",
       "      <td>0.4702</td>\n",
       "      <td>rest</td>\n",
       "      <td>task</td>\n",
       "      <td>0.4702</td>\n",
       "    </tr>\n",
       "    <tr>\n",
       "      <th>33</th>\n",
       "      <td>0.1279</td>\n",
       "      <td>0.8721</td>\n",
       "      <td>task</td>\n",
       "      <td>task</td>\n",
       "      <td>0.8721</td>\n",
       "    </tr>\n",
       "    <tr>\n",
       "      <th>34</th>\n",
       "      <td>0.3520</td>\n",
       "      <td>0.6480</td>\n",
       "      <td>task</td>\n",
       "      <td>task</td>\n",
       "      <td>0.6480</td>\n",
       "    </tr>\n",
       "    <tr>\n",
       "      <th>35</th>\n",
       "      <td>0.4053</td>\n",
       "      <td>0.5947</td>\n",
       "      <td>task</td>\n",
       "      <td>task</td>\n",
       "      <td>0.5947</td>\n",
       "    </tr>\n",
       "    <tr>\n",
       "      <th>36</th>\n",
       "      <td>0.2393</td>\n",
       "      <td>0.7607</td>\n",
       "      <td>task</td>\n",
       "      <td>task</td>\n",
       "      <td>0.7607</td>\n",
       "    </tr>\n",
       "    <tr>\n",
       "      <th>37</th>\n",
       "      <td>0.0980</td>\n",
       "      <td>0.9020</td>\n",
       "      <td>task</td>\n",
       "      <td>task</td>\n",
       "      <td>0.9020</td>\n",
       "    </tr>\n",
       "    <tr>\n",
       "      <th>38</th>\n",
       "      <td>0.8095</td>\n",
       "      <td>0.1905</td>\n",
       "      <td>rest</td>\n",
       "      <td>rest</td>\n",
       "      <td>0.8095</td>\n",
       "    </tr>\n",
       "    <tr>\n",
       "      <th>39</th>\n",
       "      <td>0.1314</td>\n",
       "      <td>0.8686</td>\n",
       "      <td>task</td>\n",
       "      <td>task</td>\n",
       "      <td>0.8686</td>\n",
       "    </tr>\n",
       "  </tbody>\n",
       "</table>\n",
       "</div>"
      ],
      "text/plain": [
       "      rest    task predicted target true target  \\\n",
       "0   0.8055  0.1945             rest        rest   \n",
       "1   0.3690  0.6310             task        task   \n",
       "2   0.9874  0.0126             rest        rest   \n",
       "3   0.9785  0.0215             rest        rest   \n",
       "4   0.8993  0.1007             rest        rest   \n",
       "5   0.1826  0.8174             task        rest   \n",
       "6   0.9880  0.0120             rest        rest   \n",
       "7   0.0700  0.9300             task        task   \n",
       "8   0.1003  0.8997             task        task   \n",
       "9   0.9970  0.0030             rest        rest   \n",
       "10  0.0864  0.9136             task        task   \n",
       "11  0.9990  0.0010             rest        rest   \n",
       "12  0.2329  0.7671             task        rest   \n",
       "13  0.5183  0.4817             rest        task   \n",
       "14  0.5594  0.4406             rest        task   \n",
       "15  0.8956  0.1044             rest        rest   \n",
       "16  0.4715  0.5285             task        rest   \n",
       "17  0.9643  0.0357             rest        rest   \n",
       "18  0.0159  0.9841             task        task   \n",
       "19  0.9480  0.0520             rest        rest   \n",
       "20  0.1756  0.8244             task        rest   \n",
       "21  0.0119  0.9881             task        rest   \n",
       "22  0.5329  0.4671             rest        rest   \n",
       "23  0.3527  0.6473             task        task   \n",
       "24  0.0326  0.9674             task        task   \n",
       "25  0.1322  0.8678             task        task   \n",
       "26  0.4741  0.5259             task        task   \n",
       "27  0.3596  0.6404             task        rest   \n",
       "28  0.1753  0.8247             task        task   \n",
       "29  0.1937  0.8063             task        task   \n",
       "30  0.2390  0.7610             task        task   \n",
       "31  0.9585  0.0415             rest        rest   \n",
       "32  0.5298  0.4702             rest        task   \n",
       "33  0.1279  0.8721             task        task   \n",
       "34  0.3520  0.6480             task        task   \n",
       "35  0.4053  0.5947             task        task   \n",
       "36  0.2393  0.7607             task        task   \n",
       "37  0.0980  0.9020             task        task   \n",
       "38  0.8095  0.1905             rest        rest   \n",
       "39  0.1314  0.8686             task        task   \n",
       "\n",
       "    probability of true target value  \n",
       "0                             0.8055  \n",
       "1                             0.6310  \n",
       "2                             0.9874  \n",
       "3                             0.9785  \n",
       "4                             0.8993  \n",
       "5                             0.1826  \n",
       "6                             0.9880  \n",
       "7                             0.9300  \n",
       "8                             0.8997  \n",
       "9                             0.9970  \n",
       "10                            0.9136  \n",
       "11                            0.9990  \n",
       "12                            0.2329  \n",
       "13                            0.4817  \n",
       "14                            0.4406  \n",
       "15                            0.8956  \n",
       "16                            0.4715  \n",
       "17                            0.9643  \n",
       "18                            0.9841  \n",
       "19                            0.9480  \n",
       "20                            0.1756  \n",
       "21                            0.0119  \n",
       "22                            0.5329  \n",
       "23                            0.6473  \n",
       "24                            0.9674  \n",
       "25                            0.8678  \n",
       "26                            0.5259  \n",
       "27                            0.3596  \n",
       "28                            0.8247  \n",
       "29                            0.8063  \n",
       "30                            0.7610  \n",
       "31                            0.9585  \n",
       "32                            0.4702  \n",
       "33                            0.8721  \n",
       "34                            0.6480  \n",
       "35                            0.5947  \n",
       "36                            0.7607  \n",
       "37                            0.9020  \n",
       "38                            0.8095  \n",
       "39                            0.8686  "
      ]
     },
     "execution_count": 147,
     "metadata": {},
     "output_type": "execute_result"
    }
   ],
   "source": [
    "# Compute the probabilities and convert them into a DataFrame with the appropriate column order. \n",
    "logreg_probabilities = np.round(pipe_logreg_optimal.predict_proba(X_te), 4)\n",
    "logreg_probabilities = pd.DataFrame(logreg_probabilities, columns = encoding_order)\n",
    "logreg_probabilities = logreg_probabilities[['rest', 'task']]\n",
    "\n",
    "# Add the predicted and true target values. \n",
    "logreg_probabilities['predicted target'] = y_pred_logreg\n",
    "logreg_probabilities['true target'] = y_te\n",
    "\n",
    "# Compute the predicted probability for the true target value. \n",
    "for index in range(0, logreg_probabilities.shape[0]):\n",
    "    logreg_probabilities.loc[index, 'probability of true target value'] = logreg_probabilities.loc[index, y_te[index]]\n",
    "\n",
    "# Display the DataFrame. \n",
    "logreg_probabilities"
   ]
  },
  {
   "cell_type": "code",
   "execution_count": 148,
   "metadata": {},
   "outputs": [
    {
     "data": {
      "image/png": "[encoded data removed]",
      "text/plain": [
       "<Figure size 432x288 with 1 Axes>"
      ]
     },
     "metadata": {
      "needs_background": "light"
     },
     "output_type": "display_data"
    }
   ],
   "source": [
    "# Display the predicted probability for the true target value, sorted in ascending order. \n",
    "plt.scatter(range(0, logreg_probabilities.shape[0]), logreg_probabilities['probability of true target value'].sort_values());\n",
    "plt.ylabel('Probability')\n",
    "plt.title('Predicted probability for the true target value');"
   ]
  },
  {
   "cell_type": "markdown",
   "metadata": {},
   "source": [
    "As we can see, the probability distribution is different when we use the combined EEG-fMRI data as predictors, in comparison with the EEG bandpowers alone. For a large proportion of data points, we have now a **high predicted probability** for the true target value. "
   ]
  },
  {
   "cell_type": "code",
   "execution_count": 149,
   "metadata": {},
   "outputs": [],
   "source": [
    "# Save the results into a .npz file. \n",
    "np.savez(results_path + 'classification_with_combined_EEG_fMRI_predictors_all_subjects.npz', \n",
    "         knn_results = knn_results, \n",
    "         dt_results = dt_results, \n",
    "         rf_results = rf_results, \n",
    "         svm_results = svm_results, \n",
    "         logreg_results = logreg_results, \n",
    "         logreg_probabilities = logreg_probabilities)"
   ]
  },
  {
   "cell_type": "code",
   "execution_count": null,
   "metadata": {},
   "outputs": [],
   "source": []
  }
 ],
 "metadata": {
  "kernelspec": {
   "display_name": "Python 3",
   "language": "python",
   "name": "python3"
  },
  "language_info": {
   "codemirror_mode": {
    "name": "ipython",
    "version": 3
   },
   "file_extension": ".py",
   "mimetype": "text/x-python",
   "name": "python",
   "nbconvert_exporter": "python",
   "pygments_lexer": "ipython3",
   "version": "3.6.11"
  }
 },
 "nbformat": 4,
 "nbformat_minor": 4
}
